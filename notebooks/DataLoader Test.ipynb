{
 "cells": [
  {
   "cell_type": "code",
   "execution_count": 1,
   "id": "ca322c36-c8f8-416e-a417-8271c7da04e5",
   "metadata": {},
   "outputs": [],
   "source": [
    "import matplotlib.pyplot as plt\n",
    "import numpy as np"
   ]
  },
  {
   "cell_type": "code",
   "execution_count": 2,
   "id": "6c93d9e9-02e6-4036-9f7e-ed544d0f4637",
   "metadata": {},
   "outputs": [],
   "source": [
    "import sys\n",
    "sys.path.insert(1, '/home/buehlern/Documents/Masterarbeit/models')\n",
    "from src.data.mri_datamodule import MRIDataModule"
   ]
  },
  {
   "cell_type": "code",
   "execution_count": 28,
   "id": "0b29c21a-eb7a-44da-982f-940570cb2f0c",
   "metadata": {},
   "outputs": [
    {
     "name": "stdout",
     "output_type": "stream",
     "text": [
      "Using label bodypart as stratification_target\n",
      "Initializing MRIDatasetBase...\n",
      "Loading dataframe from /home/buehlern/Documents/Masterarbeit/data/df_min_ft_pt_1k.pkl...\n",
      "MRIDatasetBase(len=1000) initialized\n",
      "Getting train indices...\n",
      "Done. Train len: 781\n",
      "Getting val indices...\n",
      "Done. Val len: 79\n",
      "Getting test indices...\n",
      "WARN: Including test data\n",
      "Done. Test len: 140\n",
      "Initializing train dataset...\n",
      "Done.\n",
      "Initializing val dataset...\n",
      "Done.\n",
      "Initializing test dataset...\n",
      "Done.\n"
     ]
    }
   ],
   "source": [
    "patch_size = 48\n",
    "mri_datamodule = MRIDataModule(\n",
    "    batch_size=1, num_workers=1, persistent_workers=True, pin_memory=False,\n",
    "    df_name='df_min_ft_pt_1k',\n",
    "    train_augmentations=True,\n",
    "    fix_inverted=True,\n",
    "    pad_to_multiple_of=48,\n",
    "    val_size=0.1,\n",
    "    test_size=0.15\n",
    ")"
   ]
  },
  {
   "cell_type": "code",
   "execution_count": 56,
   "id": "6def6c95-e500-4a0c-9c3a-fb79f7e85066",
   "metadata": {},
   "outputs": [],
   "source": [
    "def inspect_item(item):\n",
    "    img = item[0]\n",
    "    lbl = item[1]\n",
    "    print(img)\n",
    "    print(img.shape)\n",
    "    print(img.shape[1] / patch_size, img.shape[2] / patch_size)\n",
    "    print(lbl)\n",
    "    plt.imshow(img.squeeze(0).permute(1, 2, 0), cmap=plt.cm.bone)"
   ]
  },
  {
   "cell_type": "code",
   "execution_count": 30,
   "id": "2837756b-9f27-41cb-acfc-acd6d0d43c0d",
   "metadata": {},
   "outputs": [],
   "source": [
    "def inspect_next_items(num, dl_iter):\n",
    "    fig, axes = plt.subplots(1, num, figsize=(6*num, 6))\n",
    "\n",
    "    if num > 1:\n",
    "        for i in range(num):\n",
    "            item = next(dl_iter)\n",
    "            image = item[0]\n",
    "            patch_w = image.shape[1] / patch_size\n",
    "            patch_h = image.shape[2] / patch_size\n",
    "            label = item[1]\n",
    "            axes[i].imshow(image.permute(1, 2, 0), cmap=plt.cm.bone)\n",
    "            axes[i].set_title('label: ' + str(label) + ', patch_shape: (' + str(patch_w) + ', ' + str(patch_h) + ')')\n",
    "            #axes[i].axis('off')\n",
    "    \n",
    "    #plt.savefig(str(patient_id) + '_series.png')\n",
    "    plt.show()"
   ]
  },
  {
   "cell_type": "code",
   "execution_count": 50,
   "id": "20b336c3-4db1-4cb9-a0bf-74427f1e1b68",
   "metadata": {},
   "outputs": [
    {
     "name": "stdout",
     "output_type": "stream",
     "text": [
      "DataLoader length 781\n"
     ]
    },
    {
     "name": "stderr",
     "output_type": "stream",
     "text": [
      "/home/buehlern/.local/lib/python3.10/site-packages/torchio/data/image.py:251: UserWarning: Using TorchIO images without a torchio.SubjectsLoader in PyTorch >= 2.3 might have unexpected consequences, e.g., the collated batches will be instances of torchio.Subject with 5D images. Replace your PyTorch DataLoader with a torchio.SubjectsLoader so that the collated batch becomes a dictionary, as expected. See https://github.com/fepegar/torchio/issues/1179 for more context about this issue.\n",
      "  warnings.warn(message, stacklevel=1)\n"
     ]
    }
   ],
   "source": [
    "train = iter(mri_datamodule.train_dataloader())"
   ]
  },
  {
   "cell_type": "code",
   "execution_count": null,
   "id": "ec55b855-9ea9-4fd8-9688-b325ccba0339",
   "metadata": {},
   "outputs": [],
   "source": [
    "inspect_item(next(train))"
   ]
  }
 ],
 "metadata": {
  "kernelspec": {
   "display_name": "Python 3 (ipykernel)",
   "language": "python",
   "name": "python3"
  },
  "language_info": {
   "codemirror_mode": {
    "name": "ipython",
    "version": 3
   },
   "file_extension": ".py",
   "mimetype": "text/x-python",
   "name": "python",
   "nbconvert_exporter": "python",
   "pygments_lexer": "ipython3",
   "version": "3.10.12"
  }
 },
 "nbformat": 4,
 "nbformat_minor": 5
}
