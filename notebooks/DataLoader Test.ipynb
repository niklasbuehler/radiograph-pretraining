{
 "cells": [
  {
   "cell_type": "code",
   "execution_count": 1,
   "id": "ca322c36-c8f8-416e-a417-8271c7da04e5",
   "metadata": {},
   "outputs": [],
   "source": [
    "import matplotlib.pyplot as plt\n",
    "import numpy as np"
   ]
  },
  {
   "cell_type": "code",
   "execution_count": 2,
   "id": "6c93d9e9-02e6-4036-9f7e-ed544d0f4637",
   "metadata": {},
   "outputs": [],
   "source": [
    "import sys\n",
    "sys.path.insert(1, '/home/buehlern/Documents/Masterarbeit/models')\n",
    "from src.data.mri_datamodule import MRIDataModule"
   ]
  },
  {
   "cell_type": "code",
   "execution_count": 3,
   "id": "0b29c21a-eb7a-44da-982f-940570cb2f0c",
   "metadata": {},
   "outputs": [
    {
     "name": "stdout",
     "output_type": "stream",
     "text": [
      "initializing MRIDatasetBase ...\n",
      "reading /home/buehlern/Documents/Masterarbeit/data/clean_df_slim.pkl file ...\n",
      "PATH /home/buehlern/Documents/Masterarbeit/data/BodyPartExamined_mappings_mergemore.json\n",
      "/home/buehlern/Documents/Masterarbeit/data/cache-full/df_labelcomparison.pkl does not exit --> no items excluded by it\n",
      "MRIDatasetBase(len=639877) initialized\n",
      "\n",
      "initializing MRIDataset(mode=train) ...\n",
      "MRIDataset(mode=train, len=409910) initialized\n",
      "\n",
      "initializing MRIDataset(mode=val) ...\n",
      "MRIDataset(mode=val, len=102055) initialized\n",
      "\n",
      "initializing MRIDataset(mode=test) ...\n",
      "WARN: including test data\n",
      "MRIDataset(mode=test, len=127912) initialized\n",
      "initializing MRIDatasetBase ...\n",
      "reading /home/buehlern/Documents/Masterarbeit/data/clean_df_slim.pkl file ...\n",
      "PATH /home/buehlern/Documents/Masterarbeit/data/BodyPartExamined_mappings_mergemore.json\n",
      "/home/buehlern/Documents/Masterarbeit/data/cache-full/df_labelcomparison.pkl does not exit --> no items excluded by it\n",
      "MRIDatasetBase(len=639877) initialized\n",
      "\n",
      "initializing MRIDataset(mode=train) ...\n",
      "MRIDataset(mode=train, len=409910) initialized\n",
      "\n",
      "initializing MRIDataset(mode=val) ...\n",
      "MRIDataset(mode=val, len=102055) initialized\n",
      "\n",
      "initializing MRIDataset(mode=test) ...\n",
      "WARN: including test data\n",
      "MRIDataset(mode=test, len=127912) initialized\n"
     ]
    }
   ],
   "source": [
    "patch_size = 48\n",
    "mri_datamodule_null = MRIDataModule(image_size = None, square = False, pad_to_multiple_of = None, output_channels = 1,\n",
    "                               cache = False, fix_inverted = False)\n",
    "mri_datamodule = MRIDataModule(image_size = None, square = False, pad_to_multiple_of = patch_size, output_channels = 1,\n",
    "                               cache = False, fix_inverted = True)"
   ]
  },
  {
   "cell_type": "code",
   "execution_count": 4,
   "id": "6def6c95-e500-4a0c-9c3a-fb79f7e85066",
   "metadata": {},
   "outputs": [],
   "source": [
    "def inspect_item(i, dl):\n",
    "    item = dl[i]\n",
    "    img = item[0]\n",
    "    lbl = item[1]\n",
    "    print(img)\n",
    "    print(img.shape)\n",
    "    print(img.shape[1] / patch_size, img.shape[2] / patch_size)\n",
    "    print(lbl)\n",
    "    plt.imshow(img.permute(1, 2, 0), cmap=plt.cm.bone)"
   ]
  },
  {
   "cell_type": "code",
   "execution_count": 5,
   "id": "2837756b-9f27-41cb-acfc-acd6d0d43c0d",
   "metadata": {},
   "outputs": [],
   "source": [
    "def inspect_next_items(num, dl_iter):\n",
    "    fig, axes = plt.subplots(1, num, figsize=(6*num, 6))\n",
    "\n",
    "    if num > 1:\n",
    "        for i in range(num):\n",
    "            item = next(dl_iter)\n",
    "            image = item[0]\n",
    "            patch_w = image.shape[1] / patch_size\n",
    "            patch_h = image.shape[2] / patch_size\n",
    "            label = item[1]\n",
    "            axes[i].imshow(image.permute(1, 2, 0), cmap=plt.cm.bone)\n",
    "            axes[i].set_title('label: ' + str(label) + ', patch_shape: (' + str(patch_w) + ', ' + str(patch_h) + ')')\n",
    "            #axes[i].axis('off')\n",
    "    \n",
    "    #plt.savefig(str(patient_id) + '_series.png')\n",
    "    plt.show()"
   ]
  },
  {
   "cell_type": "code",
   "execution_count": 6,
   "id": "20b336c3-4db1-4cb9-a0bf-74427f1e1b68",
   "metadata": {},
   "outputs": [],
   "source": [
    "dl_iter_null = iter(mri_datamodule_null.data_train)\n",
    "dl_iter = iter(mri_datamodule.data_train)"
   ]
  },
  {
   "cell_type": "code",
   "execution_count": null,
   "id": "ca141cf4-d283-448f-a4f5-b9cb4ac6e485",
   "metadata": {
    "scrolled": true
   },
   "outputs": [],
   "source": [
    "inspect_next_items(5, dl_iter_null)"
   ]
  },
  {
   "cell_type": "code",
   "execution_count": null,
   "id": "5885076e-332a-4ce2-a788-8a53cd2b2587",
   "metadata": {},
   "outputs": [],
   "source": [
    "inspect_next_items(5, dl_iter)"
   ]
  },
  {
   "cell_type": "code",
   "execution_count": null,
   "id": "925f204a-374f-4389-89ef-6c368f8e1ab2",
   "metadata": {},
   "outputs": [],
   "source": [
    "inspect_next_items(5, dl_iter_null)"
   ]
  },
  {
   "cell_type": "code",
   "execution_count": null,
   "id": "928957c8-5428-40b9-89de-115100b98eb3",
   "metadata": {},
   "outputs": [],
   "source": [
    "inspect_next_items(5, dl_iter)"
   ]
  },
  {
   "cell_type": "code",
   "execution_count": null,
   "id": "492ef28d-bf8a-4f40-a925-3f8a9fdca7f6",
   "metadata": {},
   "outputs": [],
   "source": [
    "inspect_next_items(5, dl_iter_null)"
   ]
  },
  {
   "cell_type": "code",
   "execution_count": null,
   "id": "5234c516-bcd2-4542-af6a-711ef5b62481",
   "metadata": {},
   "outputs": [],
   "source": [
    "inspect_next_items(5, dl_iter)"
   ]
  },
  {
   "cell_type": "code",
   "execution_count": null,
   "id": "e7f59bae-35e9-4f12-96d6-231222d5b158",
   "metadata": {},
   "outputs": [],
   "source": [
    "inspect_next_items(5, dl_iter_null)"
   ]
  },
  {
   "cell_type": "code",
   "execution_count": null,
   "id": "a08c3e2c-3168-4574-a718-363e426bc7bc",
   "metadata": {},
   "outputs": [],
   "source": [
    "inspect_next_items(5, dl_iter)"
   ]
  },
  {
   "cell_type": "code",
   "execution_count": null,
   "id": "a4f6cbde-9cb2-45d1-a80a-cf6353821bcc",
   "metadata": {},
   "outputs": [],
   "source": [
    "inspect_next_items(5, dl_iter_null)"
   ]
  },
  {
   "cell_type": "code",
   "execution_count": null,
   "id": "6e01e97c-8dcc-48b4-b9cf-79579fe19fba",
   "metadata": {},
   "outputs": [],
   "source": [
    "inspect_next_items(5, dl_iter)"
   ]
  },
  {
   "cell_type": "code",
   "execution_count": null,
   "id": "ceb5d0bc-9751-4b25-9f61-2c4f9862aa07",
   "metadata": {},
   "outputs": [],
   "source": [
    "inspect_next_items(5, dl_iter_null)"
   ]
  },
  {
   "cell_type": "code",
   "execution_count": null,
   "id": "47482810-43ec-4254-abec-f20ad9b500b5",
   "metadata": {
    "scrolled": true
   },
   "outputs": [],
   "source": [
    "inspect_next_items(5, dl_iter)"
   ]
  },
  {
   "cell_type": "code",
   "execution_count": null,
   "id": "e3cb34b4-7939-4b54-a270-2ff3d2194eee",
   "metadata": {},
   "outputs": [],
   "source": [
    "inspect_next_items(5, dl_iter_null)"
   ]
  },
  {
   "cell_type": "code",
   "execution_count": null,
   "id": "2008fc31-6c88-4ab1-98de-6c359f29081f",
   "metadata": {
    "scrolled": true
   },
   "outputs": [],
   "source": [
    "inspect_next_items(5, dl_iter)"
   ]
  }
 ],
 "metadata": {
  "kernelspec": {
   "display_name": "Python 3 (ipykernel)",
   "language": "python",
   "name": "python3"
  },
  "language_info": {
   "codemirror_mode": {
    "name": "ipython",
    "version": 3
   },
   "file_extension": ".py",
   "mimetype": "text/x-python",
   "name": "python",
   "nbconvert_exporter": "python",
   "pygments_lexer": "ipython3",
   "version": "3.8.10"
  }
 },
 "nbformat": 4,
 "nbformat_minor": 5
}
