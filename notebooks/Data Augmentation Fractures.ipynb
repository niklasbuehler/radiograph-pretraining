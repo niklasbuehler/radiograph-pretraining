{
 "cells": [
  {
   "cell_type": "code",
   "execution_count": 1,
   "id": "8df0251c-8a37-4610-8e18-417e2e816024",
   "metadata": {},
   "outputs": [],
   "source": [
    "from pathlib import Path\n",
    "import torch\n",
    "import pandas as pd\n",
    "import stat\n",
    "import numbers\n",
    "import pydicom\n",
    "import numpy as np\n",
    "from tqdm import tqdm\n",
    "from collections import Counter\n",
    "import re\n",
    "import os\n",
    "from PIL import Image\n",
    "from matplotlib import pyplot as plt\n",
    "from pydicom_PIL import get_PIL_image"
   ]
  },
  {
   "cell_type": "code",
   "execution_count": 2,
   "id": "9bb80659-75e1-40d9-8d41-acc90337ccfb",
   "metadata": {},
   "outputs": [
    {
     "data": {
      "text/plain": [
       "PosixPath('/home/buehlern/Documents/Masterarbeit/notebooks')"
      ]
     },
     "execution_count": 2,
     "metadata": {},
     "output_type": "execute_result"
    }
   ],
   "source": [
    "Path().resolve()"
   ]
  },
  {
   "cell_type": "code",
   "execution_count": 3,
   "id": "53edecd0-2796-4048-a5fa-5dfcd682c4ae",
   "metadata": {},
   "outputs": [],
   "source": [
    "pd.options.display.max_columns = None"
   ]
  },
  {
   "cell_type": "markdown",
   "id": "0ff901bd-bcae-4e9a-852e-917bd1e4858b",
   "metadata": {},
   "source": [
    "# Load Clean Slim Dataframe"
   ]
  },
  {
   "cell_type": "code",
   "execution_count": 4,
   "id": "b11f23bb-8a29-4f19-9755-e3e14781fecf",
   "metadata": {},
   "outputs": [],
   "source": [
    "df_loc = Path('cache/clean_df_slim.pkl')\n",
    "df = pd.read_pickle(df_loc)"
   ]
  },
  {
   "cell_type": "code",
   "execution_count": null,
   "id": "d2848005-63ff-4298-a7e3-57c105f2d0a9",
   "metadata": {
    "scrolled": true
   },
   "outputs": [],
   "source": [
    "df"
   ]
  },
  {
   "cell_type": "markdown",
   "id": "7f60bc17-1012-4a39-b669-b1918da62717",
   "metadata": {},
   "source": [
    "# Load Fracture Data"
   ]
  },
  {
   "cell_type": "code",
   "execution_count": 22,
   "id": "a1eec729-34ae-47f0-a338-069b52611fdb",
   "metadata": {},
   "outputs": [],
   "source": [
    "ann_loc = Path('../data/fractures/smallbackup_2023-03-31T11_53_51.602920.csv')\n",
    "df_frac = pd.read_csv(ann_loc)\n",
    "df_frac = df_frac.drop(['Unnamed: 0'], axis=1)"
   ]
  },
  {
   "cell_type": "code",
   "execution_count": null,
   "id": "b1ff271f-1fb2-4d00-b1ff-ab6c64b745ad",
   "metadata": {},
   "outputs": [],
   "source": [
    "df_frac"
   ]
  },
  {
   "cell_type": "markdown",
   "id": "fd317616-6e99-494b-ae81-faf3d329d0c8",
   "metadata": {},
   "source": [
    "## Formatting"
   ]
  },
  {
   "cell_type": "code",
   "execution_count": null,
   "id": "3cdad877-6b1f-4972-85ed-baa642bbc245",
   "metadata": {},
   "outputs": [],
   "source": [
    "df_frac['path'][0]"
   ]
  },
  {
   "cell_type": "code",
   "execution_count": 25,
   "id": "e0dca797-d524-43e9-ac68-95c7402d739b",
   "metadata": {},
   "outputs": [
    {
     "name": "stdout",
     "output_type": "stream",
     "text": [
      "/home/buehlern/neocortex-nas/shared/Skelett/BWS_NEU/-0XIAZI2mBM/9xmAF5tniCk/1/1.2.840.113654.2.70.1.196426120919369109555468638234200693130\n",
      "-0XIAZI2mBM\n",
      "9xmAF5tniCk\n"
     ]
    }
   ],
   "source": [
    "print(df['path'][3])\n",
    "print(df['patientid'][3])\n",
    "print(df['examinationid'][3])"
   ]
  },
  {
   "cell_type": "code",
   "execution_count": 26,
   "id": "2bd67c7a-7dd3-4b24-893c-9b2d474bb5ff",
   "metadata": {},
   "outputs": [],
   "source": [
    "df_frac['patientid'] = df_frac['path'].apply(lambda path: path.split('/')[6])\n",
    "df_frac['examinationid'] = df_frac['path'].apply(lambda path: path.split('/')[7])\n",
    "df_frac['scanid'] = df_frac['path'].apply(lambda path: path.split('/')[-1])"
   ]
  },
  {
   "cell_type": "code",
   "execution_count": null,
   "id": "dcb8a265-4f85-4abf-a5b7-2384d2ac53b1",
   "metadata": {},
   "outputs": [],
   "source": [
    "df_frac"
   ]
  },
  {
   "cell_type": "code",
   "execution_count": 28,
   "id": "99288d9a-8488-4622-a5fe-b0832444d056",
   "metadata": {},
   "outputs": [
    {
     "data": {
      "text/plain": [
       "count                                                 48434\n",
       "unique                                                48434\n",
       "top       1.2.840.113654.2.70.1.310053305240369655195912...\n",
       "freq                                                      1\n",
       "Name: scanid, dtype: object"
      ]
     },
     "execution_count": 28,
     "metadata": {},
     "output_type": "execute_result"
    }
   ],
   "source": [
    "df_frac['scanid'].describe()"
   ]
  },
  {
   "cell_type": "code",
   "execution_count": 29,
   "id": "13165b10-f522-44ce-81ca-3d2125b32635",
   "metadata": {},
   "outputs": [],
   "source": [
    "df_frac = df_frac.dropna(subset=['fracture', 'foreignmaterial'])"
   ]
  },
  {
   "cell_type": "code",
   "execution_count": null,
   "id": "350dae6c-f10f-4bc2-a3c5-aaf321e8e7a6",
   "metadata": {},
   "outputs": [],
   "source": [
    "df_frac"
   ]
  },
  {
   "cell_type": "code",
   "execution_count": null,
   "id": "75cca416-3115-408d-b17a-1cd798218447",
   "metadata": {},
   "outputs": [],
   "source": [
    "df_frac.describe()"
   ]
  },
  {
   "cell_type": "code",
   "execution_count": 32,
   "id": "1363cee3-519a-424b-87dc-6ffdbe58e66d",
   "metadata": {},
   "outputs": [
    {
     "data": {
      "text/plain": [
       "fracture\n",
       "NO        565\n",
       "YES       248\n",
       "Unsure     30\n",
       "Name: count, dtype: int64"
      ]
     },
     "execution_count": 32,
     "metadata": {},
     "output_type": "execute_result"
    }
   ],
   "source": [
    "df_frac['fracture'].value_counts()"
   ]
  },
  {
   "cell_type": "code",
   "execution_count": 33,
   "id": "3763b85c-b0fc-4f12-b2d1-94a04f875384",
   "metadata": {},
   "outputs": [
    {
     "data": {
      "text/plain": [
       "foreignmaterial\n",
       "NO        541\n",
       "YES       301\n",
       "Unsure      1\n",
       "Name: count, dtype: int64"
      ]
     },
     "execution_count": 33,
     "metadata": {},
     "output_type": "execute_result"
    }
   ],
   "source": [
    "df_frac['foreignmaterial'].value_counts()"
   ]
  },
  {
   "cell_type": "code",
   "execution_count": 34,
   "id": "13df1abd-4cb4-4256-aefd-b686d7bdbad1",
   "metadata": {},
   "outputs": [
    {
     "data": {
      "text/plain": [
       "fracture  foreignmaterial\n",
       "NO        NO                 379\n",
       "          YES                185\n",
       "YES       NO                 145\n",
       "          YES                103\n",
       "Unsure    NO                  17\n",
       "          YES                 13\n",
       "NO        Unsure               1\n",
       "Name: count, dtype: int64"
      ]
     },
     "execution_count": 34,
     "metadata": {},
     "output_type": "execute_result"
    }
   ],
   "source": [
    "df_frac[['fracture', 'foreignmaterial']].value_counts()"
   ]
  },
  {
   "cell_type": "markdown",
   "id": "a66aa5ab-9bf8-4d36-8313-5e80cd9dbe90",
   "metadata": {},
   "source": [
    "## Replace with Booleans"
   ]
  },
  {
   "cell_type": "code",
   "execution_count": 36,
   "id": "2fb52bf2-8d61-478a-8116-c88d792c425c",
   "metadata": {},
   "outputs": [],
   "source": [
    "df_frac.loc[df_frac.fracture == \"Unsure\", \"fracture_bool\"] = None\n",
    "df_frac.loc[df_frac.fracture == \"YES\", \"fracture_bool\"] = True\n",
    "df_frac.loc[df_frac.fracture == \"NO\", \"fracture_bool\"] = False"
   ]
  },
  {
   "cell_type": "code",
   "execution_count": 37,
   "id": "f45c302f-7bac-49b1-a7ae-858ae8922f32",
   "metadata": {},
   "outputs": [
    {
     "name": "stderr",
     "output_type": "stream",
     "text": [
      "/tmp/ipykernel_2392115/3708975497.py:1: SettingWithCopyWarning: \n",
      "A value is trying to be set on a copy of a slice from a DataFrame.\n",
      "Try using .loc[row_indexer,col_indexer] = value instead\n",
      "\n",
      "See the caveats in the documentation: https://pandas.pydata.org/pandas-docs/stable/user_guide/indexing.html#returning-a-view-versus-a-copy\n",
      "  df_frac.loc[df_frac.foreignmaterial == \"Unsure\", \"foreignmaterial_bool\"] = None\n"
     ]
    }
   ],
   "source": [
    "df_frac.loc[df_frac.foreignmaterial == \"Unsure\", \"foreignmaterial_bool\"] = None\n",
    "df_frac.loc[df_frac.foreignmaterial == \"YES\", \"foreignmaterial_bool\"] = True\n",
    "df_frac.loc[df_frac.foreignmaterial == \"NO\", \"foreignmaterial_bool\"] = False"
   ]
  },
  {
   "cell_type": "code",
   "execution_count": null,
   "id": "b8b6413b-e619-4a97-8814-ea834b368204",
   "metadata": {},
   "outputs": [],
   "source": [
    "df_frac"
   ]
  },
  {
   "cell_type": "code",
   "execution_count": 39,
   "id": "fe1c7308-6946-4379-9a24-6a61491e3268",
   "metadata": {},
   "outputs": [
    {
     "data": {
      "text/plain": [
       "fracture_bool\n",
       "False    565\n",
       "True     248\n",
       "Name: count, dtype: int64"
      ]
     },
     "execution_count": 39,
     "metadata": {},
     "output_type": "execute_result"
    }
   ],
   "source": [
    "df_frac['fracture_bool'].value_counts()"
   ]
  },
  {
   "cell_type": "code",
   "execution_count": 40,
   "id": "151294bd-e0b4-411e-a58f-705866ff8530",
   "metadata": {},
   "outputs": [
    {
     "data": {
      "text/plain": [
       "foreignmaterial_bool\n",
       "False    541\n",
       "True     301\n",
       "Name: count, dtype: int64"
      ]
     },
     "execution_count": 40,
     "metadata": {},
     "output_type": "execute_result"
    }
   ],
   "source": [
    "df_frac['foreignmaterial_bool'].value_counts()"
   ]
  },
  {
   "cell_type": "code",
   "execution_count": 42,
   "id": "9312744d-4352-487b-a7ed-4a1e270b5608",
   "metadata": {},
   "outputs": [
    {
     "data": {
      "text/html": [
       "<div>\n",
       "<style scoped>\n",
       "    .dataframe tbody tr th:only-of-type {\n",
       "        vertical-align: middle;\n",
       "    }\n",
       "\n",
       "    .dataframe tbody tr th {\n",
       "        vertical-align: top;\n",
       "    }\n",
       "\n",
       "    .dataframe thead th {\n",
       "        text-align: right;\n",
       "    }\n",
       "</style>\n",
       "<table border=\"1\" class=\"dataframe\">\n",
       "  <thead>\n",
       "    <tr style=\"text-align: right;\">\n",
       "      <th></th>\n",
       "      <th>scanid</th>\n",
       "      <th>examinationid</th>\n",
       "      <th>fracture</th>\n",
       "      <th>foreignmaterial</th>\n",
       "      <th>fracture_bool</th>\n",
       "      <th>foreignmaterial_bool</th>\n",
       "    </tr>\n",
       "  </thead>\n",
       "  <tbody>\n",
       "    <tr>\n",
       "      <th>0</th>\n",
       "      <td>1.2.840.113654.2.70.1.259820485975504568799334...</td>\n",
       "      <td>PP6hRs400J8</td>\n",
       "      <td>NO</td>\n",
       "      <td>YES</td>\n",
       "      <td>False</td>\n",
       "      <td>True</td>\n",
       "    </tr>\n",
       "    <tr>\n",
       "      <th>1</th>\n",
       "      <td>1.2.840.113654.2.70.1.287135815407759307679765...</td>\n",
       "      <td>PP6hRs400J8</td>\n",
       "      <td>NO</td>\n",
       "      <td>YES</td>\n",
       "      <td>False</td>\n",
       "      <td>True</td>\n",
       "    </tr>\n",
       "    <tr>\n",
       "      <th>2</th>\n",
       "      <td>1.2.840.113654.2.70.1.100761906177290725786031...</td>\n",
       "      <td>rMDGKfHOySk</td>\n",
       "      <td>YES</td>\n",
       "      <td>YES</td>\n",
       "      <td>True</td>\n",
       "      <td>True</td>\n",
       "    </tr>\n",
       "    <tr>\n",
       "      <th>3</th>\n",
       "      <td>1.2.840.113654.2.70.1.570016009747533316311293...</td>\n",
       "      <td>rMDGKfHOySk</td>\n",
       "      <td>YES</td>\n",
       "      <td>YES</td>\n",
       "      <td>True</td>\n",
       "      <td>True</td>\n",
       "    </tr>\n",
       "    <tr>\n",
       "      <th>4</th>\n",
       "      <td>1.2.840.113654.2.70.1.293498675522405851986251...</td>\n",
       "      <td>axL5szVPUkI</td>\n",
       "      <td>YES</td>\n",
       "      <td>NO</td>\n",
       "      <td>True</td>\n",
       "      <td>False</td>\n",
       "    </tr>\n",
       "    <tr>\n",
       "      <th>...</th>\n",
       "      <td>...</td>\n",
       "      <td>...</td>\n",
       "      <td>...</td>\n",
       "      <td>...</td>\n",
       "      <td>...</td>\n",
       "      <td>...</td>\n",
       "    </tr>\n",
       "    <tr>\n",
       "      <th>841</th>\n",
       "      <td>1.2.840.113654.2.70.1.159815236409370546266677...</td>\n",
       "      <td>GyxqcJuApu0</td>\n",
       "      <td>NO</td>\n",
       "      <td>YES</td>\n",
       "      <td>False</td>\n",
       "      <td>True</td>\n",
       "    </tr>\n",
       "    <tr>\n",
       "      <th>842</th>\n",
       "      <td>1.2.840.113654.2.70.1.844534313666141052830780...</td>\n",
       "      <td>-LW5i52hxyA</td>\n",
       "      <td>NO</td>\n",
       "      <td>YES</td>\n",
       "      <td>False</td>\n",
       "      <td>True</td>\n",
       "    </tr>\n",
       "    <tr>\n",
       "      <th>843</th>\n",
       "      <td>1.2.840.113654.2.70.1.209186589396631626492723...</td>\n",
       "      <td>-LW5i52hxyA</td>\n",
       "      <td>NO</td>\n",
       "      <td>YES</td>\n",
       "      <td>False</td>\n",
       "      <td>True</td>\n",
       "    </tr>\n",
       "    <tr>\n",
       "      <th>844</th>\n",
       "      <td>1.2.840.113654.2.70.1.186750878007311183242295...</td>\n",
       "      <td>hDjCW_yVAp4</td>\n",
       "      <td>NO</td>\n",
       "      <td>NO</td>\n",
       "      <td>False</td>\n",
       "      <td>False</td>\n",
       "    </tr>\n",
       "    <tr>\n",
       "      <th>845</th>\n",
       "      <td>1.2.840.113654.2.70.1.296445431319389318607502...</td>\n",
       "      <td>hDjCW_yVAp4</td>\n",
       "      <td>NO</td>\n",
       "      <td>NO</td>\n",
       "      <td>False</td>\n",
       "      <td>False</td>\n",
       "    </tr>\n",
       "  </tbody>\n",
       "</table>\n",
       "<p>843 rows × 6 columns</p>\n",
       "</div>"
      ],
      "text/plain": [
       "                                                scanid examinationid fracture  \\\n",
       "0    1.2.840.113654.2.70.1.259820485975504568799334...   PP6hRs400J8       NO   \n",
       "1    1.2.840.113654.2.70.1.287135815407759307679765...   PP6hRs400J8       NO   \n",
       "2    1.2.840.113654.2.70.1.100761906177290725786031...   rMDGKfHOySk      YES   \n",
       "3    1.2.840.113654.2.70.1.570016009747533316311293...   rMDGKfHOySk      YES   \n",
       "4    1.2.840.113654.2.70.1.293498675522405851986251...   axL5szVPUkI      YES   \n",
       "..                                                 ...           ...      ...   \n",
       "841  1.2.840.113654.2.70.1.159815236409370546266677...   GyxqcJuApu0       NO   \n",
       "842  1.2.840.113654.2.70.1.844534313666141052830780...   -LW5i52hxyA       NO   \n",
       "843  1.2.840.113654.2.70.1.209186589396631626492723...   -LW5i52hxyA       NO   \n",
       "844  1.2.840.113654.2.70.1.186750878007311183242295...   hDjCW_yVAp4       NO   \n",
       "845  1.2.840.113654.2.70.1.296445431319389318607502...   hDjCW_yVAp4       NO   \n",
       "\n",
       "    foreignmaterial fracture_bool foreignmaterial_bool  \n",
       "0               YES         False                 True  \n",
       "1               YES         False                 True  \n",
       "2               YES          True                 True  \n",
       "3               YES          True                 True  \n",
       "4                NO          True                False  \n",
       "..              ...           ...                  ...  \n",
       "841             YES         False                 True  \n",
       "842             YES         False                 True  \n",
       "843             YES         False                 True  \n",
       "844              NO         False                False  \n",
       "845              NO         False                False  \n",
       "\n",
       "[843 rows x 6 columns]"
      ]
     },
     "execution_count": 42,
     "metadata": {},
     "output_type": "execute_result"
    }
   ],
   "source": [
    "df_frac_slim = df_frac[['scanid', 'examinationid', 'fracture', 'foreignmaterial', 'fracture_bool', 'foreignmaterial_bool']]\n",
    "df_frac_slim"
   ]
  },
  {
   "cell_type": "code",
   "execution_count": 43,
   "id": "e0d59eb6-9657-446e-b08b-1c2939846816",
   "metadata": {},
   "outputs": [
    {
     "data": {
      "text/html": [
       "<div>\n",
       "<style scoped>\n",
       "    .dataframe tbody tr th:only-of-type {\n",
       "        vertical-align: middle;\n",
       "    }\n",
       "\n",
       "    .dataframe tbody tr th {\n",
       "        vertical-align: top;\n",
       "    }\n",
       "\n",
       "    .dataframe thead th {\n",
       "        text-align: right;\n",
       "    }\n",
       "</style>\n",
       "<table border=\"1\" class=\"dataframe\">\n",
       "  <thead>\n",
       "    <tr style=\"text-align: right;\">\n",
       "      <th></th>\n",
       "      <th>scanid</th>\n",
       "      <th>examinationid</th>\n",
       "      <th>fracture</th>\n",
       "      <th>foreignmaterial</th>\n",
       "      <th>fracture_bool</th>\n",
       "      <th>foreignmaterial_bool</th>\n",
       "    </tr>\n",
       "  </thead>\n",
       "  <tbody>\n",
       "    <tr>\n",
       "      <th>count</th>\n",
       "      <td>843</td>\n",
       "      <td>843</td>\n",
       "      <td>843</td>\n",
       "      <td>843</td>\n",
       "      <td>813</td>\n",
       "      <td>842</td>\n",
       "    </tr>\n",
       "    <tr>\n",
       "      <th>unique</th>\n",
       "      <td>843</td>\n",
       "      <td>405</td>\n",
       "      <td>3</td>\n",
       "      <td>3</td>\n",
       "      <td>2</td>\n",
       "      <td>2</td>\n",
       "    </tr>\n",
       "    <tr>\n",
       "      <th>top</th>\n",
       "      <td>1.2.840.113654.2.70.1.296445431319389318607502...</td>\n",
       "      <td>0FGYfiDm9j8</td>\n",
       "      <td>NO</td>\n",
       "      <td>NO</td>\n",
       "      <td>False</td>\n",
       "      <td>False</td>\n",
       "    </tr>\n",
       "    <tr>\n",
       "      <th>freq</th>\n",
       "      <td>1</td>\n",
       "      <td>7</td>\n",
       "      <td>565</td>\n",
       "      <td>541</td>\n",
       "      <td>565</td>\n",
       "      <td>541</td>\n",
       "    </tr>\n",
       "  </tbody>\n",
       "</table>\n",
       "</div>"
      ],
      "text/plain": [
       "                                                   scanid examinationid  \\\n",
       "count                                                 843           843   \n",
       "unique                                                843           405   \n",
       "top     1.2.840.113654.2.70.1.296445431319389318607502...   0FGYfiDm9j8   \n",
       "freq                                                    1             7   \n",
       "\n",
       "       fracture foreignmaterial fracture_bool foreignmaterial_bool  \n",
       "count       843             843           813                  842  \n",
       "unique        3               3             2                    2  \n",
       "top          NO              NO         False                False  \n",
       "freq        565             541           565                  541  "
      ]
     },
     "execution_count": 43,
     "metadata": {},
     "output_type": "execute_result"
    }
   ],
   "source": [
    "df_frac_slim.describe()"
   ]
  },
  {
   "cell_type": "markdown",
   "id": "253c7c0e-3043-4522-98b1-fc97f02edb31",
   "metadata": {},
   "source": [
    "## Join into main DataFrame"
   ]
  },
  {
   "cell_type": "markdown",
   "id": "7f3071e8-072a-4263-8e08-8c4d78181dc2",
   "metadata": {},
   "source": [
    "Join by scanid instead of examinationid, as the fracture/foreign object might not be visible on all scans of the examination where it was found."
   ]
  },
  {
   "cell_type": "code",
   "execution_count": 49,
   "id": "794e3935-e9ef-4b21-b0b2-c247d9c0d276",
   "metadata": {},
   "outputs": [],
   "source": [
    "df['scanid'] = df['path'].apply(lambda path: str(path).split('/')[-1])"
   ]
  },
  {
   "cell_type": "code",
   "execution_count": null,
   "id": "08ad7034-8bb2-46bb-a70d-7cde693872bd",
   "metadata": {
    "scrolled": true
   },
   "outputs": [],
   "source": [
    "df_full = pd.merge(df, df_frac_slim, left_on='scanid', right_on='scanid', how='left')\n",
    "df_full"
   ]
  },
  {
   "cell_type": "code",
   "execution_count": 56,
   "id": "e32d60f6-4a94-407f-b989-4a35499956d1",
   "metadata": {},
   "outputs": [
    {
     "data": {
      "text/plain": [
       "fracture\n",
       "NO        441\n",
       "YES       212\n",
       "Unsure     20\n",
       "Name: count, dtype: int64"
      ]
     },
     "execution_count": 56,
     "metadata": {},
     "output_type": "execute_result"
    }
   ],
   "source": [
    "df_full['fracture_bool'].value_counts()"
   ]
  },
  {
   "cell_type": "code",
   "execution_count": 57,
   "id": "72a3935b-32de-4166-859a-8e71495c4782",
   "metadata": {},
   "outputs": [
    {
     "data": {
      "text/plain": [
       "foreignmaterial\n",
       "NO        442\n",
       "YES       230\n",
       "Unsure      1\n",
       "Name: count, dtype: int64"
      ]
     },
     "execution_count": 57,
     "metadata": {},
     "output_type": "execute_result"
    }
   ],
   "source": [
    "df_full['foreignmaterial'].value_counts()"
   ]
  },
  {
   "cell_type": "markdown",
   "id": "6a847291-d2e3-4644-9fc1-270444e3b387",
   "metadata": {},
   "source": [
    "# Saving Results"
   ]
  },
  {
   "cell_type": "code",
   "execution_count": 55,
   "id": "146d75c6-3e1a-4ffa-885d-a7e1facef012",
   "metadata": {},
   "outputs": [],
   "source": [
    "df_full_loc = Path('cache/clean_df_slim_frac.pkl')\n",
    "pd.to_pickle(df_full, df_full_loc)"
   ]
  },
  {
   "cell_type": "markdown",
   "id": "38e33a46-bf12-4c72-8b8b-ae1a62d8cf6d",
   "metadata": {},
   "source": [
    "# Inspect Distribution across Splits"
   ]
  },
  {
   "cell_type": "code",
   "execution_count": 1,
   "id": "47541f7d-34c5-462c-ba6a-4455b2c5d5fb",
   "metadata": {},
   "outputs": [
    {
     "name": "stderr",
     "output_type": "stream",
     "text": [
      "/home/buehlern/.local/lib/python3.10/site-packages/tqdm/auto.py:21: TqdmWarning: IProgress not found. Please update jupyter and ipywidgets. See https://ipywidgets.readthedocs.io/en/stable/user_install.html\n",
      "  from .autonotebook import tqdm as notebook_tqdm\n"
     ]
    }
   ],
   "source": [
    "import sys\n",
    "sys.path.insert(1, '/home/buehlern/Documents/Masterarbeit/models')\n",
    "from src.data.mri_datamodule import MRIDataModule"
   ]
  },
  {
   "cell_type": "code",
   "execution_count": 3,
   "id": "1bda5ac2-90a1-4f06-8402-4abc0b1f5681",
   "metadata": {},
   "outputs": [
    {
     "name": "stdout",
     "output_type": "stream",
     "text": [
      "initializing MRIDatasetBase ...\n",
      "reading /home/buehlern/Documents/Masterarbeit/data/clean_df_slim_frac.pkl file ...\n",
      "PATH /home/buehlern/Documents/Masterarbeit/data/BodyPartExamined_mappings_mergemore.json\n",
      "/home/buehlern/Documents/Masterarbeit/data/cache-full/df_labelcomparison.pkl does not exit --> no items excluded by it\n",
      "MRIDatasetBase(len=639877) initialized\n",
      "\n",
      "initializing MRIDataset(mode=train) ...\n",
      "MRIDataset(mode=train, len=516402) initialized\n",
      "\n",
      "initializing MRIDataset(mode=val) ...\n",
      "MRIDataset(mode=val, len=27518) initialized\n",
      "\n",
      "initializing MRIDataset(mode=test) ...\n",
      "WARN: including test data\n",
      "MRIDataset(mode=test, len=95957) initialized\n"
     ]
    }
   ],
   "source": [
    "mri_datamodule = MRIDataModule(image_size = 3072, square = True, output_channels = 1, cache = False, fix_inverted = True)"
   ]
  },
  {
   "cell_type": "code",
   "execution_count": 16,
   "id": "662a2ab4-56e7-40ec-b8c6-5c50d5e66c4f",
   "metadata": {},
   "outputs": [
    {
     "data": {
      "text/plain": [
       "count       500\n",
       "unique        2\n",
       "top       False\n",
       "freq        349\n",
       "Name: fracture_bool, dtype: object"
      ]
     },
     "execution_count": 16,
     "metadata": {},
     "output_type": "execute_result"
    }
   ],
   "source": [
    "mri_datamodule.data_train.df['fracture_bool'].describe()"
   ]
  },
  {
   "cell_type": "code",
   "execution_count": 13,
   "id": "9cc55456-c8f5-45eb-aaab-0b53fb5ce94a",
   "metadata": {},
   "outputs": [
    {
     "data": {
      "text/plain": [
       "count        26\n",
       "unique        2\n",
       "top       False\n",
       "freq         14\n",
       "Name: fracture_bool, dtype: object"
      ]
     },
     "execution_count": 13,
     "metadata": {},
     "output_type": "execute_result"
    }
   ],
   "source": [
    "mri_datamodule.data_val.df['fracture_bool'].describe()"
   ]
  },
  {
   "cell_type": "code",
   "execution_count": 14,
   "id": "abc872fb-da89-4e00-9a51-be12afbdf818",
   "metadata": {},
   "outputs": [
    {
     "data": {
      "text/plain": [
       "count       127\n",
       "unique        2\n",
       "top       False\n",
       "freq         78\n",
       "Name: fracture_bool, dtype: object"
      ]
     },
     "execution_count": 14,
     "metadata": {},
     "output_type": "execute_result"
    }
   ],
   "source": [
    "mri_datamodule.data_test.df['fracture_bool'].describe()"
   ]
  },
  {
   "cell_type": "markdown",
   "id": "646081bb-d1ec-4a84-86f7-aaa34cc16930",
   "metadata": {},
   "source": [
    "Thus, the pretraining split (80/5/15) is roughly resembled in this downstream label split (77/4/19).\n",
    "Using the same split for finetuning prevents problems regarding mixing of training and test data across tasks."
   ]
  }
 ],
 "metadata": {
  "kernelspec": {
   "display_name": "Python 3 (ipykernel)",
   "language": "python",
   "name": "python3"
  },
  "language_info": {
   "codemirror_mode": {
    "name": "ipython",
    "version": 3
   },
   "file_extension": ".py",
   "mimetype": "text/x-python",
   "name": "python",
   "nbconvert_exporter": "python",
   "pygments_lexer": "ipython3",
   "version": "3.10.12"
  }
 },
 "nbformat": 4,
 "nbformat_minor": 5
}
