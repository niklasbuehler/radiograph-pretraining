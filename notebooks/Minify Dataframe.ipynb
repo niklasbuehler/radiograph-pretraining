{
 "cells": [
  {
   "cell_type": "code",
   "execution_count": 1,
   "id": "84392146-79ae-4b6f-89e0-65de88ac79f7",
   "metadata": {},
   "outputs": [],
   "source": [
    "from pathlib import Path\n",
    "import torch\n",
    "import pandas as pd\n",
    "import stat\n",
    "import numbers\n",
    "import pydicom\n",
    "import numpy as np\n",
    "from tqdm import tqdm\n",
    "from collections import Counter\n",
    "import re\n",
    "import os\n",
    "from PIL import Image\n",
    "from matplotlib import pyplot as plt\n",
    "import cv2\n",
    "import json"
   ]
  },
  {
   "cell_type": "code",
   "execution_count": 2,
   "id": "a3e7d9b9-e614-4b0a-832d-b4718550ab1f",
   "metadata": {},
   "outputs": [
    {
     "data": {
      "text/plain": [
       "PosixPath('/home/buehlern/Documents/Masterarbeit/notebooks')"
      ]
     },
     "execution_count": 2,
     "metadata": {},
     "output_type": "execute_result"
    }
   ],
   "source": [
    "Path().resolve()"
   ]
  },
  {
   "cell_type": "code",
   "execution_count": 3,
   "id": "afe74aa8-70f7-46a0-91a3-5a07f2859100",
   "metadata": {},
   "outputs": [],
   "source": [
    "df_loc = Path('../data/clean_df_slim_frac.pkl')\n",
    "df = pd.read_pickle(df_loc)"
   ]
  },
  {
   "cell_type": "code",
   "execution_count": 4,
   "id": "ec3cb91f-6959-48d8-ba90-55900ce8dfcc",
   "metadata": {},
   "outputs": [],
   "source": [
    "df = df.rename(columns={'examinationid_x': 'examinationid'})"
   ]
  },
  {
   "cell_type": "code",
   "execution_count": 5,
   "id": "3b053710-e73b-4dc2-a48d-999ce83ecd3a",
   "metadata": {},
   "outputs": [
    {
     "data": {
      "text/plain": [
       "Index(['patientid', 'bodypart', 'pixelarr_shape', 'dcm_StudyDate',\n",
       "       'dcm_SeriesDate', 'dcm_ContentDate', 'dcm_StudyTime', 'dcm_SeriesTime',\n",
       "       'dcm_AcquisitionTime', 'dcm_ContentTime', 'dcm_SeriesDescription',\n",
       "       'dcm_PatientID', 'dcm_PatientSex', 'dcm_PatientAge', 'dcm_PatientSize',\n",
       "       'dcm_PatientWeight', 'dcm_PregnancyStatus', 'dcm_BodyPartExamined',\n",
       "       'dcm_SpatialResolution', 'dcm_ImagerPixelSpacing',\n",
       "       'dcm_StudyInstanceUID', 'dcm_SeriesInstanceUID', 'dcm_SeriesNumber',\n",
       "       'dcm_InstanceNumber', 'dcm_PatientOrientation',\n",
       "       'dcm_PhotometricInterpretation', 'dcm_PresentationLUTShape', 'pathstr',\n",
       "       'path', 'findingspath', 'examinationid', 'inverted', 'pixelarr_dtype',\n",
       "       'pixelarr_shape', 'pixelarr_non0count', 'pixelarr_min', 'pixelarr_max',\n",
       "       'pixelarr_mean', 'pixelarr_std', 'pixelarr_non0min',\n",
       "       'pixelarr_non0mean', 'pixelarr_non0std', 'scanid', 'examinationid_y',\n",
       "       'fracture', 'foreignmaterial', 'fracture_bool', 'foreignmaterial_bool'],\n",
       "      dtype='object')"
      ]
     },
     "execution_count": 5,
     "metadata": {},
     "output_type": "execute_result"
    }
   ],
   "source": [
    "df.columns"
   ]
  },
  {
   "cell_type": "code",
   "execution_count": 7,
   "id": "3023c8b4-e92e-4f40-84a5-14bc99821477",
   "metadata": {},
   "outputs": [
    {
     "data": {
      "text/plain": [
       "bodypart\n",
       "KNIE_NEU          169595\n",
       "SCHULTER_NEU      107070\n",
       "SG_NEU             81577\n",
       "ELLENBOGEN_NEU     55914\n",
       "FUSS_NEU           53385\n",
       "HG_NEU             43246\n",
       "HAND_NEU           41201\n",
       "HWS_NEU            35150\n",
       "CLAVICULA_NEU      20506\n",
       "BWS_NEU            13995\n",
       "LWS_NEU            10756\n",
       "DX_Schädel_Neu      3164\n",
       "DX_RIPPEN           2668\n",
       "SCAPULA_NEU         1650\n",
       "Name: count, dtype: int64"
      ]
     },
     "execution_count": 7,
     "metadata": {},
     "output_type": "execute_result"
    }
   ],
   "source": [
    "df['bodypart'].value_counts()"
   ]
  },
  {
   "cell_type": "code",
   "execution_count": 28,
   "id": "756096ad-16f6-4842-9100-f05177d9de05",
   "metadata": {},
   "outputs": [
    {
     "data": {
      "text/plain": [
       "bodypart\n",
       "BWS_NEU            5834\n",
       "CLAVICULA_NEU      3844\n",
       "DX_RIPPEN          1261\n",
       "DX_Schädel_Neu     1122\n",
       "ELLENBOGEN_NEU    12610\n",
       "FUSS_NEU          16226\n",
       "HAND_NEU          15402\n",
       "HG_NEU            10367\n",
       "HWS_NEU            9838\n",
       "KNIE_NEU          39970\n",
       "LWS_NEU            3272\n",
       "SCAPULA_NEU         659\n",
       "SCHULTER_NEU      25314\n",
       "SG_NEU            23532\n",
       "Name: patientid, dtype: int64"
      ]
     },
     "execution_count": 28,
     "metadata": {},
     "output_type": "execute_result"
    }
   ],
   "source": [
    "df.groupby('bodypart')['patientid'].nunique()"
   ]
  },
  {
   "cell_type": "code",
   "execution_count": 29,
   "id": "72f71c1a-ee7f-45b8-9bcd-57d2e2661580",
   "metadata": {},
   "outputs": [
    {
     "data": {
      "text/plain": [
       "np.int64(169251)"
      ]
     },
     "execution_count": 29,
     "metadata": {},
     "output_type": "execute_result"
    }
   ],
   "source": [
    "df.groupby('bodypart')['patientid'].nunique().sum()"
   ]
  },
  {
   "cell_type": "code",
   "execution_count": 7,
   "id": "153b4b60-b02d-4ccc-8eb9-3fcfa214e3a0",
   "metadata": {},
   "outputs": [
    {
     "data": {
      "text/plain": [
       "array(['BWS_NEU', 'CLAVICULA_NEU', 'DX_RIPPEN', 'DX_Schädel_Neu',\n",
       "       'ELLENBOGEN_NEU', 'FUSS_NEU', 'HAND_NEU', 'HG_NEU', 'HWS_NEU',\n",
       "       'KNIE_NEU', 'LWS_NEU', 'SCAPULA_NEU', 'SCHULTER_NEU', 'SG_NEU'],\n",
       "      dtype=object)"
      ]
     },
     "execution_count": 7,
     "metadata": {},
     "output_type": "execute_result"
    }
   ],
   "source": [
    "df['bodypart'].unique()"
   ]
  },
  {
   "cell_type": "code",
   "execution_count": 9,
   "id": "781a9a82-c971-40d9-a4eb-e2eb0cbafd28",
   "metadata": {},
   "outputs": [],
   "source": [
    "df['bodypart_old'] = df['bodypart']"
   ]
  },
  {
   "cell_type": "code",
   "execution_count": 10,
   "id": "d1242836-eb31-4e75-b1cb-668629d60b20",
   "metadata": {},
   "outputs": [],
   "source": [
    "bodypart_names = {\n",
    "    \"KNIE_NEU\": \"knee\",\n",
    "    \"SCHULTER_NEU\": \"shoulder\",\n",
    "    \"SG_NEU\": \"ankle\",\n",
    "    \"ELLENBOGEN_NEU\": \"elbow\",\n",
    "    \"FUSS_NEU\": \"foot\",\n",
    "    \"HG_NEU\": \"wrist\",\n",
    "    \"HAND_NEU\": \"hand\",\n",
    "    \"HWS_NEU\": \"cspine\",\n",
    "    \"CLAVICULA_NEU\": \"clavicle\",\n",
    "    \"BWS_NEU\": \"tspine\",\n",
    "    \"LWS_NEU\": \"lspine\",\n",
    "    \"DX_Schädel_Neu\": \"skull\",\n",
    "    \"DX_RIPPEN\": \"rips\",\n",
    "    \"SCAPULA_NEU\": \"scapula\"\n",
    "}\n",
    "df['bodypart'] = df['bodypart_old'].map(bodypart_names)"
   ]
  },
  {
   "cell_type": "code",
   "execution_count": 13,
   "id": "a9826f66-453e-4d13-88cf-c80ab1285f85",
   "metadata": {},
   "outputs": [
    {
     "data": {
      "text/plain": [
       "count     639877\n",
       "unique        14\n",
       "top         knee\n",
       "freq      169595\n",
       "Name: bodypart, dtype: object"
      ]
     },
     "execution_count": 13,
     "metadata": {},
     "output_type": "execute_result"
    }
   ],
   "source": [
    "df['bodypart'].describe()"
   ]
  },
  {
   "cell_type": "code",
   "execution_count": 15,
   "id": "8063c28b-aa09-431b-82eb-6bbd082bf029",
   "metadata": {},
   "outputs": [
    {
     "data": {
      "text/plain": [
       "np.int64(0)"
      ]
     },
     "execution_count": 15,
     "metadata": {},
     "output_type": "execute_result"
    }
   ],
   "source": [
    "df['bodypart'].isna().sum()"
   ]
  },
  {
   "cell_type": "code",
   "execution_count": 16,
   "id": "e452b73d-cab1-483c-8652-97cde34b9eb3",
   "metadata": {},
   "outputs": [
    {
     "data": {
      "text/plain": [
       "dcm_BodyPartExamined\n",
       "KNEE            142342\n",
       "SHOULDER         74984\n",
       "HAND             73011\n",
       "ANKLE            52309\n",
       "FOOT             49051\n",
       "                 ...  \n",
       "PORT L SPINE         2\n",
       "UNTERKIEFER          2\n",
       "KOPF                 2\n",
       "BEIN                 2\n",
       "H_FTE                1\n",
       "Name: count, Length: 85, dtype: int64"
      ]
     },
     "execution_count": 16,
     "metadata": {},
     "output_type": "execute_result"
    }
   ],
   "source": [
    "df['dcm_BodyPartExamined'].value_counts()"
   ]
  },
  {
   "cell_type": "code",
   "execution_count": 17,
   "id": "aad2d3a1-5f22-4288-8fa9-0187d80ef2a5",
   "metadata": {},
   "outputs": [
    {
     "data": {
      "text/plain": [
       "array(['TSPINE', 'T SPINE', 'BWS', 'LSPINE', 'LWS', 'SPINE', 'CSPINE',\n",
       "       'THORAX', 'CHEST', 'T L SPINE', 'C SPINE', 'THORAX BETT', 'HAND',\n",
       "       'HWS', 'HIP', 'FOOT', 'PORT L SPINE', 'SHOULDER', 'HUEFTE',\n",
       "       'L SPINE', 'PELVIS', 'WIRBELSAULE', 'CLAVICLE', 'CLAVICULA',\n",
       "       'SCHLUESSELBEIN', 'SCHULTER', 'SCHULTERBLATT', 'SCAPULA', 'ELBOW',\n",
       "       'FOREARM', 'AC JOINT', 'WIRBELSAEULE', 'AC GELENK', 'RIBS',\n",
       "       'COCCYX', 'RIPPEN', 'SCHAEDEL', 'SKULL', 'SCHADEL',\n",
       "       'GESICHTSKNOCHEN', 'NNH', 'NASENBEIN', 'ORBITA', 'SINUSES',\n",
       "       'NASAL BONES', 'ELLENBOGEN', 'UNTERKIEFER', 'LUNGE', 'JAW',\n",
       "       'ABDOMEN', 'ANKLE', 'ARM', 'OBERARM', 'KNEE', 'HUMERUS',\n",
       "       'HANDGELENK', 'BECKEN', 'WRIST', 'FUSS', 'KNIE', 'FU_', 'LSG',\n",
       "       'LEG', 'SPRUNGGELENK', 'FEMUR', 'CALCANEUS', 'TOES',\n",
       "       'TIBIA FIBULA', 'FERSENBEIN', 'FINGER', 'EXTREMITAT', 'UNTERARM',\n",
       "       'OBERSCHENKEL', 'THUMB', 'HWS DENS', 'DENS', 'CERVICOTHORACIC',\n",
       "       'KNIESCHEIBE', 'PATELLA', 'KOPF', nan, 'H_FTE', 'UNTERSCHENKEL',\n",
       "       'KNIE KLEINKIND', 'BEIN', 'SACRUM'], dtype=object)"
      ]
     },
     "execution_count": 17,
     "metadata": {},
     "output_type": "execute_result"
    }
   ],
   "source": [
    "df['dcm_BodyPartExamined'].unique()"
   ]
  },
  {
   "cell_type": "code",
   "execution_count": 18,
   "id": "06d57120-cff0-4c02-9f5b-eaea707ea659",
   "metadata": {},
   "outputs": [
    {
     "data": {
      "text/plain": [
       "dcm_BodyPartExamined  bodypart\n",
       "KNEE                  knee        142117\n",
       "SHOULDER              shoulder     73292\n",
       "ANKLE                 ankle        51413\n",
       "ELBOW                 elbow        48769\n",
       "FOOT                  foot         48494\n",
       "HAND                  hand         41036\n",
       "                      wrist        31784\n",
       "SPRUNGGELENK          ankle        27796\n",
       "SCHULTER              shoulder     26935\n",
       "KNIE                  knee         23078\n",
       "CLAVICLE              clavicle     13618\n",
       "CSPINE                cspine       12943\n",
       "HWS                   cspine       11499\n",
       "C SPINE               cspine        9847\n",
       "HANDGELENK            wrist         9833\n",
       "TSPINE                tspine        7667\n",
       "ELLENBOGEN            elbow         6783\n",
       "BWS                   tspine        5397\n",
       "CLAVICULA             clavicle      5078\n",
       "LWS                   lspine        4529\n",
       "LSPINE                lspine        4293\n",
       "SCHULTERBLATT         shoulder      3698\n",
       "FUSS                  foot          3683\n",
       "SCAPULA               shoulder      2594\n",
       "CHEST                 rips          2417\n",
       "L SPINE               lspine        1817\n",
       "SKULL                 skull         1571\n",
       "KNIESCHEIBE           knee          1519\n",
       "WRIST                 wrist         1500\n",
       "LEG                   knee          1424\n",
       "SHOULDER              scapula       1067\n",
       "SCHAEDEL              skull          867\n",
       "FU_                   foot           807\n",
       "ANKLE                 knee           700\n",
       "SCHULTER              clavicle       673\n",
       "SCHADEL               skull          609\n",
       "FUSS                  ankle          552\n",
       "T SPINE               tspine         522\n",
       "SHOULDER              clavicle       520\n",
       "SCHLUESSELBEIN        clavicle       492\n",
       "TIBIA FIBULA          ankle          444\n",
       "FOOT                  ankle          437\n",
       "UNTERSCHENKEL         ankle          432\n",
       "HWS DENS              cspine         295\n",
       "SCHULTERBLATT         scapula        283\n",
       "LEG                   ankle          243\n",
       "TSPINE                cspine         209\n",
       "RIPPEN                rips           196\n",
       "ANKLE                 foot           180\n",
       "SCAPULA               scapula        178\n",
       "LSPINE                tspine         178\n",
       "KNEE                  ankle          123\n",
       "SCHULTER              scapula        105\n",
       "FEMUR                 knee            94\n",
       "PATELLA               knee            86\n",
       "HAND                  elbow           81\n",
       "ARM                   elbow           73\n",
       "LWS                   cspine          72\n",
       "CSPINE                tspine          69\n",
       "HUEFTE                knee            67\n",
       "CHEST                 shoulder        66\n",
       "SPRUNGGELENK          foot            66\n",
       "CLAVICLE              shoulder        62\n",
       "PELVIS                knee            59\n",
       "CHEST                 knee            57\n",
       "                      cspine          53\n",
       "THORAX                shoulder        52\n",
       "SHOULDER              elbow           51\n",
       "BWS                   cspine          48\n",
       "HIP                   knee            48\n",
       "RIBS                  rips            47\n",
       "FOOT                  knee            47\n",
       "LWS                   tspine          41\n",
       "SPRUNGGELENK          knee            40\n",
       "TSPINE                lspine          33\n",
       "HAND                  foot            32\n",
       "AC GELENK             shoulder        30\n",
       "HAND                  knee            30\n",
       "CHEST                 tspine          30\n",
       "SHOULDER              cspine          29\n",
       "HAND                  shoulder        29\n",
       "ELBOW                 shoulder        29\n",
       "SCHULTERBLATT         clavicle        29\n",
       "PELVIS                shoulder        28\n",
       "CSPINE                lspine          28\n",
       "KNEE                  foot            28\n",
       "TIBIA FIBULA          knee            26\n",
       "BECKEN                knee            26\n",
       "OBERSCHENKEL          knee            26\n",
       "FOOT                  shoulder        26\n",
       "HUMERUS               elbow           26\n",
       "CHEST                 elbow           25\n",
       "ARM                   shoulder        23\n",
       "KNIE                  ankle           23\n",
       "CLAVICULA             shoulder        23\n",
       "HWS                   skull           22\n",
       "WRIST                 hand            22\n",
       "KNEE                  elbow           21\n",
       "                      wrist           21\n",
       "ELBOW                 hand            21\n",
       "GESICHTSKNOCHEN       skull           20\n",
       "SCHULTER              elbow           20\n",
       "CHEST                 foot            19\n",
       "ORBITA                skull           19\n",
       "FINGER                hand            19\n",
       "HUMERUS               shoulder        18\n",
       "HANDGELENK            hand            18\n",
       "THORAX                knee            17\n",
       "DENS                  cspine          17\n",
       "PELVIS                lspine          17\n",
       "ELBOW                 wrist           16\n",
       "ARM                   wrist           16\n",
       "LSPINE                cspine          16\n",
       "FOOT                  hand            16\n",
       "HANDGELENK            shoulder        16\n",
       "PELVIS                cspine          16\n",
       "OBERARM               elbow           16\n",
       "                      shoulder        15\n",
       "KNEE                  hand            15\n",
       "UNTERARM              shoulder        15\n",
       "LWS                   foot            14\n",
       "L SPINE               cspine          14\n",
       "SCAPULA               clavicle        14\n",
       "HWS                   tspine          14\n",
       "CHEST                 hand            14\n",
       "T L SPINE             tspine          14\n",
       "FERSENBEIN            ankle           14\n",
       "SHOULDER              knee            14\n",
       "NNH                   skull           13\n",
       "THORAX                cspine          13\n",
       "                      skull           12\n",
       "C SPINE               tspine          12\n",
       "CHEST                 ankle           12\n",
       "FOREARM               wrist           12\n",
       "HIP                   shoulder        12\n",
       "HANDGELENK            ankle           12\n",
       "FOOT                  clavicle        12\n",
       "HANDGELENK            elbow           12\n",
       "LEG                   foot            12\n",
       "FU_                   ankle           12\n",
       "KNEE                  shoulder        11\n",
       "HANDGELENK            knee            11\n",
       "L SPINE               tspine          11\n",
       "C SPINE               lspine          10\n",
       "UNTERSCHENKEL         knee            10\n",
       "PELVIS                clavicle        10\n",
       "SCAPULA               cspine          10\n",
       "WIRBELSAEULE          shoulder         9\n",
       "WIRBELSAULE           cspine           9\n",
       "HAND                  clavicle         9\n",
       "ANKLE                 elbow            9\n",
       "BWS                   lspine           9\n",
       "RIPPEN                shoulder         9\n",
       "CALCANEUS             knee             9\n",
       "                      foot             9\n",
       "CLAVICLE              cspine           9\n",
       "FINGER                knee             9\n",
       "CSPINE                shoulder         9\n",
       "CHEST                 clavicle         9\n",
       "THORAX BETT           shoulder         8\n",
       "ABDOMEN               cspine           8\n",
       "FUSS                  shoulder         8\n",
       "HUEFTE                ankle            8\n",
       "T SPINE               cspine           8\n",
       "C SPINE               knee             7\n",
       "FOOT                  cspine           7\n",
       "THORAX                elbow            7\n",
       "SHOULDER              hand             7\n",
       "SPINE                 knee             7\n",
       "C SPINE               clavicle         7\n",
       "BECKEN                ankle            7\n",
       "UNTERARM              wrist            7\n",
       "TIBIA FIBULA          foot             7\n",
       "ANKLE                 hand             7\n",
       "KNIE                  wrist            7\n",
       "PELVIS                wrist            7\n",
       "ELBOW                 clavicle         7\n",
       "CALCANEUS             ankle            7\n",
       "CHEST                 wrist            7\n",
       "SCHLUESSELBEIN        shoulder         7\n",
       "LUNGE                 shoulder         7\n",
       "NASENBEIN             skull            7\n",
       "CLAVICLE              wrist            6\n",
       "THORAX                rips             6\n",
       "                      tspine           6\n",
       "CSPINE                knee             6\n",
       "COCCYX                clavicle         6\n",
       "ELBOW                 knee             6\n",
       "CERVICOTHORACIC       cspine           6\n",
       "RIPPEN                ankle            6\n",
       "SCHULTER              cspine           6\n",
       "HUEFTE                tspine           6\n",
       "FUSS                  wrist            6\n",
       "PELVIS                tspine           6\n",
       "FOOT                  tspine           6\n",
       "WIRBELSAEULE          scapula          6\n",
       "TSPINE                ankle            6\n",
       "THORAX BETT           knee             6\n",
       "TOES                  foot             6\n",
       "BWS                   shoulder         6\n",
       "ABDOMEN               knee             6\n",
       "                      skull            5\n",
       "THORAX BETT           tspine           5\n",
       "LSPINE                knee             5\n",
       "LWS                   shoulder         5\n",
       "HIP                   ankle            5\n",
       "ELLENBOGEN            ankle            5\n",
       "HAND                  cspine           5\n",
       "THORAX                clavicle         5\n",
       "WRIST                 shoulder         4\n",
       "KNIE KLEINKIND        knee             4\n",
       "KNIE                  foot             4\n",
       "WRIST                 elbow            4\n",
       "KNEE                  lspine           4\n",
       "LUNGE                 skull            4\n",
       "                      cspine           4\n",
       "ARM                   knee             4\n",
       "SCHULTER              knee             4\n",
       "CSPINE                clavicle         4\n",
       "FUSS                  knee             4\n",
       "HWS                   scapula          4\n",
       "KNIE                  elbow            4\n",
       "UNTERSCHENKEL         shoulder         4\n",
       "ABDOMEN               ankle            4\n",
       "HAND                  ankle            4\n",
       "FUSS                  hand             4\n",
       "SINUSES               skull            4\n",
       "FEMUR                 foot             4\n",
       "SPINE                 lspine           4\n",
       "SCHADEL               cspine           3\n",
       "SACRUM                lspine           3\n",
       "SCHULTERBLATT         elbow            3\n",
       "JAW                   knee             3\n",
       "THORAX                ankle            3\n",
       "                      foot             3\n",
       "                      wrist            3\n",
       "SKULL                 wrist            3\n",
       "CLAVICLE              scapula          3\n",
       "THORAX BETT           foot             3\n",
       "C SPINE               hand             3\n",
       "HUEFTE                wrist            3\n",
       "THUMB                 wrist            3\n",
       "PELVIS                elbow            3\n",
       "LSG                   foot             3\n",
       "NASAL BONES           skull            3\n",
       "LSPINE                shoulder         3\n",
       "EXTREMITAT            hand             3\n",
       "CALCANEUS             lspine           3\n",
       "T SPINE               hand             3\n",
       "BECKEN                wrist            3\n",
       "AC GELENK             clavicle         3\n",
       "LSPINE                hand             2\n",
       "TSPINE                shoulder         2\n",
       "WIRBELSAULE           skull            2\n",
       "KNIE                  cspine           2\n",
       "KOPF                  knee             2\n",
       "EXTREMITAT            knee             2\n",
       "SPINE                 tspine           2\n",
       "                      scapula          2\n",
       "CLAVICULA             wrist            2\n",
       "FOOT                  elbow            2\n",
       "PORT L SPINE          tspine           2\n",
       "HANDGELENK            cspine           2\n",
       "HIP                   hand             2\n",
       "LWS                   knee             2\n",
       "JAW                   skull            2\n",
       "WRIST                 ankle            2\n",
       "                      foot             2\n",
       "KNEE                  scapula          2\n",
       "RIBS                  clavicle         2\n",
       "OBERSCHENKEL          wrist            2\n",
       "PELVIS                ankle            2\n",
       "UNTERKIEFER           skull            2\n",
       "AC JOINT              shoulder         2\n",
       "ABDOMEN               shoulder         2\n",
       "AC JOINT              clavicle         2\n",
       "BWS                   knee             2\n",
       "BECKEN                shoulder         2\n",
       "BEIN                  knee             2\n",
       "BECKEN                hand             2\n",
       "WIRBELSAULE           tspine           2\n",
       "WIRBELSAEULE          clavicle         2\n",
       "HWS                   ankle            2\n",
       "                      clavicle         2\n",
       "                      foot             2\n",
       "FOOT                  lspine           2\n",
       "HWS                   shoulder         2\n",
       "HIP                   tspine           2\n",
       "THORAX BETT           elbow            2\n",
       "THORAX                hand             2\n",
       "SHOULDER              tspine           2\n",
       "COCCYX                lspine           2\n",
       "SCHULTER              wrist            2\n",
       "CLAVICULA             rips             2\n",
       "CHEST                 lspine           2\n",
       "C SPINE               shoulder         2\n",
       "FUSS                  elbow            2\n",
       "FOREARM               clavicle         2\n",
       "FOOT                  wrist            2\n",
       "FEMUR                 ankle            2\n",
       "SHOULDER              foot             2\n",
       "GESICHTSKNOCHEN       foot             2\n",
       "THORAX BETT           skull            1\n",
       "BECKEN                elbow            1\n",
       "HIP                   foot             1\n",
       "PELVIS                hand             1\n",
       "BECKEN                foot             1\n",
       "HIP                   wrist            1\n",
       "HWS                   knee             1\n",
       "HUMERUS               hand             1\n",
       "H_FTE                 knee             1\n",
       "FOREARM               hand             1\n",
       "SCAPULA               hand             1\n",
       "HAND                  tspine           1\n",
       "FU_                   hand             1\n",
       "FERSENBEIN            foot             1\n",
       "ELLENBOGEN            skull            1\n",
       "                      shoulder         1\n",
       "SPINE                 shoulder         1\n",
       "THORAX BETT           ankle            1\n",
       "Name: count, dtype: int64"
      ]
     },
     "execution_count": 18,
     "metadata": {},
     "output_type": "execute_result"
    }
   ],
   "source": [
    "pd.set_option(\"display.max_rows\", None)\n",
    "df[['dcm_BodyPartExamined', 'bodypart']].value_counts()"
   ]
  },
  {
   "cell_type": "code",
   "execution_count": 19,
   "id": "614199d8-b5b0-46ab-a374-cac53f3ff456",
   "metadata": {},
   "outputs": [
    {
     "data": {
      "text/plain": [
       "{'': 'shoulder',\n",
       " 'ankle': 'ankle',\n",
       " 'arm': None,\n",
       " 'becken': 'becken',\n",
       " 'bws': 'tspine',\n",
       " 'cspine': 'cspine',\n",
       " 'chest': 'ribs',\n",
       " 'clavicle': 'clavicle',\n",
       " 'clavicula': 'clavicle',\n",
       " 'coccyx': None,\n",
       " 'elbow': 'elbow',\n",
       " 'ellenbogen': 'elbow',\n",
       " 'femur': 'femur',\n",
       " 'foot': 'foot',\n",
       " 'fuss': 'foot',\n",
       " 'hand': 'wrist',\n",
       " 'handgelenk': 'wrist',\n",
       " 'hip': 'hip',\n",
       " 'huefte': 'huefte',\n",
       " 'hws': 'hws',\n",
       " 'jaw': 'jaw',\n",
       " 'knee': 'knee',\n",
       " 'knie': 'knee',\n",
       " 'lspine': 'lspine',\n",
       " 'leg': 'knee',\n",
       " 'lws': 'lspine',\n",
       " 'nasenbein': None,\n",
       " 'nnh': 'nnh',\n",
       " 'oberarm': 'oberarm',\n",
       " 'orbita': 'orbita',\n",
       " 'patella': 'patella',\n",
       " 'pelvis': 'pelvis',\n",
       " 'ribs': 'ribs',\n",
       " 'rippen': 'ribs',\n",
       " 'sacrum': 'sacrum',\n",
       " 'scapula': 'shoulder',\n",
       " 'schaedel': 'skull',\n",
       " 'schluesselbein': 'clavicle',\n",
       " 'schulter': 'shoulder',\n",
       " 'schulterblatt': 'shoulder',\n",
       " 'shoulder': 'shoulder',\n",
       " 'skull': 'skull',\n",
       " 'spine': 'spine',\n",
       " 'sprunggelenk': 'ankle',\n",
       " 'tspine': 'tspine',\n",
       " 'thorax': 'thorax',\n",
       " 'wrist': 'wrist',\n",
       " 'tlspine': 'tlspine',\n",
       " 'thoraxbett': 'thorax',\n",
       " 'portlspine': 'lspine',\n",
       " 'wirbelsaule': 'spine',\n",
       " 'wirbelsaeule': 'spine',\n",
       " 'forearm': 'forearm',\n",
       " 'acjoint': 'acjoint',\n",
       " 'acgelenk': 'acjoint',\n",
       " 'humerus': 'humerus',\n",
       " 'fu_': 'fu_',\n",
       " 'lsg': 'lsg',\n",
       " 'calcaneus': 'foot',\n",
       " 'gesichtsknochen': 'gesichtsknochen',\n",
       " 'toes': 'toes',\n",
       " 'tibiafibula': 'tibiafibula',\n",
       " 'fersenbein': 'fersenbein',\n",
       " 'finger': 'finger',\n",
       " 'extremitat': 'extremitat',\n",
       " 'unterarm': 'forearm',\n",
       " 'oberschenkel': 'oberschenkel',\n",
       " 'thumb': 'thumb',\n",
       " 'hwsdens': 'hwsdens',\n",
       " 'lunge': 'lunge',\n",
       " 'dens': 'dens',\n",
       " 'schadel': 'skull',\n",
       " 'cervicothoracic': 'cervicothoracic',\n",
       " 'abdomen': 'abdomen',\n",
       " 'kniescheibe': 'knee',\n",
       " 'kopf': 'kopf',\n",
       " 'h_fte': 'huefte',\n",
       " 'unterschenkel': 'unterschenkel',\n",
       " 'kniekleinkind': 'kniekleinkind',\n",
       " 'bein': 'leg',\n",
       " 'sinuses': 'sinuses',\n",
       " 'nasalbones': 'nasalbones',\n",
       " 'unterkiefer': 'unterkiefer',\n",
       " 'hg': 'wrist'}"
      ]
     },
     "execution_count": 19,
     "metadata": {},
     "output_type": "execute_result"
    }
   ],
   "source": [
    "bodypart_mapping_loc = Path(\"/home/buehlern/Documents/Masterarbeit/data/BodyPartExamined_mappings_mergemore.json\")\n",
    "bodypartexamined_mapping = json.loads(bodypart_mapping_loc.read_text())\n",
    "bodypartexamined_mapping"
   ]
  },
  {
   "cell_type": "code",
   "execution_count": 20,
   "id": "019f12a9-a720-48e5-b3c4-c9156ea90500",
   "metadata": {},
   "outputs": [],
   "source": [
    "df['dcm_BodyPartExamined'] = [(seq if not seq != seq else '').lower()\n",
    "                              for seq in df['dcm_BodyPartExamined']]\n",
    "\n",
    "df['dcm_BodyPartExamined_mapped'] = [bodypartexamined_mapping[BodyPartExamined_str.replace(' ', '').lower()]\n",
    "                                     for BodyPartExamined_str in df['dcm_BodyPartExamined']]"
   ]
  },
  {
   "cell_type": "code",
   "execution_count": 21,
   "id": "544a8e78-dd83-425a-8a36-bb58289c338d",
   "metadata": {},
   "outputs": [
    {
     "data": {
      "text/plain": [
       "dcm_BodyPartExamined_mapped\n",
       "knee               168658\n",
       "shoulder           109549\n",
       "wrist               84449\n",
       "ankle               80211\n",
       "elbow               55638\n",
       "foot                53338\n",
       "cspine              22947\n",
       "clavicle            19302\n",
       "tspine              13912\n",
       "hws                 11548\n",
       "lspine              11004\n",
       "skull                3053\n",
       "ribs                 2971\n",
       "fu_                   820\n",
       "tibiafibula           477\n",
       "unterschenkel         446\n",
       "hwsdens               295\n",
       "thorax                155\n",
       "pelvis                149\n",
       "femur                 100\n",
       "patella                86\n",
       "huefte                 85\n",
       "hip                    71\n",
       "spine                  46\n",
       "humerus                45\n",
       "becken                 42\n",
       "forearm                37\n",
       "acjoint                37\n",
       "oberarm                31\n",
       "oberschenkel           28\n",
       "finger                 28\n",
       "abdomen                25\n",
       "gesichtsknochen        22\n",
       "orbita                 19\n",
       "dens                   17\n",
       "lunge                  15\n",
       "fersenbein             15\n",
       "tlspine                14\n",
       "nnh                    13\n",
       "toes                    6\n",
       "cervicothoracic         6\n",
       "jaw                     5\n",
       "extremitat              5\n",
       "sinuses                 4\n",
       "kniekleinkind           4\n",
       "thumb                   3\n",
       "nasalbones              3\n",
       "lsg                     3\n",
       "sacrum                  3\n",
       "unterkiefer             2\n",
       "kopf                    2\n",
       "leg                     2\n",
       "Name: count, dtype: int64"
      ]
     },
     "execution_count": 21,
     "metadata": {},
     "output_type": "execute_result"
    }
   ],
   "source": [
    "df['dcm_BodyPartExamined_mapped'].value_counts()"
   ]
  },
  {
   "cell_type": "code",
   "execution_count": 23,
   "id": "5d70e310-ed6b-4f56-8e04-5de9ca275db6",
   "metadata": {},
   "outputs": [],
   "source": [
    "#min_cols = ['patientid', 'examinationid', 'scanid', 'path', 'pixelarr_shape', 'inverted', 'bodypart', 'dcm_BodyPartExamined',\n",
    "#            'fracture', 'fracture_bool', 'foreignmaterial', 'foreignmaterial_bool']]\n",
    "# Only need\n",
    "# - patientid for stratification\n",
    "# - path for loading the scan\n",
    "# - pixelarr_shape for CustomBatchSampler\n",
    "# - inverted for fixing inverted images\n",
    "# - bodypart & dcm_BodyPartExamined for stratification\n",
    "# - fracture for finetuning\n",
    "# - foreignmaterial for finetuning\n",
    "min_cols = ['patientid', 'path', 'pixelarr_shape', 'inverted', 'bodypart', 'fracture', 'foreignmaterial']"
   ]
  },
  {
   "cell_type": "code",
   "execution_count": 24,
   "id": "4a979ec4-5935-4e81-bb10-aff806c70b89",
   "metadata": {},
   "outputs": [],
   "source": [
    "df_min = df[min_cols]"
   ]
  },
  {
   "cell_type": "code",
   "execution_count": 25,
   "id": "40f3a238-2aa0-4125-8b68-7aa60191de94",
   "metadata": {},
   "outputs": [],
   "source": [
    "df_min = df_min.loc[:, ~df_min.columns.duplicated()]"
   ]
  },
  {
   "cell_type": "code",
   "execution_count": 26,
   "id": "ae2cb362-5955-4ad8-b968-9b71ffbfd613",
   "metadata": {},
   "outputs": [
    {
     "data": {
      "text/plain": [
       "Index(['patientid', 'path', 'pixelarr_shape', 'inverted', 'bodypart',\n",
       "       'fracture', 'foreignmaterial'],\n",
       "      dtype='object')"
      ]
     },
     "execution_count": 26,
     "metadata": {},
     "output_type": "execute_result"
    }
   ],
   "source": [
    "df_min.columns"
   ]
  },
  {
   "cell_type": "code",
   "execution_count": 27,
   "id": "e76be96b-6964-45df-9196-c8ef60ae0dbf",
   "metadata": {},
   "outputs": [
    {
     "name": "stdout",
     "output_type": "stream",
     "text": [
      "Memory for slim df: 251471789 bytes\n",
      "Memory for min df: 31354101 bytes\n"
     ]
    }
   ],
   "source": [
    "# Compare sizes\n",
    "print(f\"Memory for slim df: {df.memory_usage(index=True).sum()} bytes\")\n",
    "print(f\"Memory for min df: {df_min.memory_usage(index=True).sum()} bytes\")"
   ]
  },
  {
   "cell_type": "code",
   "execution_count": 28,
   "id": "16af73a3-b14b-49a9-8f20-d97363db3adb",
   "metadata": {},
   "outputs": [
    {
     "name": "stdout",
     "output_type": "stream",
     "text": [
      "<class 'pandas.core.frame.DataFrame'>\n",
      "RangeIndex: 639877 entries, 0 to 639876\n",
      "Data columns (total 50 columns):\n",
      " #   Column                         Non-Null Count   Dtype  \n",
      "---  ------                         --------------   -----  \n",
      " 0   patientid                      639877 non-null  object \n",
      " 1   bodypart                       639877 non-null  object \n",
      " 2   pixelarr_shape                 639877 non-null  object \n",
      " 3   dcm_StudyDate                  639877 non-null  object \n",
      " 4   dcm_SeriesDate                 639848 non-null  object \n",
      " 5   dcm_ContentDate                639852 non-null  object \n",
      " 6   dcm_StudyTime                  639877 non-null  object \n",
      " 7   dcm_SeriesTime                 639848 non-null  object \n",
      " 8   dcm_AcquisitionTime            639853 non-null  object \n",
      " 9   dcm_ContentTime                639852 non-null  object \n",
      " 10  dcm_SeriesDescription          639872 non-null  object \n",
      " 11  dcm_PatientID                  639877 non-null  object \n",
      " 12  dcm_PatientSex                 639877 non-null  object \n",
      " 13  dcm_PatientAge                 614094 non-null  object \n",
      " 14  dcm_PatientSize                324467 non-null  float64\n",
      " 15  dcm_PatientWeight              533501 non-null  float64\n",
      " 16  dcm_PregnancyStatus            462703 non-null  float64\n",
      " 17  dcm_BodyPartExamined           639877 non-null  object \n",
      " 18  dcm_SpatialResolution          323602 non-null  float64\n",
      " 19  dcm_ImagerPixelSpacing         639877 non-null  object \n",
      " 20  dcm_StudyInstanceUID           639877 non-null  object \n",
      " 21  dcm_SeriesInstanceUID          639877 non-null  object \n",
      " 22  dcm_SeriesNumber               639877 non-null  int64  \n",
      " 23  dcm_InstanceNumber             639877 non-null  float64\n",
      " 24  dcm_PatientOrientation         639877 non-null  object \n",
      " 25  dcm_PhotometricInterpretation  639877 non-null  object \n",
      " 26  dcm_PresentationLUTShape       553217 non-null  object \n",
      " 27  pathstr                        639877 non-null  object \n",
      " 28  path                           639877 non-null  object \n",
      " 29  findingspath                   639877 non-null  object \n",
      " 30  examinationid                  639877 non-null  object \n",
      " 31  inverted                       639877 non-null  bool   \n",
      " 32  pixelarr_dtype                 639877 non-null  object \n",
      " 33  pixelarr_shape                 639877 non-null  object \n",
      " 34  pixelarr_non0count             639877 non-null  float64\n",
      " 35  pixelarr_min                   639877 non-null  float64\n",
      " 36  pixelarr_max                   639877 non-null  float64\n",
      " 37  pixelarr_mean                  639877 non-null  float64\n",
      " 38  pixelarr_std                   639877 non-null  float64\n",
      " 39  pixelarr_non0min               639877 non-null  float64\n",
      " 40  pixelarr_non0mean              639877 non-null  float64\n",
      " 41  pixelarr_non0std               639877 non-null  float64\n",
      " 42  scanid                         639877 non-null  object \n",
      " 43  examinationid_y                673 non-null     object \n",
      " 44  fracture                       673 non-null     object \n",
      " 45  foreignmaterial                673 non-null     object \n",
      " 46  fracture_bool                  653 non-null     object \n",
      " 47  foreignmaterial_bool           672 non-null     object \n",
      " 48  bodypart_old                   639877 non-null  object \n",
      " 49  dcm_BodyPartExamined_mapped    639746 non-null  object \n",
      "dtypes: bool(1), float64(13), int64(1), object(35)\n",
      "memory usage: 239.8+ MB\n"
     ]
    }
   ],
   "source": [
    "df.info()"
   ]
  },
  {
   "cell_type": "code",
   "execution_count": 29,
   "id": "09075c72-0471-4bbc-a74d-5c61be9e403d",
   "metadata": {},
   "outputs": [
    {
     "name": "stdout",
     "output_type": "stream",
     "text": [
      "<class 'pandas.core.frame.DataFrame'>\n",
      "RangeIndex: 639877 entries, 0 to 639876\n",
      "Data columns (total 7 columns):\n",
      " #   Column           Non-Null Count   Dtype \n",
      "---  ------           --------------   ----- \n",
      " 0   patientid        639877 non-null  object\n",
      " 1   path             639877 non-null  object\n",
      " 2   pixelarr_shape   639877 non-null  object\n",
      " 3   inverted         639877 non-null  bool  \n",
      " 4   bodypart         639877 non-null  object\n",
      " 5   fracture         673 non-null     object\n",
      " 6   foreignmaterial  673 non-null     object\n",
      "dtypes: bool(1), object(6)\n",
      "memory usage: 29.9+ MB\n"
     ]
    }
   ],
   "source": [
    "df_min.info()"
   ]
  },
  {
   "cell_type": "code",
   "execution_count": 30,
   "id": "d29a933f-3151-4e35-9750-ba710118bcd5",
   "metadata": {},
   "outputs": [],
   "source": [
    "df_min_loc = Path('../data/df_min.pkl')\n",
    "pd.to_pickle(df_min, df_min_loc)"
   ]
  },
  {
   "cell_type": "markdown",
   "id": "c9bc692a-a2f9-4939-a529-1dba7b7a11e5",
   "metadata": {},
   "source": [
    "# Compare Loading Speed"
   ]
  },
  {
   "cell_type": "code",
   "execution_count": 31,
   "id": "1acfa919-bc33-4d07-947f-6628fa394203",
   "metadata": {},
   "outputs": [
    {
     "name": "stdout",
     "output_type": "stream",
     "text": [
      "CPU times: user 19.8 s, sys: 1.67 s, total: 21.5 s\n",
      "Wall time: 21.4 s\n"
     ]
    }
   ],
   "source": [
    "%%time\n",
    "df_loc = Path('../data/clean_df_slim_frac.pkl')\n",
    "df = pd.read_pickle(df_loc)"
   ]
  },
  {
   "cell_type": "code",
   "execution_count": 32,
   "id": "1d7ad5c5-d124-4536-8f94-7c14299b159e",
   "metadata": {},
   "outputs": [
    {
     "name": "stdout",
     "output_type": "stream",
     "text": [
      "CPU times: user 7.16 s, sys: 89.3 ms, total: 7.25 s\n",
      "Wall time: 7.23 s\n"
     ]
    }
   ],
   "source": [
    "%%time\n",
    "df_min_loc = Path('../data/df_min.pkl')\n",
    "df_min = pd.read_pickle(df_min_loc)"
   ]
  }
 ],
 "metadata": {
  "kernelspec": {
   "display_name": "Python 3 (ipykernel)",
   "language": "python",
   "name": "python3"
  },
  "language_info": {
   "codemirror_mode": {
    "name": "ipython",
    "version": 3
   },
   "file_extension": ".py",
   "mimetype": "text/x-python",
   "name": "python",
   "nbconvert_exporter": "python",
   "pygments_lexer": "ipython3",
   "version": "3.10.12"
  }
 },
 "nbformat": 4,
 "nbformat_minor": 5
}
