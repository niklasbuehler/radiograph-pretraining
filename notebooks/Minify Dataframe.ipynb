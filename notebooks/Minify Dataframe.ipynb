{
 "cells": [
  {
   "cell_type": "code",
   "execution_count": 1,
   "id": "84392146-79ae-4b6f-89e0-65de88ac79f7",
   "metadata": {},
   "outputs": [],
   "source": [
    "from pathlib import Path\n",
    "import torch\n",
    "import pandas as pd\n",
    "import stat\n",
    "import numbers\n",
    "import pydicom\n",
    "import numpy as np\n",
    "from tqdm import tqdm\n",
    "from collections import Counter\n",
    "import re\n",
    "import os\n",
    "from PIL import Image\n",
    "from matplotlib import pyplot as plt\n",
    "import cv2"
   ]
  },
  {
   "cell_type": "code",
   "execution_count": 2,
   "id": "a3e7d9b9-e614-4b0a-832d-b4718550ab1f",
   "metadata": {},
   "outputs": [
    {
     "data": {
      "text/plain": [
       "PosixPath('/home/buehlern/Documents/Masterarbeit/notebooks')"
      ]
     },
     "execution_count": 2,
     "metadata": {},
     "output_type": "execute_result"
    }
   ],
   "source": [
    "Path().resolve()"
   ]
  },
  {
   "cell_type": "code",
   "execution_count": 3,
   "id": "afe74aa8-70f7-46a0-91a3-5a07f2859100",
   "metadata": {},
   "outputs": [],
   "source": [
    "df_loc = Path('../data/clean_df_slim_frac.pkl')\n",
    "df = pd.read_pickle(df_loc)"
   ]
  },
  {
   "cell_type": "code",
   "execution_count": 4,
   "id": "ec3cb91f-6959-48d8-ba90-55900ce8dfcc",
   "metadata": {},
   "outputs": [],
   "source": [
    "df = df.rename(columns={'examinationid_x': 'examinationid'})"
   ]
  },
  {
   "cell_type": "code",
   "execution_count": 5,
   "id": "3b053710-e73b-4dc2-a48d-999ce83ecd3a",
   "metadata": {},
   "outputs": [
    {
     "data": {
      "text/plain": [
       "Index(['patientid', 'bodypart', 'pixelarr_shape', 'dcm_StudyDate',\n",
       "       'dcm_SeriesDate', 'dcm_ContentDate', 'dcm_StudyTime', 'dcm_SeriesTime',\n",
       "       'dcm_AcquisitionTime', 'dcm_ContentTime', 'dcm_SeriesDescription',\n",
       "       'dcm_PatientID', 'dcm_PatientSex', 'dcm_PatientAge', 'dcm_PatientSize',\n",
       "       'dcm_PatientWeight', 'dcm_PregnancyStatus', 'dcm_BodyPartExamined',\n",
       "       'dcm_SpatialResolution', 'dcm_ImagerPixelSpacing',\n",
       "       'dcm_StudyInstanceUID', 'dcm_SeriesInstanceUID', 'dcm_SeriesNumber',\n",
       "       'dcm_InstanceNumber', 'dcm_PatientOrientation',\n",
       "       'dcm_PhotometricInterpretation', 'dcm_PresentationLUTShape', 'pathstr',\n",
       "       'path', 'findingspath', 'examinationid', 'inverted', 'pixelarr_dtype',\n",
       "       'pixelarr_shape', 'pixelarr_non0count', 'pixelarr_min', 'pixelarr_max',\n",
       "       'pixelarr_mean', 'pixelarr_std', 'pixelarr_non0min',\n",
       "       'pixelarr_non0mean', 'pixelarr_non0std', 'scanid', 'examinationid_y',\n",
       "       'fracture', 'foreignmaterial', 'fracture_bool', 'foreignmaterial_bool'],\n",
       "      dtype='object')"
      ]
     },
     "execution_count": 5,
     "metadata": {},
     "output_type": "execute_result"
    }
   ],
   "source": [
    "df.columns"
   ]
  },
  {
   "cell_type": "code",
   "execution_count": 6,
   "id": "3023c8b4-e92e-4f40-84a5-14bc99821477",
   "metadata": {},
   "outputs": [
    {
     "data": {
      "text/plain": [
       "bodypart\n",
       "KNIE_NEU          169595\n",
       "SCHULTER_NEU      107070\n",
       "SG_NEU             81577\n",
       "ELLENBOGEN_NEU     55914\n",
       "FUSS_NEU           53385\n",
       "HG_NEU             43246\n",
       "HAND_NEU           41201\n",
       "HWS_NEU            35150\n",
       "CLAVICULA_NEU      20506\n",
       "BWS_NEU            13995\n",
       "LWS_NEU            10756\n",
       "DX_Schädel_Neu      3164\n",
       "DX_RIPPEN           2668\n",
       "SCAPULA_NEU         1650\n",
       "Name: count, dtype: int64"
      ]
     },
     "execution_count": 6,
     "metadata": {},
     "output_type": "execute_result"
    }
   ],
   "source": [
    "df['bodypart'].value_counts()"
   ]
  },
  {
   "cell_type": "code",
   "execution_count": 7,
   "id": "06d57120-cff0-4c02-9f5b-eaea707ea659",
   "metadata": {},
   "outputs": [
    {
     "data": {
      "text/plain": [
       "dcm_BodyPartExamined\n",
       "KNEE            142342\n",
       "SHOULDER         74984\n",
       "HAND             73011\n",
       "ANKLE            52309\n",
       "FOOT             49051\n",
       "                 ...  \n",
       "PORT L SPINE         2\n",
       "UNTERKIEFER          2\n",
       "KOPF                 2\n",
       "BEIN                 2\n",
       "H_FTE                1\n",
       "Name: count, Length: 85, dtype: int64"
      ]
     },
     "execution_count": 7,
     "metadata": {},
     "output_type": "execute_result"
    }
   ],
   "source": [
    "df['dcm_BodyPartExamined'].value_counts()"
   ]
  },
  {
   "cell_type": "code",
   "execution_count": 9,
   "id": "5d70e310-ed6b-4f56-8e04-5de9ca275db6",
   "metadata": {},
   "outputs": [],
   "source": [
    "#min_cols = ['patientid', 'examinationid', 'scanid', 'path', 'pixelarr_shape', 'inverted', 'bodypart', 'dcm_BodyPartExamined',\n",
    "#            'fracture', 'fracture_bool', 'foreignmaterial', 'foreignmaterial_bool']]\n",
    "# Only need\n",
    "# - patientid for stratification\n",
    "# - path for loading the scan\n",
    "# - pixelarr_shape for CustomBatchSampler\n",
    "# - inverted for fixing inverted images\n",
    "# - bodypart & dcm_BodyPartExamined for stratification\n",
    "# - fracture for finetuning\n",
    "# - foreignmaterial for finetuning\n",
    "min_cols = ['patientid', 'path', 'pixelarr_shape', 'inverted', 'bodypart', 'dcm_BodyPartExamined', 'fracture', 'foreignmaterial']"
   ]
  },
  {
   "cell_type": "code",
   "execution_count": 10,
   "id": "4a979ec4-5935-4e81-bb10-aff806c70b89",
   "metadata": {},
   "outputs": [],
   "source": [
    "df_min = df[min_cols]"
   ]
  },
  {
   "cell_type": "code",
   "execution_count": 11,
   "id": "40f3a238-2aa0-4125-8b68-7aa60191de94",
   "metadata": {},
   "outputs": [],
   "source": [
    "df_min = df_min.loc[:, ~df_min.columns.duplicated()]"
   ]
  },
  {
   "cell_type": "code",
   "execution_count": 12,
   "id": "ae2cb362-5955-4ad8-b968-9b71ffbfd613",
   "metadata": {},
   "outputs": [
    {
     "data": {
      "text/plain": [
       "Index(['patientid', 'path', 'pixelarr_shape', 'inverted', 'bodypart',\n",
       "       'dcm_BodyPartExamined', 'fracture', 'foreignmaterial'],\n",
       "      dtype='object')"
      ]
     },
     "execution_count": 12,
     "metadata": {},
     "output_type": "execute_result"
    }
   ],
   "source": [
    "df_min.columns"
   ]
  },
  {
   "cell_type": "code",
   "execution_count": 13,
   "id": "e76be96b-6964-45df-9196-c8ef60ae0dbf",
   "metadata": {},
   "outputs": [
    {
     "name": "stdout",
     "output_type": "stream",
     "text": [
      "Memory for slim df: 241233757 bytes\n",
      "Memory for min df: 36473117 bytes\n"
     ]
    }
   ],
   "source": [
    "# Compare sizes\n",
    "print(f\"Memory for slim df: {df.memory_usage(index=True).sum()} bytes\")\n",
    "print(f\"Memory for min df: {df_min.memory_usage(index=True).sum()} bytes\")"
   ]
  },
  {
   "cell_type": "code",
   "execution_count": 14,
   "id": "16af73a3-b14b-49a9-8f20-d97363db3adb",
   "metadata": {},
   "outputs": [
    {
     "name": "stdout",
     "output_type": "stream",
     "text": [
      "<class 'pandas.core.frame.DataFrame'>\n",
      "RangeIndex: 639877 entries, 0 to 639876\n",
      "Data columns (total 48 columns):\n",
      " #   Column                         Non-Null Count   Dtype  \n",
      "---  ------                         --------------   -----  \n",
      " 0   patientid                      639877 non-null  object \n",
      " 1   bodypart                       639877 non-null  object \n",
      " 2   pixelarr_shape                 639877 non-null  object \n",
      " 3   dcm_StudyDate                  639877 non-null  object \n",
      " 4   dcm_SeriesDate                 639848 non-null  object \n",
      " 5   dcm_ContentDate                639852 non-null  object \n",
      " 6   dcm_StudyTime                  639877 non-null  object \n",
      " 7   dcm_SeriesTime                 639848 non-null  object \n",
      " 8   dcm_AcquisitionTime            639853 non-null  object \n",
      " 9   dcm_ContentTime                639852 non-null  object \n",
      " 10  dcm_SeriesDescription          639872 non-null  object \n",
      " 11  dcm_PatientID                  639877 non-null  object \n",
      " 12  dcm_PatientSex                 639877 non-null  object \n",
      " 13  dcm_PatientAge                 614094 non-null  object \n",
      " 14  dcm_PatientSize                324467 non-null  float64\n",
      " 15  dcm_PatientWeight              533501 non-null  float64\n",
      " 16  dcm_PregnancyStatus            462703 non-null  float64\n",
      " 17  dcm_BodyPartExamined           639867 non-null  object \n",
      " 18  dcm_SpatialResolution          323602 non-null  float64\n",
      " 19  dcm_ImagerPixelSpacing         639877 non-null  object \n",
      " 20  dcm_StudyInstanceUID           639877 non-null  object \n",
      " 21  dcm_SeriesInstanceUID          639877 non-null  object \n",
      " 22  dcm_SeriesNumber               639877 non-null  int64  \n",
      " 23  dcm_InstanceNumber             639877 non-null  float64\n",
      " 24  dcm_PatientOrientation         639877 non-null  object \n",
      " 25  dcm_PhotometricInterpretation  639877 non-null  object \n",
      " 26  dcm_PresentationLUTShape       553217 non-null  object \n",
      " 27  pathstr                        639877 non-null  object \n",
      " 28  path                           639877 non-null  object \n",
      " 29  findingspath                   639877 non-null  object \n",
      " 30  examinationid                  639877 non-null  object \n",
      " 31  inverted                       639877 non-null  bool   \n",
      " 32  pixelarr_dtype                 639877 non-null  object \n",
      " 33  pixelarr_shape                 639877 non-null  object \n",
      " 34  pixelarr_non0count             639877 non-null  float64\n",
      " 35  pixelarr_min                   639877 non-null  float64\n",
      " 36  pixelarr_max                   639877 non-null  float64\n",
      " 37  pixelarr_mean                  639877 non-null  float64\n",
      " 38  pixelarr_std                   639877 non-null  float64\n",
      " 39  pixelarr_non0min               639877 non-null  float64\n",
      " 40  pixelarr_non0mean              639877 non-null  float64\n",
      " 41  pixelarr_non0std               639877 non-null  float64\n",
      " 42  scanid                         639877 non-null  object \n",
      " 43  examinationid_y                673 non-null     object \n",
      " 44  fracture                       673 non-null     object \n",
      " 45  foreignmaterial                673 non-null     object \n",
      " 46  fracture_bool                  653 non-null     object \n",
      " 47  foreignmaterial_bool           672 non-null     object \n",
      "dtypes: bool(1), float64(13), int64(1), object(33)\n",
      "memory usage: 230.1+ MB\n"
     ]
    }
   ],
   "source": [
    "df.info()"
   ]
  },
  {
   "cell_type": "code",
   "execution_count": 15,
   "id": "09075c72-0471-4bbc-a74d-5c61be9e403d",
   "metadata": {},
   "outputs": [
    {
     "name": "stdout",
     "output_type": "stream",
     "text": [
      "<class 'pandas.core.frame.DataFrame'>\n",
      "RangeIndex: 639877 entries, 0 to 639876\n",
      "Data columns (total 8 columns):\n",
      " #   Column                Non-Null Count   Dtype \n",
      "---  ------                --------------   ----- \n",
      " 0   patientid             639877 non-null  object\n",
      " 1   path                  639877 non-null  object\n",
      " 2   pixelarr_shape        639877 non-null  object\n",
      " 3   inverted              639877 non-null  bool  \n",
      " 4   bodypart              639877 non-null  object\n",
      " 5   dcm_BodyPartExamined  639867 non-null  object\n",
      " 6   fracture              673 non-null     object\n",
      " 7   foreignmaterial       673 non-null     object\n",
      "dtypes: bool(1), object(7)\n",
      "memory usage: 34.8+ MB\n"
     ]
    }
   ],
   "source": [
    "df_min.info()"
   ]
  },
  {
   "cell_type": "code",
   "execution_count": 16,
   "id": "d29a933f-3151-4e35-9750-ba710118bcd5",
   "metadata": {},
   "outputs": [],
   "source": [
    "df_min_loc = Path('../data/df_min.pkl')\n",
    "pd.to_pickle(df_min, df_min_loc)"
   ]
  },
  {
   "cell_type": "markdown",
   "id": "c9bc692a-a2f9-4939-a529-1dba7b7a11e5",
   "metadata": {},
   "source": [
    "# Compare Loading Speed"
   ]
  },
  {
   "cell_type": "code",
   "execution_count": 18,
   "id": "1acfa919-bc33-4d07-947f-6628fa394203",
   "metadata": {},
   "outputs": [
    {
     "name": "stdout",
     "output_type": "stream",
     "text": [
      "CPU times: user 19.8 s, sys: 1.62 s, total: 21.5 s\n",
      "Wall time: 21.4 s\n"
     ]
    }
   ],
   "source": [
    "%%time\n",
    "df_loc = Path('../data/clean_df_slim_frac.pkl')\n",
    "df = pd.read_pickle(df_loc)"
   ]
  },
  {
   "cell_type": "code",
   "execution_count": 19,
   "id": "1d7ad5c5-d124-4536-8f94-7c14299b159e",
   "metadata": {},
   "outputs": [
    {
     "name": "stdout",
     "output_type": "stream",
     "text": [
      "CPU times: user 7.17 s, sys: 125 ms, total: 7.3 s\n",
      "Wall time: 7.27 s\n"
     ]
    }
   ],
   "source": [
    "%%time\n",
    "df_min_loc = Path('../data/df_min.pkl')\n",
    "df_min = pd.read_pickle(df_min_loc)"
   ]
  }
 ],
 "metadata": {
  "kernelspec": {
   "display_name": "Python 3 (ipykernel)",
   "language": "python",
   "name": "python3"
  },
  "language_info": {
   "codemirror_mode": {
    "name": "ipython",
    "version": 3
   },
   "file_extension": ".py",
   "mimetype": "text/x-python",
   "name": "python",
   "nbconvert_exporter": "python",
   "pygments_lexer": "ipython3",
   "version": "3.10.12"
  }
 },
 "nbformat": 4,
 "nbformat_minor": 5
}
