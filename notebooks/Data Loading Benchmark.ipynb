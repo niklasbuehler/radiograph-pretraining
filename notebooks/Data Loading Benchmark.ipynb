{
 "cells": [
  {
   "cell_type": "code",
   "execution_count": 1,
   "id": "d5365115-95b0-48f6-adad-f5a0fd805eff",
   "metadata": {},
   "outputs": [],
   "source": [
    "from pathlib import Path\n",
    "import torch\n",
    "import pandas as pd\n",
    "import stat\n",
    "import numbers\n",
    "import pydicom\n",
    "import numpy as np\n",
    "from tqdm import tqdm\n",
    "from collections import Counter\n",
    "import re\n",
    "import os\n",
    "from PIL import Image\n",
    "from matplotlib import pyplot as plt\n",
    "import shutil"
   ]
  },
  {
   "cell_type": "code",
   "execution_count": 2,
   "id": "eda9b0bc-dbb2-46c5-91bf-9af63ad38c23",
   "metadata": {},
   "outputs": [
    {
     "data": {
      "text/plain": [
       "PosixPath('/home/buehlern/Documents/Masterarbeit/notebooks')"
      ]
     },
     "execution_count": 2,
     "metadata": {},
     "output_type": "execute_result"
    }
   ],
   "source": [
    "Path().resolve()"
   ]
  },
  {
   "cell_type": "code",
   "execution_count": 3,
   "id": "d7fb60c6-4db1-417f-97f8-cd1085a02062",
   "metadata": {},
   "outputs": [],
   "source": [
    "df_loc = Path('cache/prep_df.pkl')\n",
    "df = pd.read_pickle(df_loc)"
   ]
  },
  {
   "cell_type": "code",
   "execution_count": 4,
   "id": "f76abe53-458d-46b7-98f0-6874a0162065",
   "metadata": {},
   "outputs": [],
   "source": [
    "def open_images(paths):\n",
    "    for p in paths:\n",
    "        image = pydicom.read_file(p).pixel_array"
   ]
  },
  {
   "cell_type": "markdown",
   "id": "fc808bf2-3759-4fe6-8f36-9f2bd4234c3b",
   "metadata": {},
   "source": [
    "# Copy to local storage"
   ]
  },
  {
   "cell_type": "code",
   "execution_count": 5,
   "id": "dbd6a027-f709-45e4-b0a3-2a57d5af9985",
   "metadata": {},
   "outputs": [],
   "source": [
    "paths = df.sample(1000)['path']"
   ]
  },
  {
   "cell_type": "code",
   "execution_count": 6,
   "id": "659fab81-29bf-4aae-8700-d7e1ea942ba1",
   "metadata": {},
   "outputs": [
    {
     "name": "stdout",
     "output_type": "stream",
     "text": [
      "CPU times: user 3.63 s, sys: 20.4 s, total: 24 s\n",
      "Wall time: 3min 9s\n"
     ]
    }
   ],
   "source": [
    "%%time\n",
    "local_paths = []\n",
    "for i, p in enumerate(paths):\n",
    "    local_p = Path() / ('benchmark-cache/dicom/img-' + str(i))\n",
    "    shutil.copyfile(p, local_p)\n",
    "    local_paths.append(local_p)"
   ]
  },
  {
   "cell_type": "markdown",
   "id": "8aeaa200-8978-4ae3-966e-251be1e74ea4",
   "metadata": {},
   "source": [
    "# Open from NAS vs local"
   ]
  },
  {
   "cell_type": "code",
   "execution_count": 7,
   "id": "1db9cc80-821e-41b7-8386-c31462dffee3",
   "metadata": {},
   "outputs": [
    {
     "name": "stdout",
     "output_type": "stream",
     "text": [
      "CPU times: user 10.8 s, sys: 13.7 s, total: 24.5 s\n",
      "Wall time: 2min 50s\n"
     ]
    }
   ],
   "source": [
    "%%time\n",
    "open_images(paths)"
   ]
  },
  {
   "cell_type": "code",
   "execution_count": 8,
   "id": "26d72c14-aefe-45a2-a016-ee20df2a27bd",
   "metadata": {},
   "outputs": [
    {
     "name": "stdout",
     "output_type": "stream",
     "text": [
      "CPU times: user 2.82 s, sys: 3.08 s, total: 5.91 s\n",
      "Wall time: 6.07 s\n"
     ]
    }
   ],
   "source": [
    "%%time\n",
    "open_images(local_paths)"
   ]
  },
  {
   "cell_type": "markdown",
   "id": "2646243e-1827-45a3-8aca-d9b4caf2ebce",
   "metadata": {},
   "source": [
    "# Saving as .npy"
   ]
  },
  {
   "cell_type": "code",
   "execution_count": 9,
   "id": "b8dca007-6171-4e27-b147-6bd595d306f7",
   "metadata": {},
   "outputs": [
    {
     "name": "stdout",
     "output_type": "stream",
     "text": [
      "CPU times: user 15.5 s, sys: 35 s, total: 50.5 s\n",
      "Wall time: 7min 10s\n"
     ]
    }
   ],
   "source": [
    "%%time\n",
    "npy_paths = []\n",
    "npy_paths_local = []\n",
    "for i, p in enumerate(paths):\n",
    "    npy_p = Path('/home/buehlern/neocortex-nas/buehlern/Masterarbeit') / ('benchmark-cache/npy/img-' + str(i) + '.npy')\n",
    "    npy_p_l =  Path() / ('benchmark-cache/npy/img-' + str(i) + '.npy')\n",
    "    image = pydicom.read_file(p).pixel_array\n",
    "    np.save(npy_p, image)\n",
    "    np.save(npy_p_l, image)\n",
    "    npy_paths.append(npy_p)\n",
    "    npy_paths_local.append(npy_p_l)"
   ]
  },
  {
   "cell_type": "code",
   "execution_count": 10,
   "id": "9402063c-3ed5-4594-92b9-0f85bb76e56c",
   "metadata": {},
   "outputs": [],
   "source": [
    "def open_images_npy(paths):\n",
    "    for p in paths:\n",
    "        image = np.load(p)"
   ]
  },
  {
   "cell_type": "code",
   "execution_count": 11,
   "id": "88646174-1c29-4ff5-b862-d0f2da2657be",
   "metadata": {},
   "outputs": [
    {
     "name": "stdout",
     "output_type": "stream",
     "text": [
      "CPU times: user 3.55 s, sys: 12.7 s, total: 16.2 s\n",
      "Wall time: 2min 25s\n"
     ]
    }
   ],
   "source": [
    "%%time\n",
    "open_images_npy(npy_paths)"
   ]
  },
  {
   "cell_type": "code",
   "execution_count": 12,
   "id": "c05a50fd-c2b6-4071-9aff-950e540d58df",
   "metadata": {},
   "outputs": [
    {
     "name": "stdout",
     "output_type": "stream",
     "text": [
      "CPU times: user 252 ms, sys: 3.43 s, total: 3.68 s\n",
      "Wall time: 3.88 s\n"
     ]
    }
   ],
   "source": [
    "%%time\n",
    "open_images_npy(npy_paths_local)"
   ]
  }
 ],
 "metadata": {
  "kernelspec": {
   "display_name": "Python 3 (ipykernel)",
   "language": "python",
   "name": "python3"
  },
  "language_info": {
   "codemirror_mode": {
    "name": "ipython",
    "version": 3
   },
   "file_extension": ".py",
   "mimetype": "text/x-python",
   "name": "python",
   "nbconvert_exporter": "python",
   "pygments_lexer": "ipython3",
   "version": "3.8.10"
  }
 },
 "nbformat": 4,
 "nbformat_minor": 5
}
