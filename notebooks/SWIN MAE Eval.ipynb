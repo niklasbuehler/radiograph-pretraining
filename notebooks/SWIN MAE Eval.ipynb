{
 "cells": [
  {
   "cell_type": "code",
   "execution_count": 1,
   "id": "a031ac8e-afa6-497f-980a-52590ef8e5ad",
   "metadata": {},
   "outputs": [],
   "source": [
    "import torch\n",
    "import collections\n",
    "import matplotlib.pyplot as plt\n",
    "import numpy as np\n",
    "import random\n",
    "import torch.nn.functional as F"
   ]
  },
  {
   "cell_type": "code",
   "execution_count": 2,
   "id": "4d8f0d09-c7b0-4e9b-85f5-42063fc58ed6",
   "metadata": {},
   "outputs": [
    {
     "name": "stderr",
     "output_type": "stream",
     "text": [
      "/home/buehlern/.local/lib/python3.10/site-packages/tqdm/auto.py:21: TqdmWarning: IProgress not found. Please update jupyter and ipywidgets. See https://ipywidgets.readthedocs.io/en/stable/user_install.html\n",
      "  from .autonotebook import tqdm as notebook_tqdm\n"
     ]
    }
   ],
   "source": [
    "import sys\n",
    "sys.path.insert(1, '/home/buehlern/Documents/Masterarbeit/models')\n",
    "from src.data.mri_datamodule import MRIDataModule\n",
    "from src.models.swin_mae_module import SWINTransformerMAE\n",
    "from src.models.components.mask_generator import MaskGenerator"
   ]
  },
  {
   "cell_type": "code",
   "execution_count": 3,
   "id": "6671f5db-e7a2-4cb5-b420-49d79564443e",
   "metadata": {},
   "outputs": [],
   "source": [
    "mae = SWINTransformerMAE(image_size = 3072, patch_size = 8, encoder_stride = 64)"
   ]
  },
  {
   "cell_type": "code",
   "execution_count": 4,
   "id": "78b39e94-12e9-4b1e-8d12-0ac5f1a7f268",
   "metadata": {},
   "outputs": [
    {
     "name": "stdout",
     "output_type": "stream",
     "text": [
      "initializing MRIDatasetBase ...\n",
      "reading /home/buehlern/Documents/Masterarbeit/data/clean_df_slim_frac.pkl file ...\n",
      "PATH /home/buehlern/Documents/Masterarbeit/data/BodyPartExamined_mappings_mergemore.json\n",
      "/home/buehlern/Documents/Masterarbeit/data/cache-full/df_labelcomparison.pkl does not exit --> no items excluded by it\n",
      "MRIDatasetBase(len=639877) initialized\n",
      "\n",
      "initializing MRIDataset(mode=train) ...\n",
      "MRIDataset(mode=train, len=516402) initialized\n",
      "\n",
      "initializing MRIDataset(mode=val) ...\n",
      "MRIDataset(mode=val, len=27518) initialized\n",
      "\n",
      "initializing MRIDataset(mode=test) ...\n",
      "WARN: including test data\n",
      "MRIDataset(mode=test, len=95957) initialized\n"
     ]
    }
   ],
   "source": [
    "mri_datamodule = MRIDataModule(image_size = 3072, square = True, output_channels = 1, cache = False, fix_inverted = True)"
   ]
  },
  {
   "cell_type": "code",
   "execution_count": 5,
   "id": "fc40bc59-1a59-4e75-a6c1-9714d1362235",
   "metadata": {},
   "outputs": [],
   "source": [
    "def show_image(image, title=''):\n",
    "    # image is [H, W, 1]\n",
    "    #print(image.shape)\n",
    "    assert image.shape[2] == 1\n",
    "    plt.imshow(image, cmap=plt.cm.bone)\n",
    "    plt.title(title, fontsize=16)\n",
    "    plt.axis('off')\n",
    "    return"
   ]
  },
  {
   "cell_type": "code",
   "execution_count": 6,
   "id": "5fb9cda3-94c7-4e8c-a928-21e37b49644a",
   "metadata": {},
   "outputs": [],
   "source": [
    "mask_generator = MaskGenerator(\n",
    "    input_size = mae.image_size,\n",
    "    mask_patch_size = mae.patch_size,\n",
    "    model_patch_size = mae.patch_size,\n",
    "    mask_ratio = mae.mask_ratio\n",
    ")"
   ]
  },
  {
   "cell_type": "code",
   "execution_count": 10,
   "id": "4df7dcff-8830-4bd2-a405-b22ed57248d5",
   "metadata": {},
   "outputs": [],
   "source": [
    "def visualize(pixel_values, model, imgname=None):\n",
    "    # simulate forward pass\n",
    "    inputs = pixel_values # torch.stack([pixel_values])\n",
    "    # Generate batch of masks\n",
    "    bool_masked_pos = torch.stack([mask_generator() for item in inputs])\n",
    "    outputs = mae.net(inputs, bool_masked_pos=bool_masked_pos, interpolate_pos_encoding=False)\n",
    "    y = outputs.reconstruction\n",
    "    y = torch.einsum('nchw->nhwc', y).detach().cpu()\n",
    "    \n",
    "    # visualize the mask\n",
    "    mask = bool_masked_pos\n",
    "    #print(\"mask.shape\", mask.shape) # (1, 147456)\n",
    "    num_patches = model.image_size // model.patch_size\n",
    "    mask = mask.view(-1, num_patches, num_patches)\n",
    "    #print(\"mask.shape\", mask.shape) # (1, 384, 384)\n",
    "    mask = F.interpolate(mask.unsqueeze(1).float(),\n",
    "                         size=(model.image_size, model.image_size),\n",
    "                         mode=\"nearest\")\n",
    "    #print(\"mask.shape\", mask.shape) # (1, 1, 3072, 3072)\n",
    "    mask = torch.einsum('nchw->nhwc', mask).detach().cpu()\n",
    "    #print(\"mask.shape\", mask.shape) # (1, 3072, 3072, 1)\n",
    "    \n",
    "    x = torch.einsum('nchw->nhwc', pixel_values)\n",
    "\n",
    "    # masked image\n",
    "    im_masked = x * (1 - mask)\n",
    "\n",
    "    # MAE reconstruction pasted with visible patches\n",
    "    im_paste = x * (1 - mask) + y * mask\n",
    "\n",
    "    # make the plt figure larger\n",
    "    plt.rcParams['figure.figsize'] = [24, 10]\n",
    "\n",
    "    plt.subplot(1, 4, 1)\n",
    "    show_image(x[0], \"original\")\n",
    "\n",
    "    plt.subplot(1, 4, 2)\n",
    "    show_image(im_masked[0], \"masked\")\n",
    "\n",
    "    plt.subplot(1, 4, 3)\n",
    "    show_image(y[0], f\"reconstruction (loss: {outputs.loss.item():.4f})\")\n",
    "\n",
    "    plt.subplot(1, 4, 4)\n",
    "    show_image(im_paste[0], \"reconstruction + visible\")\n",
    "\n",
    "    if imgname is not None:\n",
    "        plt.savefig('/home/buehlern/Documents/Masterarbeit/notebooks/Data Exploration Graphics/Model Eval/SWIN MAE Untrained/' + str(imgname) + '.png')\n",
    "    plt.show()"
   ]
  },
  {
   "cell_type": "code",
   "execution_count": 8,
   "id": "672b3ca9-4b73-40d0-80a9-f8c016a979aa",
   "metadata": {},
   "outputs": [],
   "source": [
    "dl_iter = iter(mri_datamodule.data_val)"
   ]
  },
  {
   "cell_type": "code",
   "execution_count": null,
   "id": "f76570c2-bd41-4005-8265-1f994c0939ee",
   "metadata": {},
   "outputs": [],
   "source": [
    "item = next(dl_iter)\n",
    "image = item[0]\n",
    "batch = image.unsqueeze(0)\n",
    "visualize(batch, mae, imgname=\"0\")"
   ]
  }
 ],
 "metadata": {
  "kernelspec": {
   "display_name": "Python 3 (ipykernel)",
   "language": "python",
   "name": "python3"
  },
  "language_info": {
   "codemirror_mode": {
    "name": "ipython",
    "version": 3
   },
   "file_extension": ".py",
   "mimetype": "text/x-python",
   "name": "python",
   "nbconvert_exporter": "python",
   "pygments_lexer": "ipython3",
   "version": "3.10.12"
  }
 },
 "nbformat": 4,
 "nbformat_minor": 5
}
