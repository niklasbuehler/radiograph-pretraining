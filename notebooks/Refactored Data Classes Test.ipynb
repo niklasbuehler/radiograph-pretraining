{
 "cells": [
  {
   "cell_type": "code",
   "execution_count": 1,
   "id": "74a19bde-9e40-4de1-89ca-8c133a5b4957",
   "metadata": {},
   "outputs": [
    {
     "name": "stderr",
     "output_type": "stream",
     "text": [
      "/home/buehlern/.local/lib/python3.10/site-packages/tqdm/auto.py:21: TqdmWarning: IProgress not found. Please update jupyter and ipywidgets. See https://ipywidgets.readthedocs.io/en/stable/user_install.html\n",
      "  from .autonotebook import tqdm as notebook_tqdm\n"
     ]
    }
   ],
   "source": [
    "import sys\n",
    "sys.path.insert(1, '/home/buehlern/Documents/Masterarbeit/models')\n",
    "from src.data.mri_datamodule import MRIDataModule"
   ]
  },
  {
   "cell_type": "code",
   "execution_count": 2,
   "id": "56e58d16-f748-4d86-9894-f30a17f51fdd",
   "metadata": {},
   "outputs": [
    {
     "name": "stdout",
     "output_type": "stream",
     "text": [
      "Using label bodypart as stratification_target\n",
      "Initializing MRIDatasetBase...\n",
      "Loading dataframe from /home/buehlern/Documents/Masterarbeit/data/df_min.pkl...\n",
      "MRIDatasetBase(len=639877) initialized\n",
      "Initializing MRIDataset(mode=train)...\n"
     ]
    },
    {
     "name": "stdin",
     "output_type": "stream",
     "text": [
      "WARN: NO TRAINVAL TEST SPLIT FOUND AT /home/buehlern/Documents/Masterarbeit/data/splits/split_test_df_min_straton_bodypart.csv, type YES[enter] to generate one:  YES\n"
     ]
    },
    {
     "name": "stdout",
     "output_type": "stream",
     "text": [
      "WARN: GENERATING NEW TRAINVAL TEST SPLIT\n",
      "MRIDataset(mode=train, len=516509) initialized\n",
      "Initializing MRIDataset(mode=val)...\n",
      "MRIDataset(mode=val, len=26987) initialized\n",
      "Initializing MRIDataset(mode=test)...\n",
      "WARN: Including test data\n",
      "MRIDataset(mode=test, len=96381) initialized\n"
     ]
    }
   ],
   "source": [
    "# Load the DataModule\n",
    "mri_datamodule = MRIDataModule(\n",
    "            batch_size=16,\n",
    "            num_workers=64,\n",
    "            persistent_workers=True,\n",
    "            pin_memory=True,\n",
    "            #df_name='df_min_ft_test_114',\n",
    "            batch_binning='smart',\n",
    "            label='bodypart')"
   ]
  },
  {
   "cell_type": "code",
   "execution_count": 3,
   "id": "caa8eada-f97d-4f7e-821b-dfd2eb2da9fb",
   "metadata": {},
   "outputs": [
    {
     "ename": "NameError",
     "evalue": "name 'data_source' is not defined",
     "output_type": "error",
     "traceback": [
      "\u001b[0;31m---------------------------------------------------------------------------\u001b[0m",
      "\u001b[0;31mNameError\u001b[0m                                 Traceback (most recent call last)",
      "Cell \u001b[0;32mIn[3], line 2\u001b[0m\n\u001b[1;32m      1\u001b[0m it \u001b[38;5;241m=\u001b[39m \u001b[38;5;28miter\u001b[39m(mri_datamodule\u001b[38;5;241m.\u001b[39mdata_test)\n\u001b[0;32m----> 2\u001b[0m total \u001b[38;5;241m=\u001b[39m \u001b[38;5;28mlen\u001b[39m(\u001b[43mdata_source\u001b[49m)\n\u001b[1;32m      3\u001b[0m \u001b[38;5;28;01mfor\u001b[39;00m i \u001b[38;5;129;01min\u001b[39;00m \u001b[38;5;28mrange\u001b[39m(total):\n\u001b[1;32m      4\u001b[0m     item \u001b[38;5;241m=\u001b[39m \u001b[38;5;28mnext\u001b[39m(it)\n",
      "\u001b[0;31mNameError\u001b[0m: name 'data_source' is not defined"
     ]
    }
   ],
   "source": [
    "it = iter(mri_datamodule.data_test)\n",
    "total = len(data_source)\n",
    "for i in range(total):\n",
    "    item = next(it)\n",
    "    image = item[0]\n",
    "    label = item[1]\n",
    "    print(f\"{i}/{total} ({(100 * i / total):.2f}%): {label}\")"
   ]
  },
  {
   "cell_type": "code",
   "execution_count": null,
   "id": "bc8d8e35-0e22-4a71-9eba-431dd918811e",
   "metadata": {},
   "outputs": [],
   "source": [
    "data_sources = [mri_datamodule.data_train, mri_datamodule.data_val, mri_datamodule.data_test]\n",
    "for data_source in data_sources:\n",
    "    it = iter(data_source)\n",
    "    frac = 0\n",
    "    total = len(data_source)\n",
    "    for i in range(total):\n",
    "        item = next(it)\n",
    "        image = item[0]\n",
    "        label = item[1]\n",
    "        frac += label\n",
    "    print(f\"Fractures: {frac}/{total}\")"
   ]
  },
  {
   "cell_type": "markdown",
   "id": "b3c9bd55-439d-433b-9daf-98a085e56c8f",
   "metadata": {},
   "source": [
    "# Debug Training Error"
   ]
  },
  {
   "cell_type": "code",
   "execution_count": 2,
   "id": "c76d5f3a-d733-40d0-9099-35dc7b6d5121",
   "metadata": {},
   "outputs": [
    {
     "name": "stdout",
     "output_type": "stream",
     "text": [
      "Using label bodypart as stratification_target\n",
      "Initializing MRIDatasetBase...\n",
      "Loading dataframe from /home/buehlern/Documents/Masterarbeit/data/df_min.pkl...\n",
      "Limiting dataset total size to 10000\n",
      "Size for each bodypart: 714\n",
      "New size of dataset: 9996\n",
      "MRIDatasetBase(len=9996) initialized\n",
      "Initializing MRIDataset(mode=train)...\n"
     ]
    },
    {
     "name": "stdin",
     "output_type": "stream",
     "text": [
      "WARN: NO TRAINVAL TEST SPLIT FOUND AT /home/buehlern/Documents/Masterarbeit/data/splits/split_test_df_min_straton_bodypart_size_10000.csv, type YES[enter] to generate one:  YES\n"
     ]
    },
    {
     "name": "stdout",
     "output_type": "stream",
     "text": [
      "WARN: GENERATING NEW TRAINVAL TEST SPLIT\n",
      "MRIDataset(mode=train, len=8019) initialized\n",
      "Initializing MRIDataset(mode=val)...\n",
      "MRIDataset(mode=val, len=425) initialized\n",
      "Initializing MRIDataset(mode=test)...\n",
      "WARN: Including test data\n",
      "MRIDataset(mode=test, len=1552) initialized\n"
     ]
    }
   ],
   "source": [
    "# Load the DataModule\n",
    "mri_datamodule = MRIDataModule(\n",
    "            total_data_size=10000,\n",
    "            batch_size=16,\n",
    "            num_workers=0,\n",
    "            persistent_workers=False,\n",
    "            pin_memory=False,\n",
    "            #df_name='df_min_ft_test_114',\n",
    "            batch_binning='smart',\n",
    "            label='bodypart')"
   ]
  },
  {
   "cell_type": "code",
   "execution_count": 3,
   "id": "a3de9c1a-53e7-4f87-a501-720a3a548826",
   "metadata": {},
   "outputs": [
    {
     "name": "stdout",
     "output_type": "stream",
     "text": [
      "Maximum bin size: (3072, 3072)\n",
      "Max size found: pad((3000, 3000))=(3072, 3072) == (3072, 3072)\n",
      "First image id 5736\n",
      "DataLoader length 484\n"
     ]
    }
   ],
   "source": [
    "dl = mri_datamodule.train_dataloader()"
   ]
  },
  {
   "cell_type": "code",
   "execution_count": 6,
   "id": "69c59729-8f66-4da2-b1d5-b073411797eb",
   "metadata": {},
   "outputs": [
    {
     "name": "stdout",
     "output_type": "stream",
     "text": [
      "Maximum bin size: (3072, 3072)\n",
      "Max size found: pad((3000, 3000))=(3072, 3072) == (3072, 3072)\n",
      "First image id 7869\n",
      "0 torch.Size([16, 1, 3072, 2688])\n",
      "1 torch.Size([16, 1, 2304, 1536])\n",
      "2 torch.Size([16, 1, 1920, 1536])\n",
      "3 torch.Size([16, 1, 1920, 1152])\n",
      "4 torch.Size([16, 1, 3072, 1920])\n",
      "5 torch.Size([16, 1, 1536, 1152])\n",
      "6 torch.Size([16, 1, 3072, 1536])\n",
      "7 torch.Size([16, 1, 3072, 2304])\n",
      "8 torch.Size([16, 1, 3072, 2304])\n",
      "9 torch.Size([16, 1, 1152, 1152])\n",
      "10 torch.Size([16, 1, 1920, 1536])\n",
      "11 torch.Size([16, 1, 1920, 1152])\n",
      "12 torch.Size([16, 1, 3072, 2688])\n",
      "13 torch.Size([16, 1, 1152, 1536])\n",
      "14 torch.Size([16, 1, 1920, 1152])\n",
      "15 torch.Size([16, 1, 3072, 1920])\n",
      "16 torch.Size([16, 1, 1536, 2304])\n",
      "17 torch.Size([16, 1, 3072, 2304])\n",
      "18 torch.Size([16, 1, 3072, 3072])\n",
      "19 torch.Size([16, 1, 2304, 1920])\n",
      "20 torch.Size([16, 1, 3072, 2688])\n",
      "21 torch.Size([16, 1, 2304, 1920])\n",
      "22 torch.Size([16, 1, 2688, 1920])\n",
      "23 torch.Size([16, 1, 1152, 1152])\n",
      "24 torch.Size([16, 1, 1920, 2688])\n",
      "25 torch.Size([16, 1, 2688, 1920])\n",
      "26 torch.Size([16, 1, 1152, 1152])\n",
      "27 torch.Size([16, 1, 1920, 1920])\n",
      "28 torch.Size([16, 1, 2304, 1920])\n",
      "29 torch.Size([16, 1, 3072, 1536])\n",
      "30 torch.Size([16, 1, 2688, 2304])\n",
      "31 torch.Size([16, 1, 1152, 1920])\n",
      "32 torch.Size([16, 1, 1152, 2304])\n",
      "33 torch.Size([16, 1, 2304, 2304])\n",
      "34 torch.Size([16, 1, 1920, 1152])\n",
      "35 torch.Size([16, 1, 3072, 1920])\n",
      "36 torch.Size([16, 1, 3072, 2304])\n",
      "37 torch.Size([16, 1, 3072, 2304])\n",
      "38 torch.Size([16, 1, 1152, 2304])\n"
     ]
    },
    {
     "ename": "KeyboardInterrupt",
     "evalue": "",
     "output_type": "error",
     "traceback": [
      "\u001b[0;31m---------------------------------------------------------------------------\u001b[0m",
      "\u001b[0;31mKeyboardInterrupt\u001b[0m                         Traceback (most recent call last)",
      "Cell \u001b[0;32mIn[6], line 1\u001b[0m\n\u001b[0;32m----> 1\u001b[0m \u001b[38;5;28;01mfor\u001b[39;00m i, batch \u001b[38;5;129;01min\u001b[39;00m \u001b[38;5;28menumerate\u001b[39m(dl):\n\u001b[1;32m      2\u001b[0m     \u001b[38;5;28mprint\u001b[39m(i, batch[\u001b[38;5;241m0\u001b[39m]\u001b[38;5;241m.\u001b[39mshape)\n",
      "File \u001b[0;32m~/.local/lib/python3.10/site-packages/torch/utils/data/dataloader.py:630\u001b[0m, in \u001b[0;36m_BaseDataLoaderIter.__next__\u001b[0;34m(self)\u001b[0m\n\u001b[1;32m    627\u001b[0m \u001b[38;5;28;01mif\u001b[39;00m \u001b[38;5;28mself\u001b[39m\u001b[38;5;241m.\u001b[39m_sampler_iter \u001b[38;5;129;01mis\u001b[39;00m \u001b[38;5;28;01mNone\u001b[39;00m:\n\u001b[1;32m    628\u001b[0m     \u001b[38;5;66;03m# TODO(https://github.com/pytorch/pytorch/issues/76750)\u001b[39;00m\n\u001b[1;32m    629\u001b[0m     \u001b[38;5;28mself\u001b[39m\u001b[38;5;241m.\u001b[39m_reset()  \u001b[38;5;66;03m# type: ignore[call-arg]\u001b[39;00m\n\u001b[0;32m--> 630\u001b[0m data \u001b[38;5;241m=\u001b[39m \u001b[38;5;28;43mself\u001b[39;49m\u001b[38;5;241;43m.\u001b[39;49m\u001b[43m_next_data\u001b[49m\u001b[43m(\u001b[49m\u001b[43m)\u001b[49m\n\u001b[1;32m    631\u001b[0m \u001b[38;5;28mself\u001b[39m\u001b[38;5;241m.\u001b[39m_num_yielded \u001b[38;5;241m+\u001b[39m\u001b[38;5;241m=\u001b[39m \u001b[38;5;241m1\u001b[39m\n\u001b[1;32m    632\u001b[0m \u001b[38;5;28;01mif\u001b[39;00m \u001b[38;5;28mself\u001b[39m\u001b[38;5;241m.\u001b[39m_dataset_kind \u001b[38;5;241m==\u001b[39m _DatasetKind\u001b[38;5;241m.\u001b[39mIterable \u001b[38;5;129;01mand\u001b[39;00m \\\n\u001b[1;32m    633\u001b[0m         \u001b[38;5;28mself\u001b[39m\u001b[38;5;241m.\u001b[39m_IterableDataset_len_called \u001b[38;5;129;01mis\u001b[39;00m \u001b[38;5;129;01mnot\u001b[39;00m \u001b[38;5;28;01mNone\u001b[39;00m \u001b[38;5;129;01mand\u001b[39;00m \\\n\u001b[1;32m    634\u001b[0m         \u001b[38;5;28mself\u001b[39m\u001b[38;5;241m.\u001b[39m_num_yielded \u001b[38;5;241m>\u001b[39m \u001b[38;5;28mself\u001b[39m\u001b[38;5;241m.\u001b[39m_IterableDataset_len_called:\n",
      "File \u001b[0;32m~/.local/lib/python3.10/site-packages/torch/utils/data/dataloader.py:673\u001b[0m, in \u001b[0;36m_SingleProcessDataLoaderIter._next_data\u001b[0;34m(self)\u001b[0m\n\u001b[1;32m    671\u001b[0m \u001b[38;5;28;01mdef\u001b[39;00m \u001b[38;5;21m_next_data\u001b[39m(\u001b[38;5;28mself\u001b[39m):\n\u001b[1;32m    672\u001b[0m     index \u001b[38;5;241m=\u001b[39m \u001b[38;5;28mself\u001b[39m\u001b[38;5;241m.\u001b[39m_next_index()  \u001b[38;5;66;03m# may raise StopIteration\u001b[39;00m\n\u001b[0;32m--> 673\u001b[0m     data \u001b[38;5;241m=\u001b[39m \u001b[38;5;28;43mself\u001b[39;49m\u001b[38;5;241;43m.\u001b[39;49m\u001b[43m_dataset_fetcher\u001b[49m\u001b[38;5;241;43m.\u001b[39;49m\u001b[43mfetch\u001b[49m\u001b[43m(\u001b[49m\u001b[43mindex\u001b[49m\u001b[43m)\u001b[49m  \u001b[38;5;66;03m# may raise StopIteration\u001b[39;00m\n\u001b[1;32m    674\u001b[0m     \u001b[38;5;28;01mif\u001b[39;00m \u001b[38;5;28mself\u001b[39m\u001b[38;5;241m.\u001b[39m_pin_memory:\n\u001b[1;32m    675\u001b[0m         data \u001b[38;5;241m=\u001b[39m _utils\u001b[38;5;241m.\u001b[39mpin_memory\u001b[38;5;241m.\u001b[39mpin_memory(data, \u001b[38;5;28mself\u001b[39m\u001b[38;5;241m.\u001b[39m_pin_memory_device)\n",
      "File \u001b[0;32m~/.local/lib/python3.10/site-packages/torch/utils/data/_utils/fetch.py:52\u001b[0m, in \u001b[0;36m_MapDatasetFetcher.fetch\u001b[0;34m(self, possibly_batched_index)\u001b[0m\n\u001b[1;32m     50\u001b[0m         data \u001b[38;5;241m=\u001b[39m \u001b[38;5;28mself\u001b[39m\u001b[38;5;241m.\u001b[39mdataset\u001b[38;5;241m.\u001b[39m__getitems__(possibly_batched_index)\n\u001b[1;32m     51\u001b[0m     \u001b[38;5;28;01melse\u001b[39;00m:\n\u001b[0;32m---> 52\u001b[0m         data \u001b[38;5;241m=\u001b[39m [\u001b[38;5;28mself\u001b[39m\u001b[38;5;241m.\u001b[39mdataset[idx] \u001b[38;5;28;01mfor\u001b[39;00m idx \u001b[38;5;129;01min\u001b[39;00m possibly_batched_index]\n\u001b[1;32m     53\u001b[0m \u001b[38;5;28;01melse\u001b[39;00m:\n\u001b[1;32m     54\u001b[0m     data \u001b[38;5;241m=\u001b[39m \u001b[38;5;28mself\u001b[39m\u001b[38;5;241m.\u001b[39mdataset[possibly_batched_index]\n",
      "File \u001b[0;32m~/.local/lib/python3.10/site-packages/torch/utils/data/_utils/fetch.py:52\u001b[0m, in \u001b[0;36m<listcomp>\u001b[0;34m(.0)\u001b[0m\n\u001b[1;32m     50\u001b[0m         data \u001b[38;5;241m=\u001b[39m \u001b[38;5;28mself\u001b[39m\u001b[38;5;241m.\u001b[39mdataset\u001b[38;5;241m.\u001b[39m__getitems__(possibly_batched_index)\n\u001b[1;32m     51\u001b[0m     \u001b[38;5;28;01melse\u001b[39;00m:\n\u001b[0;32m---> 52\u001b[0m         data \u001b[38;5;241m=\u001b[39m [\u001b[38;5;28;43mself\u001b[39;49m\u001b[38;5;241;43m.\u001b[39;49m\u001b[43mdataset\u001b[49m\u001b[43m[\u001b[49m\u001b[43midx\u001b[49m\u001b[43m]\u001b[49m \u001b[38;5;28;01mfor\u001b[39;00m idx \u001b[38;5;129;01min\u001b[39;00m possibly_batched_index]\n\u001b[1;32m     53\u001b[0m \u001b[38;5;28;01melse\u001b[39;00m:\n\u001b[1;32m     54\u001b[0m     data \u001b[38;5;241m=\u001b[39m \u001b[38;5;28mself\u001b[39m\u001b[38;5;241m.\u001b[39mdataset[possibly_batched_index]\n",
      "File \u001b[0;32m~/Documents/Masterarbeit/models/src/data/components/mri_dataset.py:288\u001b[0m, in \u001b[0;36mMRIDataset.__getitem__\u001b[0;34m(self, index)\u001b[0m\n\u001b[1;32m    287\u001b[0m \u001b[38;5;28;01mdef\u001b[39;00m \u001b[38;5;21m__getitem__\u001b[39m(\u001b[38;5;28mself\u001b[39m, index):\n\u001b[0;32m--> 288\u001b[0m     \u001b[38;5;28;01mreturn\u001b[39;00m \u001b[38;5;28;43mself\u001b[39;49m\u001b[38;5;241;43m.\u001b[39;49m\u001b[43mdsbase\u001b[49m\u001b[43m[\u001b[49m\u001b[38;5;28;43mself\u001b[39;49m\u001b[38;5;241;43m.\u001b[39;49m\u001b[43mdf\u001b[49m\u001b[38;5;241;43m.\u001b[39;49m\u001b[43miloc\u001b[49m\u001b[43m[\u001b[49m\u001b[43mindex\u001b[49m\u001b[43m]\u001b[49m\u001b[43m[\u001b[49m\u001b[38;5;124;43m'\u001b[39;49m\u001b[38;5;124;43mdsbase_index\u001b[39;49m\u001b[38;5;124;43m'\u001b[39;49m\u001b[43m]\u001b[49m\u001b[43m]\u001b[49m\n",
      "File \u001b[0;32m~/Documents/Masterarbeit/models/src/data/components/mri_dataset.py:179\u001b[0m, in \u001b[0;36mMRIDatasetBase.__getitem__\u001b[0;34m(self, index)\u001b[0m\n\u001b[1;32m    178\u001b[0m \u001b[38;5;28;01mdef\u001b[39;00m \u001b[38;5;21m__getitem__\u001b[39m(\u001b[38;5;28mself\u001b[39m, index):\n\u001b[0;32m--> 179\u001b[0m     item \u001b[38;5;241m=\u001b[39m \u001b[38;5;28;43mself\u001b[39;49m\u001b[38;5;241;43m.\u001b[39;49m\u001b[43m_getitem_inner\u001b[49m\u001b[43m(\u001b[49m\u001b[43mindex\u001b[49m\u001b[43m)\u001b[49m\n\u001b[1;32m    180\u001b[0m     \u001b[38;5;28;01mreturn\u001b[39;00m item[\u001b[38;5;124m'\u001b[39m\u001b[38;5;124mpixel_array\u001b[39m\u001b[38;5;124m'\u001b[39m]\u001b[38;5;241m.\u001b[39mexpand(\u001b[38;5;28mself\u001b[39m\u001b[38;5;241m.\u001b[39moutput_channels, \u001b[38;5;241m-\u001b[39m\u001b[38;5;241m1\u001b[39m, \u001b[38;5;241m-\u001b[39m\u001b[38;5;241m1\u001b[39m), item[\u001b[38;5;124m'\u001b[39m\u001b[38;5;124mlabel\u001b[39m\u001b[38;5;124m'\u001b[39m]\n",
      "File \u001b[0;32m~/Documents/Masterarbeit/models/src/data/components/mri_dataset.py:174\u001b[0m, in \u001b[0;36mMRIDatasetBase._getitem_inner\u001b[0;34m(self, index)\u001b[0m\n\u001b[1;32m    172\u001b[0m \u001b[38;5;28;01mdef\u001b[39;00m \u001b[38;5;21m_getitem_inner\u001b[39m(\u001b[38;5;28mself\u001b[39m, index):\n\u001b[1;32m    173\u001b[0m     curitem_series \u001b[38;5;241m=\u001b[39m \u001b[38;5;28mself\u001b[39m\u001b[38;5;241m.\u001b[39mdf\u001b[38;5;241m.\u001b[39mloc[index]\n\u001b[0;32m--> 174\u001b[0m     pixel_array \u001b[38;5;241m=\u001b[39m \u001b[38;5;28;43mself\u001b[39;49m\u001b[38;5;241;43m.\u001b[39;49m\u001b[43m_getpixelarray\u001b[49m\u001b[43m(\u001b[49m\u001b[43mcuritem_series\u001b[49m\u001b[43m)\u001b[49m\n\u001b[1;32m    175\u001b[0m     res \u001b[38;5;241m=\u001b[39m \u001b[38;5;28mdict\u001b[39m(pixel_array\u001b[38;5;241m=\u001b[39mpixel_array, label\u001b[38;5;241m=\u001b[39m\u001b[38;5;28mself\u001b[39m\u001b[38;5;241m.\u001b[39mlabel_to_idx[curitem_series[\u001b[38;5;28mself\u001b[39m\u001b[38;5;241m.\u001b[39mlabel]])\n\u001b[1;32m    176\u001b[0m     \u001b[38;5;28;01mreturn\u001b[39;00m res\n",
      "File \u001b[0;32m~/Documents/Masterarbeit/models/src/data/components/mri_dataset.py:105\u001b[0m, in \u001b[0;36mMRIDatasetBase._getpixelarray\u001b[0;34m(self, curitem_series)\u001b[0m\n\u001b[1;32m    103\u001b[0m \u001b[38;5;28;01mdef\u001b[39;00m \u001b[38;5;21m_getpixelarray\u001b[39m(\u001b[38;5;28mself\u001b[39m, curitem_series):\n\u001b[1;32m    104\u001b[0m     \u001b[38;5;28;01mtry\u001b[39;00m:\n\u001b[0;32m--> 105\u001b[0m         dcm \u001b[38;5;241m=\u001b[39m \u001b[43mpydicom\u001b[49m\u001b[38;5;241;43m.\u001b[39;49m\u001b[43mdcmread\u001b[49m\u001b[43m(\u001b[49m\u001b[43mcuritem_series\u001b[49m\u001b[43m[\u001b[49m\u001b[38;5;124;43m'\u001b[39;49m\u001b[38;5;124;43mpath\u001b[39;49m\u001b[38;5;124;43m'\u001b[39;49m\u001b[43m]\u001b[49m\u001b[43m)\u001b[49m\n\u001b[1;32m    106\u001b[0m     \u001b[38;5;28;01mexcept\u001b[39;00m (\u001b[38;5;167;01mAttributeError\u001b[39;00m, \u001b[38;5;167;01mOSError\u001b[39;00m):\n\u001b[1;32m    107\u001b[0m         null_pixel_array \u001b[38;5;241m=\u001b[39m np\u001b[38;5;241m.\u001b[39mones((\u001b[38;5;241m1\u001b[39m, \u001b[38;5;241m1\u001b[39m)) \u001b[38;5;241m*\u001b[39m np\u001b[38;5;241m.\u001b[39mnan\n",
      "File \u001b[0;32m~/.local/lib/python3.10/site-packages/pydicom/filereader.py:1030\u001b[0m, in \u001b[0;36mdcmread\u001b[0;34m(fp, defer_size, stop_before_pixels, force, specific_tags)\u001b[0m\n\u001b[1;32m   1028\u001b[0m     stop_when \u001b[38;5;241m=\u001b[39m _at_pixel_data\n\u001b[1;32m   1029\u001b[0m \u001b[38;5;28;01mtry\u001b[39;00m:\n\u001b[0;32m-> 1030\u001b[0m     dataset \u001b[38;5;241m=\u001b[39m \u001b[43mread_partial\u001b[49m\u001b[43m(\u001b[49m\n\u001b[1;32m   1031\u001b[0m \u001b[43m        \u001b[49m\u001b[43mfp\u001b[49m\u001b[43m,\u001b[49m\n\u001b[1;32m   1032\u001b[0m \u001b[43m        \u001b[49m\u001b[43mstop_when\u001b[49m\u001b[43m,\u001b[49m\n\u001b[1;32m   1033\u001b[0m \u001b[43m        \u001b[49m\u001b[43mdefer_size\u001b[49m\u001b[38;5;241;43m=\u001b[39;49m\u001b[43msize_in_bytes\u001b[49m\u001b[43m(\u001b[49m\u001b[43mdefer_size\u001b[49m\u001b[43m)\u001b[49m\u001b[43m,\u001b[49m\n\u001b[1;32m   1034\u001b[0m \u001b[43m        \u001b[49m\u001b[43mforce\u001b[49m\u001b[38;5;241;43m=\u001b[39;49m\u001b[43mforce\u001b[49m\u001b[43m,\u001b[49m\n\u001b[1;32m   1035\u001b[0m \u001b[43m        \u001b[49m\u001b[43mspecific_tags\u001b[49m\u001b[38;5;241;43m=\u001b[39;49m\u001b[43mspecific_tags\u001b[49m\u001b[43m,\u001b[49m\n\u001b[1;32m   1036\u001b[0m \u001b[43m    \u001b[49m\u001b[43m)\u001b[49m\n\u001b[1;32m   1037\u001b[0m \u001b[38;5;28;01mfinally\u001b[39;00m:\n\u001b[1;32m   1038\u001b[0m     \u001b[38;5;28;01mif\u001b[39;00m \u001b[38;5;129;01mnot\u001b[39;00m caller_owns_file:\n",
      "File \u001b[0;32m~/.local/lib/python3.10/site-packages/pydicom/filereader.py:852\u001b[0m, in \u001b[0;36mread_partial\u001b[0;34m(fileobj, stop_when, defer_size, force, specific_tags)\u001b[0m\n\u001b[1;32m    848\u001b[0m \u001b[38;5;66;03m# Try and decode the dataset\u001b[39;00m\n\u001b[1;32m    849\u001b[0m \u001b[38;5;66;03m#   By this point we should be at the start of the dataset and have\u001b[39;00m\n\u001b[1;32m    850\u001b[0m \u001b[38;5;66;03m#   the transfer syntax (whether read from the file meta or guessed at)\u001b[39;00m\n\u001b[1;32m    851\u001b[0m \u001b[38;5;28;01mtry\u001b[39;00m:\n\u001b[0;32m--> 852\u001b[0m     dataset \u001b[38;5;241m=\u001b[39m \u001b[43mread_dataset\u001b[49m\u001b[43m(\u001b[49m\n\u001b[1;32m    853\u001b[0m \u001b[43m        \u001b[49m\u001b[43mfileobj\u001b[49m\u001b[43m,\u001b[49m\n\u001b[1;32m    854\u001b[0m \u001b[43m        \u001b[49m\u001b[43mis_implicit_VR\u001b[49m\u001b[43m,\u001b[49m\n\u001b[1;32m    855\u001b[0m \u001b[43m        \u001b[49m\u001b[43mis_little_endian\u001b[49m\u001b[43m,\u001b[49m\n\u001b[1;32m    856\u001b[0m \u001b[43m        \u001b[49m\u001b[43mstop_when\u001b[49m\u001b[38;5;241;43m=\u001b[39;49m\u001b[43mstop_when\u001b[49m\u001b[43m,\u001b[49m\n\u001b[1;32m    857\u001b[0m \u001b[43m        \u001b[49m\u001b[43mdefer_size\u001b[49m\u001b[38;5;241;43m=\u001b[39;49m\u001b[43mdefer_size\u001b[49m\u001b[43m,\u001b[49m\n\u001b[1;32m    858\u001b[0m \u001b[43m        \u001b[49m\u001b[43mspecific_tags\u001b[49m\u001b[38;5;241;43m=\u001b[39;49m\u001b[43mspecific_tags\u001b[49m\u001b[43m,\u001b[49m\n\u001b[1;32m    859\u001b[0m \u001b[43m    \u001b[49m\u001b[43m)\u001b[49m\n\u001b[1;32m    860\u001b[0m \u001b[38;5;28;01mexcept\u001b[39;00m \u001b[38;5;167;01mEOFError\u001b[39;00m:\n\u001b[1;32m    861\u001b[0m     \u001b[38;5;28;01mif\u001b[39;00m config\u001b[38;5;241m.\u001b[39msettings\u001b[38;5;241m.\u001b[39mreading_validation_mode \u001b[38;5;241m==\u001b[39m config\u001b[38;5;241m.\u001b[39mRAISE:\n",
      "File \u001b[0;32m~/.local/lib/python3.10/site-packages/pydicom/filereader.py:427\u001b[0m, in \u001b[0;36mread_dataset\u001b[0;34m(fp, is_implicit_VR, is_little_endian, bytelength, stop_when, defer_size, parent_encoding, specific_tags, at_top_level)\u001b[0m\n\u001b[1;32m    425\u001b[0m \u001b[38;5;28;01mtry\u001b[39;00m:\n\u001b[1;32m    426\u001b[0m     \u001b[38;5;28;01mwhile\u001b[39;00m (bytelength \u001b[38;5;129;01mis\u001b[39;00m \u001b[38;5;28;01mNone\u001b[39;00m) \u001b[38;5;129;01mor\u001b[39;00m (fp\u001b[38;5;241m.\u001b[39mtell() \u001b[38;5;241m-\u001b[39m fp_start \u001b[38;5;241m<\u001b[39m bytelength):\n\u001b[0;32m--> 427\u001b[0m         raw_data_element \u001b[38;5;241m=\u001b[39m \u001b[38;5;28;43mnext\u001b[39;49m\u001b[43m(\u001b[49m\u001b[43mde_gen\u001b[49m\u001b[43m)\u001b[49m\n\u001b[1;32m    428\u001b[0m         \u001b[38;5;66;03m# Read data elements. Stop on some errors, but return what was read\u001b[39;00m\n\u001b[1;32m    429\u001b[0m         tag \u001b[38;5;241m=\u001b[39m raw_data_element\u001b[38;5;241m.\u001b[39mtag\n",
      "File \u001b[0;32m~/.local/lib/python3.10/site-packages/pydicom/filereader.py:207\u001b[0m, in \u001b[0;36mdata_element_generator\u001b[0;34m(fp, is_implicit_VR, is_little_endian, stop_when, defer_size, encoding, specific_tags)\u001b[0m\n\u001b[1;32m    204\u001b[0m     fp\u001b[38;5;241m.\u001b[39mseek(fp_tell() \u001b[38;5;241m+\u001b[39m length)\n\u001b[1;32m    205\u001b[0m \u001b[38;5;28;01melse\u001b[39;00m:\n\u001b[1;32m    206\u001b[0m     value \u001b[38;5;241m=\u001b[39m (\n\u001b[0;32m--> 207\u001b[0m         \u001b[43mfp_read\u001b[49m\u001b[43m(\u001b[49m\u001b[43mlength\u001b[49m\u001b[43m)\u001b[49m \u001b[38;5;28;01mif\u001b[39;00m length \u001b[38;5;241m>\u001b[39m \u001b[38;5;241m0\u001b[39m\n\u001b[1;32m    208\u001b[0m         \u001b[38;5;28;01melse\u001b[39;00m cast(\n\u001b[1;32m    209\u001b[0m             Optional[\u001b[38;5;28mbytes\u001b[39m], empty_value_for_VR(vr, raw\u001b[38;5;241m=\u001b[39m\u001b[38;5;28;01mTrue\u001b[39;00m)\n\u001b[1;32m    210\u001b[0m         )\n\u001b[1;32m    211\u001b[0m     )\n\u001b[1;32m    212\u001b[0m     \u001b[38;5;28;01mif\u001b[39;00m debugging:\n\u001b[1;32m    213\u001b[0m         dotdot \u001b[38;5;241m=\u001b[39m \u001b[38;5;124m\"\u001b[39m\u001b[38;5;124m...\u001b[39m\u001b[38;5;124m\"\u001b[39m \u001b[38;5;28;01mif\u001b[39;00m length \u001b[38;5;241m>\u001b[39m \u001b[38;5;241m20\u001b[39m \u001b[38;5;28;01melse\u001b[39;00m \u001b[38;5;124m\"\u001b[39m\u001b[38;5;124m   \u001b[39m\u001b[38;5;124m\"\u001b[39m\n",
      "\u001b[0;31mKeyboardInterrupt\u001b[0m: "
     ]
    }
   ],
   "source": [
    "for i, batch in enumerate(dl):\n",
    "    print(i, batch[0].shape)"
   ]
  }
 ],
 "metadata": {
  "kernelspec": {
   "display_name": "Python 3 (ipykernel)",
   "language": "python",
   "name": "python3"
  },
  "language_info": {
   "codemirror_mode": {
    "name": "ipython",
    "version": 3
   },
   "file_extension": ".py",
   "mimetype": "text/x-python",
   "name": "python",
   "nbconvert_exporter": "python",
   "pygments_lexer": "ipython3",
   "version": "3.10.12"
  }
 },
 "nbformat": 4,
 "nbformat_minor": 5
}
