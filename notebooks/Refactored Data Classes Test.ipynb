{
 "cells": [
  {
   "cell_type": "code",
   "execution_count": 1,
   "id": "74a19bde-9e40-4de1-89ca-8c133a5b4957",
   "metadata": {},
   "outputs": [
    {
     "name": "stderr",
     "output_type": "stream",
     "text": [
      "/home/buehlern/.local/lib/python3.10/site-packages/tqdm/auto.py:21: TqdmWarning: IProgress not found. Please update jupyter and ipywidgets. See https://ipywidgets.readthedocs.io/en/stable/user_install.html\n",
      "  from .autonotebook import tqdm as notebook_tqdm\n"
     ]
    }
   ],
   "source": [
    "import sys\n",
    "sys.path.insert(1, '/home/buehlern/Documents/Masterarbeit/models')\n",
    "from src.data.mri_datamodule import MRIDataModule"
   ]
  },
  {
   "cell_type": "code",
   "execution_count": 5,
   "id": "56e58d16-f748-4d86-9894-f30a17f51fdd",
   "metadata": {},
   "outputs": [
    {
     "name": "stdout",
     "output_type": "stream",
     "text": [
      "Using label bodypart as stratification_target\n",
      "Initializing MRIDatasetBase...\n",
      "Loading dataframe from /home/buehlern/Documents/Masterarbeit/data/df_min.pkl...\n",
      "MRIDatasetBase(len=639877) initialized\n",
      "Initializing MRIDataset(mode=train)...\n",
      "MRIDataset(mode=train, len=516509) initialized\n",
      "Initializing MRIDataset(mode=val)...\n",
      "MRIDataset(mode=val, len=26987) initialized\n",
      "Initializing MRIDataset(mode=test)...\n",
      "WARN: Including test data\n",
      "MRIDataset(mode=test, len=96381) initialized\n"
     ]
    }
   ],
   "source": [
    "# Load the DataModule\n",
    "mri_datamodule = MRIDataModule(\n",
    "            batch_size=16,\n",
    "            num_workers=64,\n",
    "            persistent_workers=True,\n",
    "            pin_memory=True,\n",
    "            #df_name='df_min_ft_test_114',\n",
    "            batch_binning='smart',\n",
    "            label='bodypart')"
   ]
  },
  {
   "cell_type": "code",
   "execution_count": null,
   "id": "caa8eada-f97d-4f7e-821b-dfd2eb2da9fb",
   "metadata": {},
   "outputs": [],
   "source": [
    "it = iter(mri_datamodule.data_test)\n",
    "total = len(data_source)\n",
    "for i in range(total):\n",
    "    item = next(it)\n",
    "    image = item[0]\n",
    "    label = item[1]\n",
    "    print(f\"{i}/{total} ({(100 * i / total):.2f}%): {label}\")"
   ]
  },
  {
   "cell_type": "code",
   "execution_count": null,
   "id": "bc8d8e35-0e22-4a71-9eba-431dd918811e",
   "metadata": {},
   "outputs": [],
   "source": [
    "data_sources = [mri_datamodule.data_train, mri_datamodule.data_val, mri_datamodule.data_test]\n",
    "for data_source in data_sources:\n",
    "    it = iter(data_source)\n",
    "    frac = 0\n",
    "    total = len(data_source)\n",
    "    for i in range(total):\n",
    "        item = next(it)\n",
    "        image = item[0]\n",
    "        label = item[1]\n",
    "        frac += label\n",
    "    print(f\"Fractures: {frac}/{total}\")"
   ]
  }
 ],
 "metadata": {
  "kernelspec": {
   "display_name": "Python 3 (ipykernel)",
   "language": "python",
   "name": "python3"
  },
  "language_info": {
   "codemirror_mode": {
    "name": "ipython",
    "version": 3
   },
   "file_extension": ".py",
   "mimetype": "text/x-python",
   "name": "python",
   "nbconvert_exporter": "python",
   "pygments_lexer": "ipython3",
   "version": "3.10.12"
  }
 },
 "nbformat": 4,
 "nbformat_minor": 5
}
