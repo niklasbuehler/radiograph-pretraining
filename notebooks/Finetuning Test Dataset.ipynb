{
 "cells": [
  {
   "cell_type": "code",
   "execution_count": 1,
   "id": "5ad56b66-56ef-4da3-b22b-cdf354ff5d52",
   "metadata": {},
   "outputs": [],
   "source": [
    "from pathlib import Path\n",
    "import torch\n",
    "import pandas as pd\n",
    "import stat\n",
    "import numbers\n",
    "import pydicom\n",
    "import numpy as np\n",
    "from tqdm import tqdm\n",
    "from collections import Counter\n",
    "import re\n",
    "import os\n",
    "from PIL import Image\n",
    "from matplotlib import pyplot as plt\n",
    "import cv2"
   ]
  },
  {
   "cell_type": "code",
   "execution_count": 2,
   "id": "4154bec7-6b00-48da-9903-4170e7ae5fa4",
   "metadata": {},
   "outputs": [
    {
     "data": {
      "text/plain": [
       "PosixPath('/home/buehlern/Documents/Masterarbeit/notebooks')"
      ]
     },
     "execution_count": 2,
     "metadata": {},
     "output_type": "execute_result"
    }
   ],
   "source": [
    "Path().resolve()"
   ]
  },
  {
   "cell_type": "markdown",
   "id": "2af5df9b-4598-44b4-9615-2c6de66e6509",
   "metadata": {},
   "source": [
    "# Create Balanced Dataset for Fracture Detection Finetuning"
   ]
  },
  {
   "cell_type": "code",
   "execution_count": 3,
   "id": "4409c240-5a7b-4b1c-998f-874ebde522c4",
   "metadata": {},
   "outputs": [],
   "source": [
    "df_loc = Path('../data/df_min.pkl')\n",
    "df = pd.read_pickle(df_loc)"
   ]
  },
  {
   "cell_type": "code",
   "execution_count": 4,
   "id": "940c7439-635b-4755-a5a2-047fb6a2c0be",
   "metadata": {},
   "outputs": [
    {
     "data": {
      "text/plain": [
       "Index(['patientid', 'path', 'pixelarr_shape', 'inverted', 'bodypart',\n",
       "       'fracture', 'foreignmaterial'],\n",
       "      dtype='object')"
      ]
     },
     "execution_count": 4,
     "metadata": {},
     "output_type": "execute_result"
    }
   ],
   "source": [
    "df.columns"
   ]
  },
  {
   "cell_type": "code",
   "execution_count": 5,
   "id": "3ad9fdb6-dae0-42bc-aacf-15392847d87c",
   "metadata": {},
   "outputs": [
    {
     "data": {
      "text/plain": [
       "fracture\n",
       "NO        441\n",
       "YES       212\n",
       "Unsure     20\n",
       "Name: count, dtype: int64"
      ]
     },
     "execution_count": 5,
     "metadata": {},
     "output_type": "execute_result"
    }
   ],
   "source": [
    "df['fracture'].value_counts()"
   ]
  },
  {
   "cell_type": "code",
   "execution_count": 6,
   "id": "cc275914-2638-4cf0-8731-2059cd45edbf",
   "metadata": {},
   "outputs": [],
   "source": [
    "bool_map = {'YES': True, 'NO': False, 'Unsure': float('NaN')}\n",
    "df['fracture_bool'] = df['fracture'].map(bool_map)\n",
    "df['foreignmaterial_bool'] = df['foreignmaterial'].map(bool_map)"
   ]
  },
  {
   "cell_type": "code",
   "execution_count": 7,
   "id": "6935a6b5-341c-4f85-9938-cf88d857b278",
   "metadata": {},
   "outputs": [],
   "source": [
    "df_frac = df.dropna(subset=['fracture_bool'])"
   ]
  },
  {
   "cell_type": "code",
   "execution_count": 8,
   "id": "386da3de-782d-4b83-9ccc-e399bfc1549f",
   "metadata": {},
   "outputs": [
    {
     "data": {
      "text/plain": [
       "fracture\n",
       "NO     441\n",
       "YES    212\n",
       "Name: count, dtype: int64"
      ]
     },
     "execution_count": 8,
     "metadata": {},
     "output_type": "execute_result"
    }
   ],
   "source": [
    "df_frac['fracture'].value_counts()"
   ]
  },
  {
   "cell_type": "code",
   "execution_count": 9,
   "id": "1268251f-993c-4a39-b344-e6f671bc630d",
   "metadata": {},
   "outputs": [
    {
     "data": {
      "text/plain": [
       "bodypart\n",
       "knee        66\n",
       "elbow       64\n",
       "foot        62\n",
       "hand        57\n",
       "wrist       57\n",
       "cspine      57\n",
       "shoulder    57\n",
       "tspine      53\n",
       "clavicle    51\n",
       "rips        48\n",
       "scapula     45\n",
       "skull       36\n",
       "Name: count, dtype: int64"
      ]
     },
     "execution_count": 9,
     "metadata": {},
     "output_type": "execute_result"
    }
   ],
   "source": [
    "df_frac['bodypart'].value_counts()"
   ]
  },
  {
   "cell_type": "code",
   "execution_count": 10,
   "id": "5cd9d6e4-c8df-44c9-bbdb-a49a4c4dd1ef",
   "metadata": {},
   "outputs": [
    {
     "data": {
      "text/plain": [
       "bodypart  fracture\n",
       "clavicle  NO          20\n",
       "          YES         31\n",
       "cspine    NO          54\n",
       "          YES          3\n",
       "elbow     NO          30\n",
       "          YES         34\n",
       "foot      NO          45\n",
       "          YES         17\n",
       "hand      NO          43\n",
       "          YES         14\n",
       "knee      NO          61\n",
       "          YES          5\n",
       "rips      NO          26\n",
       "          YES         22\n",
       "scapula   NO          30\n",
       "          YES         15\n",
       "shoulder  NO          41\n",
       "          YES         16\n",
       "skull     NO          36\n",
       "tspine    NO          28\n",
       "          YES         25\n",
       "wrist     NO          27\n",
       "          YES         30\n",
       "dtype: int64"
      ]
     },
     "execution_count": 10,
     "metadata": {},
     "output_type": "execute_result"
    }
   ],
   "source": [
    "df_frac.groupby(['bodypart', 'fracture']).size()"
   ]
  },
  {
   "cell_type": "code",
   "execution_count": 11,
   "id": "945a0cd2-1956-4050-af12-12b4900d21dc",
   "metadata": {},
   "outputs": [
    {
     "data": {
      "text/plain": [
       "bodypart\n",
       "elbow       30.0\n",
       "wrist       27.0\n",
       "tspine      25.0\n",
       "rips        22.0\n",
       "clavicle    20.0\n",
       "foot        17.0\n",
       "shoulder    16.0\n",
       "scapula     15.0\n",
       "hand        14.0\n",
       "knee         5.0\n",
       "cspine       3.0\n",
       "skull        0.0\n",
       "dtype: float64"
      ]
     },
     "execution_count": 11,
     "metadata": {},
     "output_type": "execute_result"
    }
   ],
   "source": [
    "df_frac.groupby(['bodypart', 'fracture']).size().unstack().fillna(0).min(axis=1).sort_values(ascending=False)"
   ]
  },
  {
   "cell_type": "code",
   "execution_count": 12,
   "id": "bf595d9c-f6bb-4a9e-a017-43300b6b9af8",
   "metadata": {},
   "outputs": [
    {
     "name": "stderr",
     "output_type": "stream",
     "text": [
      "/tmp/ipykernel_1422786/1395742883.py:6: DeprecationWarning: DataFrameGroupBy.apply operated on the grouping columns. This behavior is deprecated, and in a future version of pandas the grouping columns will be excluded from the operation. Either pass `include_groups=False` to exclude the groupings or explicitly select the grouping columns after groupby to silence this warning.\n",
      "  df_bp = df_bp.groupby('fracture_bool').apply(lambda x: x.sample(n=num_samples, random_state=1))\n",
      "/tmp/ipykernel_1422786/1395742883.py:6: DeprecationWarning: DataFrameGroupBy.apply operated on the grouping columns. This behavior is deprecated, and in a future version of pandas the grouping columns will be excluded from the operation. Either pass `include_groups=False` to exclude the groupings or explicitly select the grouping columns after groupby to silence this warning.\n",
      "  df_bp = df_bp.groupby('fracture_bool').apply(lambda x: x.sample(n=num_samples, random_state=1))\n"
     ]
    }
   ],
   "source": [
    "df_balanced = pd.DataFrame()\n",
    "bp_list = ['elbow', 'wrist']\n",
    "for bp in bp_list:\n",
    "    df_bp = df_frac[df_frac['bodypart'] == bp]\n",
    "    num_samples = df_bp['fracture'].value_counts().min()\n",
    "    df_bp = df_bp.groupby('fracture_bool').apply(lambda x: x.sample(n=num_samples, random_state=1))\n",
    "    df_balanced = pd.concat([df_balanced, df_bp])\n",
    "df_balanced = df_balanced.reset_index(drop=True)"
   ]
  },
  {
   "cell_type": "code",
   "execution_count": 13,
   "id": "d28d3356-5453-4aee-9943-319d597d2173",
   "metadata": {},
   "outputs": [
    {
     "data": {
      "text/html": [
       "<div>\n",
       "<style scoped>\n",
       "    .dataframe tbody tr th:only-of-type {\n",
       "        vertical-align: middle;\n",
       "    }\n",
       "\n",
       "    .dataframe tbody tr th {\n",
       "        vertical-align: top;\n",
       "    }\n",
       "\n",
       "    .dataframe thead th {\n",
       "        text-align: right;\n",
       "    }\n",
       "</style>\n",
       "<table border=\"1\" class=\"dataframe\">\n",
       "  <thead>\n",
       "    <tr style=\"text-align: right;\">\n",
       "      <th></th>\n",
       "      <th>bodypart</th>\n",
       "      <th>fracture_bool</th>\n",
       "    </tr>\n",
       "  </thead>\n",
       "  <tbody>\n",
       "    <tr>\n",
       "      <th>0</th>\n",
       "      <td>elbow</td>\n",
       "      <td>False</td>\n",
       "    </tr>\n",
       "    <tr>\n",
       "      <th>1</th>\n",
       "      <td>elbow</td>\n",
       "      <td>False</td>\n",
       "    </tr>\n",
       "    <tr>\n",
       "      <th>2</th>\n",
       "      <td>elbow</td>\n",
       "      <td>False</td>\n",
       "    </tr>\n",
       "    <tr>\n",
       "      <th>3</th>\n",
       "      <td>elbow</td>\n",
       "      <td>False</td>\n",
       "    </tr>\n",
       "    <tr>\n",
       "      <th>4</th>\n",
       "      <td>elbow</td>\n",
       "      <td>False</td>\n",
       "    </tr>\n",
       "    <tr>\n",
       "      <th>...</th>\n",
       "      <td>...</td>\n",
       "      <td>...</td>\n",
       "    </tr>\n",
       "    <tr>\n",
       "      <th>109</th>\n",
       "      <td>wrist</td>\n",
       "      <td>True</td>\n",
       "    </tr>\n",
       "    <tr>\n",
       "      <th>110</th>\n",
       "      <td>wrist</td>\n",
       "      <td>True</td>\n",
       "    </tr>\n",
       "    <tr>\n",
       "      <th>111</th>\n",
       "      <td>wrist</td>\n",
       "      <td>True</td>\n",
       "    </tr>\n",
       "    <tr>\n",
       "      <th>112</th>\n",
       "      <td>wrist</td>\n",
       "      <td>True</td>\n",
       "    </tr>\n",
       "    <tr>\n",
       "      <th>113</th>\n",
       "      <td>wrist</td>\n",
       "      <td>True</td>\n",
       "    </tr>\n",
       "  </tbody>\n",
       "</table>\n",
       "<p>114 rows × 2 columns</p>\n",
       "</div>"
      ],
      "text/plain": [
       "    bodypart fracture_bool\n",
       "0      elbow         False\n",
       "1      elbow         False\n",
       "2      elbow         False\n",
       "3      elbow         False\n",
       "4      elbow         False\n",
       "..       ...           ...\n",
       "109    wrist          True\n",
       "110    wrist          True\n",
       "111    wrist          True\n",
       "112    wrist          True\n",
       "113    wrist          True\n",
       "\n",
       "[114 rows x 2 columns]"
      ]
     },
     "execution_count": 13,
     "metadata": {},
     "output_type": "execute_result"
    }
   ],
   "source": [
    "df_balanced[['bodypart', 'fracture_bool']]"
   ]
  },
  {
   "cell_type": "code",
   "execution_count": 14,
   "id": "8fd2f0ac-d9b1-4397-9853-c3656526fbb2",
   "metadata": {},
   "outputs": [
    {
     "data": {
      "text/plain": [
       "bodypart  fracture\n",
       "elbow     NO          30\n",
       "          YES         30\n",
       "wrist     NO          27\n",
       "          YES         27\n",
       "dtype: int64"
      ]
     },
     "execution_count": 14,
     "metadata": {},
     "output_type": "execute_result"
    }
   ],
   "source": [
    "df_balanced.groupby(['bodypart', 'fracture']).size()"
   ]
  },
  {
   "cell_type": "code",
   "execution_count": 15,
   "id": "c881e87c-89a4-4a45-92ff-2c4132804830",
   "metadata": {},
   "outputs": [],
   "source": [
    "df_ft_balanced_loc = Path('../data/df_min_ft_test_114.pkl')\n",
    "pd.to_pickle(df_balanced, df_ft_balanced_loc)"
   ]
  },
  {
   "cell_type": "markdown",
   "id": "670e4b94-138a-4b7b-a3be-2c6c3882ddca",
   "metadata": {},
   "source": [
    "# Inspect Data"
   ]
  },
  {
   "cell_type": "code",
   "execution_count": 32,
   "id": "69c0237b-918f-4517-b2cc-5da70043f0f6",
   "metadata": {},
   "outputs": [],
   "source": [
    "from PIL import Image"
   ]
  },
  {
   "cell_type": "code",
   "execution_count": 52,
   "id": "ec8fe9b5-446e-4308-8da1-4aa0a4035b98",
   "metadata": {},
   "outputs": [],
   "source": [
    "df_ft_balanced_loc = Path('../data/df_min_ft_test_114.pkl')\n",
    "df_balanced = pd.read_pickle(df_ft_balanced_loc)"
   ]
  },
  {
   "cell_type": "code",
   "execution_count": 53,
   "id": "1a1c3e4e-1412-4774-9872-53248a2b34b5",
   "metadata": {},
   "outputs": [],
   "source": [
    "def show_image(image, title=''):\n",
    "    # image is [H, W, 1]\n",
    "    assert image.shape[2] == 1\n",
    "    plt.imshow(image, cmap=plt.cm.bone)\n",
    "    plt.title(title, fontsize=8)\n",
    "    plt.axis('off')\n",
    "    return"
   ]
  },
  {
   "cell_type": "code",
   "execution_count": null,
   "id": "fc0045e7-23a3-4e36-bf30-0875a0c1c8e7",
   "metadata": {},
   "outputs": [],
   "source": [
    "bp_list = ['elbow', 'wrist']\n",
    "for bp in bp_list:\n",
    "    plt.rcParams['figure.figsize'] = [40, 10]\n",
    "    for i, fracture in enumerate([False, True]):\n",
    "        scan = df_balanced[(df_balanced['bodypart'] == bp) & (df_balanced['fracture_bool'] == fracture)].sample(1)\n",
    "        scan_id = scan.index[0]\n",
    "        scan_frac = scan[\"fracture\"].iloc[0]\n",
    "        scan_path = scan[\"path\"].iloc[0]\n",
    "        for j, scale in enumerate([1.0, 0.5, 0.25]):\n",
    "            pixel_values_raw = pydicom.read_file(scan_path).pixel_array\n",
    "            pixel_values_resize = cv2.resize(pixel_values_raw, (0, 0), fx=scale, fy=scale)\n",
    "            pixel_values = pixel_values_resize[:, :, np.newaxis]\n",
    "            \n",
    "            print(f\"{i*3+j+1}: Scan {scan_id}: path={scan_path}, bp={bp}, fracture={scan_frac}, scale={scale}, shape={pixel_values.shape}\")\n",
    "    \n",
    "            plt.subplot(1, 8, i*3+j+1)\n",
    "            show_image(pixel_values, title=f\"{bp}, Fracture: {scan_frac}, Scale: {scale}\")\n",
    "            \n",
    "            im = Image.fromarray(pixel_values_resize)\n",
    "            im.save(f'/home/buehlern/Documents/Masterarbeit/notebooks/Data Exploration Graphics/Finetuning/{scan_id}_{bp}_{scan_frac}_{scale}_{pixel_values_raw.shape}.png')\n",
    "            plt.axis('off')\n",
    "    plt.show()"
   ]
  },
  {
   "cell_type": "markdown",
   "id": "359a718a-4043-45ce-9f41-75fbb4f8c710",
   "metadata": {},
   "source": [
    "# Create Dataset"
   ]
  },
  {
   "cell_type": "code",
   "execution_count": 19,
   "id": "7eb2bc9b-c004-47bb-89f6-91600d6def18",
   "metadata": {},
   "outputs": [
    {
     "name": "stderr",
     "output_type": "stream",
     "text": [
      "/home/buehlern/.local/lib/python3.10/site-packages/tqdm/auto.py:21: TqdmWarning: IProgress not found. Please update jupyter and ipywidgets. See https://ipywidgets.readthedocs.io/en/stable/user_install.html\n",
      "  from .autonotebook import tqdm as notebook_tqdm\n"
     ]
    }
   ],
   "source": [
    "import sys\n",
    "sys.path.insert(1, '/home/buehlern/Documents/Masterarbeit/models')\n",
    "from src.data.mri_datamodule import MRIDataModule"
   ]
  },
  {
   "cell_type": "code",
   "execution_count": 20,
   "id": "9e5c456c-2f3c-4ecb-8939-143b24e7b405",
   "metadata": {},
   "outputs": [
    {
     "name": "stdout",
     "output_type": "stream",
     "text": [
      "Using label fracture as stratification_target\n",
      "Initializing MRIDatasetBase...\n",
      "Loading dataframe from /home/buehlern/Documents/Masterarbeit/data/df_min_ft_test_114.pkl...\n",
      "MRIDatasetBase(len=114) initialized\n",
      "Initializing MRIDataset(mode=train)...\n"
     ]
    },
    {
     "name": "stdin",
     "output_type": "stream",
     "text": [
      "WARN: NO TRAINVAL TEST SPLIT FOUND AT /home/buehlern/Documents/Masterarbeit/data/splits/split_test_df_min_ft_test_114_straton_fracture.csv, type YES[enter] to generate one:  YES\n"
     ]
    },
    {
     "name": "stdout",
     "output_type": "stream",
     "text": [
      "WARN: GENERATING NEW TRAINVAL TEST SPLIT\n",
      "MRIDataset(mode=train, len=91) initialized\n",
      "Initializing MRIDataset(mode=val)...\n",
      "MRIDataset(mode=val, len=7) initialized\n",
      "Initializing MRIDataset(mode=test)...\n",
      "WARN: Including test data\n",
      "MRIDataset(mode=test, len=16) initialized\n"
     ]
    }
   ],
   "source": [
    "# Load the DataModule\n",
    "mri_datamodule = MRIDataModule(\n",
    "            batch_size=1,\n",
    "            num_workers=1,\n",
    "            persistent_workers=True,\n",
    "            pin_memory=True,\n",
    "            df_name='df_min_ft_test_114',\n",
    "            batch_binning='smart',\n",
    "            label='fracture')"
   ]
  },
  {
   "cell_type": "code",
   "execution_count": 21,
   "id": "6880e946-b8cc-4722-b8d6-0a9373483233",
   "metadata": {},
   "outputs": [
    {
     "name": "stdout",
     "output_type": "stream",
     "text": [
      "Fractures: 47/91\n",
      "Fractures: 2/7\n",
      "Fractures: 8/16\n"
     ]
    }
   ],
   "source": [
    "data_sources = [mri_datamodule.data_train, mri_datamodule.data_val, mri_datamodule.data_test]\n",
    "for data_source in data_sources:\n",
    "    it = iter(data_source)\n",
    "    frac = 0\n",
    "    total = len(data_source)\n",
    "    for i in range(total):\n",
    "        item = next(it)\n",
    "        image = item[0]\n",
    "        label = item[1]\n",
    "        frac += label\n",
    "    print(f\"Fractures: {frac}/{total}\")"
   ]
  },
  {
   "cell_type": "markdown",
   "id": "9728f3e9-609a-41a4-9cc9-9261a3fee7e3",
   "metadata": {},
   "source": [
    "# Bigger Dataset for Pretraining Testruns"
   ]
  },
  {
   "cell_type": "code",
   "execution_count": 83,
   "id": "bbc6a79e-2522-4993-aae0-8761636f0aaa",
   "metadata": {},
   "outputs": [],
   "source": [
    "total_length = 10000"
   ]
  },
  {
   "cell_type": "code",
   "execution_count": 76,
   "id": "ab9a187f-b326-4cfc-91f1-188655b4c379",
   "metadata": {},
   "outputs": [
    {
     "data": {
      "text/plain": [
       "fracture\n",
       "NO     441\n",
       "YES    212\n",
       "Name: count, dtype: int64"
      ]
     },
     "execution_count": 76,
     "metadata": {},
     "output_type": "execute_result"
    }
   ],
   "source": [
    "df_frac['fracture'].value_counts()"
   ]
  },
  {
   "cell_type": "code",
   "execution_count": 77,
   "id": "fa8e4259-0f70-4cdb-88ec-3c7074f2f1e0",
   "metadata": {},
   "outputs": [
    {
     "data": {
      "text/html": [
       "<div>\n",
       "<style scoped>\n",
       "    .dataframe tbody tr th:only-of-type {\n",
       "        vertical-align: middle;\n",
       "    }\n",
       "\n",
       "    .dataframe tbody tr th {\n",
       "        vertical-align: top;\n",
       "    }\n",
       "\n",
       "    .dataframe thead th {\n",
       "        text-align: right;\n",
       "    }\n",
       "</style>\n",
       "<table border=\"1\" class=\"dataframe\">\n",
       "  <thead>\n",
       "    <tr style=\"text-align: right;\">\n",
       "      <th></th>\n",
       "      <th>patientid</th>\n",
       "      <th>path</th>\n",
       "      <th>pixelarr_shape</th>\n",
       "      <th>inverted</th>\n",
       "      <th>bodypart</th>\n",
       "      <th>fracture</th>\n",
       "      <th>foreignmaterial</th>\n",
       "      <th>fracture_bool</th>\n",
       "      <th>foreignmaterial_bool</th>\n",
       "    </tr>\n",
       "  </thead>\n",
       "  <tbody>\n",
       "    <tr>\n",
       "      <th>0</th>\n",
       "      <td>1-KmeUGaJnE</td>\n",
       "      <td>/home/buehlern/neocortex-nas/shared/Skelett/BW...</td>\n",
       "      <td>(2776, 1086)</td>\n",
       "      <td>False</td>\n",
       "      <td>tspine</td>\n",
       "      <td>NO</td>\n",
       "      <td>NO</td>\n",
       "      <td>False</td>\n",
       "      <td>False</td>\n",
       "    </tr>\n",
       "    <tr>\n",
       "      <th>1</th>\n",
       "      <td>1-KmeUGaJnE</td>\n",
       "      <td>/home/buehlern/neocortex-nas/shared/Skelett/BW...</td>\n",
       "      <td>(3001, 1888)</td>\n",
       "      <td>False</td>\n",
       "      <td>tspine</td>\n",
       "      <td>NO</td>\n",
       "      <td>NO</td>\n",
       "      <td>False</td>\n",
       "      <td>False</td>\n",
       "    </tr>\n",
       "    <tr>\n",
       "      <th>2</th>\n",
       "      <td>1vE2HAZ_BPw</td>\n",
       "      <td>/home/buehlern/neocortex-nas/shared/Skelett/BW...</td>\n",
       "      <td>(3000, 3000)</td>\n",
       "      <td>False</td>\n",
       "      <td>tspine</td>\n",
       "      <td>YES</td>\n",
       "      <td>YES</td>\n",
       "      <td>True</td>\n",
       "      <td>True</td>\n",
       "    </tr>\n",
       "    <tr>\n",
       "      <th>3</th>\n",
       "      <td>1vE2HAZ_BPw</td>\n",
       "      <td>/home/buehlern/neocortex-nas/shared/Skelett/BW...</td>\n",
       "      <td>(2988, 2112)</td>\n",
       "      <td>False</td>\n",
       "      <td>tspine</td>\n",
       "      <td>YES</td>\n",
       "      <td>YES</td>\n",
       "      <td>True</td>\n",
       "      <td>True</td>\n",
       "    </tr>\n",
       "    <tr>\n",
       "      <th>4</th>\n",
       "      <td>3TR8wGsLZkY</td>\n",
       "      <td>/home/buehlern/neocortex-nas/shared/Skelett/BW...</td>\n",
       "      <td>(2848, 1537)</td>\n",
       "      <td>False</td>\n",
       "      <td>tspine</td>\n",
       "      <td>YES</td>\n",
       "      <td>YES</td>\n",
       "      <td>True</td>\n",
       "      <td>True</td>\n",
       "    </tr>\n",
       "    <tr>\n",
       "      <th>...</th>\n",
       "      <td>...</td>\n",
       "      <td>...</td>\n",
       "      <td>...</td>\n",
       "      <td>...</td>\n",
       "      <td>...</td>\n",
       "      <td>...</td>\n",
       "      <td>...</td>\n",
       "      <td>...</td>\n",
       "      <td>...</td>\n",
       "    </tr>\n",
       "    <tr>\n",
       "      <th>648</th>\n",
       "      <td>rDDKKdZJGpE</td>\n",
       "      <td>/home/buehlern/neocortex-nas/shared/Skelett/SC...</td>\n",
       "      <td>(2090, 1928)</td>\n",
       "      <td>False</td>\n",
       "      <td>shoulder</td>\n",
       "      <td>NO</td>\n",
       "      <td>NO</td>\n",
       "      <td>False</td>\n",
       "      <td>False</td>\n",
       "    </tr>\n",
       "    <tr>\n",
       "      <th>649</th>\n",
       "      <td>wOQHmVgmj_8</td>\n",
       "      <td>/home/buehlern/neocortex-nas/shared/Skelett/SC...</td>\n",
       "      <td>(1988, 1904)</td>\n",
       "      <td>False</td>\n",
       "      <td>shoulder</td>\n",
       "      <td>YES</td>\n",
       "      <td>NO</td>\n",
       "      <td>True</td>\n",
       "      <td>False</td>\n",
       "    </tr>\n",
       "    <tr>\n",
       "      <th>650</th>\n",
       "      <td>wOQHmVgmj_8</td>\n",
       "      <td>/home/buehlern/neocortex-nas/shared/Skelett/SC...</td>\n",
       "      <td>(3000, 3000)</td>\n",
       "      <td>False</td>\n",
       "      <td>shoulder</td>\n",
       "      <td>YES</td>\n",
       "      <td>NO</td>\n",
       "      <td>True</td>\n",
       "      <td>False</td>\n",
       "    </tr>\n",
       "    <tr>\n",
       "      <th>651</th>\n",
       "      <td>y56tn1yujF0</td>\n",
       "      <td>/home/buehlern/neocortex-nas/shared/Skelett/SC...</td>\n",
       "      <td>(2204, 1516)</td>\n",
       "      <td>False</td>\n",
       "      <td>shoulder</td>\n",
       "      <td>NO</td>\n",
       "      <td>NO</td>\n",
       "      <td>False</td>\n",
       "      <td>False</td>\n",
       "    </tr>\n",
       "    <tr>\n",
       "      <th>652</th>\n",
       "      <td>y56tn1yujF0</td>\n",
       "      <td>/home/buehlern/neocortex-nas/shared/Skelett/SC...</td>\n",
       "      <td>(3000, 3000)</td>\n",
       "      <td>False</td>\n",
       "      <td>shoulder</td>\n",
       "      <td>NO</td>\n",
       "      <td>NO</td>\n",
       "      <td>False</td>\n",
       "      <td>False</td>\n",
       "    </tr>\n",
       "  </tbody>\n",
       "</table>\n",
       "<p>653 rows × 9 columns</p>\n",
       "</div>"
      ],
      "text/plain": [
       "       patientid                                               path  \\\n",
       "0    1-KmeUGaJnE  /home/buehlern/neocortex-nas/shared/Skelett/BW...   \n",
       "1    1-KmeUGaJnE  /home/buehlern/neocortex-nas/shared/Skelett/BW...   \n",
       "2    1vE2HAZ_BPw  /home/buehlern/neocortex-nas/shared/Skelett/BW...   \n",
       "3    1vE2HAZ_BPw  /home/buehlern/neocortex-nas/shared/Skelett/BW...   \n",
       "4    3TR8wGsLZkY  /home/buehlern/neocortex-nas/shared/Skelett/BW...   \n",
       "..           ...                                                ...   \n",
       "648  rDDKKdZJGpE  /home/buehlern/neocortex-nas/shared/Skelett/SC...   \n",
       "649  wOQHmVgmj_8  /home/buehlern/neocortex-nas/shared/Skelett/SC...   \n",
       "650  wOQHmVgmj_8  /home/buehlern/neocortex-nas/shared/Skelett/SC...   \n",
       "651  y56tn1yujF0  /home/buehlern/neocortex-nas/shared/Skelett/SC...   \n",
       "652  y56tn1yujF0  /home/buehlern/neocortex-nas/shared/Skelett/SC...   \n",
       "\n",
       "    pixelarr_shape  inverted  bodypart fracture foreignmaterial fracture_bool  \\\n",
       "0     (2776, 1086)     False    tspine       NO              NO         False   \n",
       "1     (3001, 1888)     False    tspine       NO              NO         False   \n",
       "2     (3000, 3000)     False    tspine      YES             YES          True   \n",
       "3     (2988, 2112)     False    tspine      YES             YES          True   \n",
       "4     (2848, 1537)     False    tspine      YES             YES          True   \n",
       "..             ...       ...       ...      ...             ...           ...   \n",
       "648   (2090, 1928)     False  shoulder       NO              NO         False   \n",
       "649   (1988, 1904)     False  shoulder      YES              NO          True   \n",
       "650   (3000, 3000)     False  shoulder      YES              NO          True   \n",
       "651   (2204, 1516)     False  shoulder       NO              NO         False   \n",
       "652   (3000, 3000)     False  shoulder       NO              NO         False   \n",
       "\n",
       "    foreignmaterial_bool  \n",
       "0                  False  \n",
       "1                  False  \n",
       "2                   True  \n",
       "3                   True  \n",
       "4                   True  \n",
       "..                   ...  \n",
       "648                False  \n",
       "649                False  \n",
       "650                False  \n",
       "651                False  \n",
       "652                False  \n",
       "\n",
       "[653 rows x 9 columns]"
      ]
     },
     "execution_count": 77,
     "metadata": {},
     "output_type": "execute_result"
    }
   ],
   "source": [
    "#num_samples = df_frac['fracture'].value_counts().min()\n",
    "#df_core = df_frac.groupby('fracture_bool').apply(lambda x: x.sample(n=num_samples, random_state=1))\n",
    "df_core = df_frac\n",
    "df_core = df_core.reset_index(drop=True)\n",
    "df_core"
   ]
  },
  {
   "cell_type": "code",
   "execution_count": 80,
   "id": "9e502413-7cab-4fd1-8c28-183a24241056",
   "metadata": {},
   "outputs": [
    {
     "data": {
      "text/html": [
       "<div>\n",
       "<style scoped>\n",
       "    .dataframe tbody tr th:only-of-type {\n",
       "        vertical-align: middle;\n",
       "    }\n",
       "\n",
       "    .dataframe tbody tr th {\n",
       "        vertical-align: top;\n",
       "    }\n",
       "\n",
       "    .dataframe thead th {\n",
       "        text-align: right;\n",
       "    }\n",
       "</style>\n",
       "<table border=\"1\" class=\"dataframe\">\n",
       "  <thead>\n",
       "    <tr style=\"text-align: right;\">\n",
       "      <th></th>\n",
       "      <th>patientid</th>\n",
       "      <th>path</th>\n",
       "      <th>pixelarr_shape</th>\n",
       "      <th>inverted</th>\n",
       "      <th>bodypart</th>\n",
       "      <th>fracture</th>\n",
       "      <th>foreignmaterial</th>\n",
       "      <th>fracture_bool</th>\n",
       "      <th>foreignmaterial_bool</th>\n",
       "    </tr>\n",
       "  </thead>\n",
       "  <tbody>\n",
       "    <tr>\n",
       "      <th>0</th>\n",
       "      <td>-0XIAZI2mBM</td>\n",
       "      <td>/home/buehlern/neocortex-nas/shared/Skelett/BW...</td>\n",
       "      <td>(2947, 1140)</td>\n",
       "      <td>False</td>\n",
       "      <td>tspine</td>\n",
       "      <td>NaN</td>\n",
       "      <td>NaN</td>\n",
       "      <td>NaN</td>\n",
       "      <td>NaN</td>\n",
       "    </tr>\n",
       "    <tr>\n",
       "      <th>1</th>\n",
       "      <td>-0XIAZI2mBM</td>\n",
       "      <td>/home/buehlern/neocortex-nas/shared/Skelett/BW...</td>\n",
       "      <td>(3001, 2220)</td>\n",
       "      <td>False</td>\n",
       "      <td>tspine</td>\n",
       "      <td>NaN</td>\n",
       "      <td>NaN</td>\n",
       "      <td>NaN</td>\n",
       "      <td>NaN</td>\n",
       "    </tr>\n",
       "    <tr>\n",
       "      <th>2</th>\n",
       "      <td>-1qIJOjCmUA</td>\n",
       "      <td>/home/buehlern/neocortex-nas/shared/Skelett/BW...</td>\n",
       "      <td>(2903, 1267)</td>\n",
       "      <td>False</td>\n",
       "      <td>tspine</td>\n",
       "      <td>NaN</td>\n",
       "      <td>NaN</td>\n",
       "      <td>NaN</td>\n",
       "      <td>NaN</td>\n",
       "    </tr>\n",
       "    <tr>\n",
       "      <th>3</th>\n",
       "      <td>-1qIJOjCmUA</td>\n",
       "      <td>/home/buehlern/neocortex-nas/shared/Skelett/BW...</td>\n",
       "      <td>(2622, 1132)</td>\n",
       "      <td>False</td>\n",
       "      <td>tspine</td>\n",
       "      <td>NaN</td>\n",
       "      <td>NaN</td>\n",
       "      <td>NaN</td>\n",
       "      <td>NaN</td>\n",
       "    </tr>\n",
       "    <tr>\n",
       "      <th>4</th>\n",
       "      <td>-1qIJOjCmUA</td>\n",
       "      <td>/home/buehlern/neocortex-nas/shared/Skelett/BW...</td>\n",
       "      <td>(2834, 1261)</td>\n",
       "      <td>False</td>\n",
       "      <td>tspine</td>\n",
       "      <td>NaN</td>\n",
       "      <td>NaN</td>\n",
       "      <td>NaN</td>\n",
       "      <td>NaN</td>\n",
       "    </tr>\n",
       "    <tr>\n",
       "      <th>...</th>\n",
       "      <td>...</td>\n",
       "      <td>...</td>\n",
       "      <td>...</td>\n",
       "      <td>...</td>\n",
       "      <td>...</td>\n",
       "      <td>...</td>\n",
       "      <td>...</td>\n",
       "      <td>...</td>\n",
       "      <td>...</td>\n",
       "    </tr>\n",
       "    <tr>\n",
       "      <th>639872</th>\n",
       "      <td>zzYDEupARTA</td>\n",
       "      <td>/home/buehlern/neocortex-nas/shared/Skelett/SG...</td>\n",
       "      <td>(3056, 1250)</td>\n",
       "      <td>True</td>\n",
       "      <td>ankle</td>\n",
       "      <td>NaN</td>\n",
       "      <td>NaN</td>\n",
       "      <td>NaN</td>\n",
       "      <td>NaN</td>\n",
       "    </tr>\n",
       "    <tr>\n",
       "      <th>639873</th>\n",
       "      <td>zztrIVB0lEM</td>\n",
       "      <td>/home/buehlern/neocortex-nas/shared/Skelett/SG...</td>\n",
       "      <td>(1654, 960)</td>\n",
       "      <td>False</td>\n",
       "      <td>ankle</td>\n",
       "      <td>NaN</td>\n",
       "      <td>NaN</td>\n",
       "      <td>NaN</td>\n",
       "      <td>NaN</td>\n",
       "    </tr>\n",
       "    <tr>\n",
       "      <th>639874</th>\n",
       "      <td>zztrIVB0lEM</td>\n",
       "      <td>/home/buehlern/neocortex-nas/shared/Skelett/SG...</td>\n",
       "      <td>(1485, 831)</td>\n",
       "      <td>False</td>\n",
       "      <td>ankle</td>\n",
       "      <td>NaN</td>\n",
       "      <td>NaN</td>\n",
       "      <td>NaN</td>\n",
       "      <td>NaN</td>\n",
       "    </tr>\n",
       "    <tr>\n",
       "      <th>639875</th>\n",
       "      <td>zzuYHa4Yo7I</td>\n",
       "      <td>/home/buehlern/neocortex-nas/shared/Skelett/SG...</td>\n",
       "      <td>(1791, 880)</td>\n",
       "      <td>False</td>\n",
       "      <td>ankle</td>\n",
       "      <td>NaN</td>\n",
       "      <td>NaN</td>\n",
       "      <td>NaN</td>\n",
       "      <td>NaN</td>\n",
       "    </tr>\n",
       "    <tr>\n",
       "      <th>639876</th>\n",
       "      <td>zzuYHa4Yo7I</td>\n",
       "      <td>/home/buehlern/neocortex-nas/shared/Skelett/SG...</td>\n",
       "      <td>(1685, 1081)</td>\n",
       "      <td>False</td>\n",
       "      <td>ankle</td>\n",
       "      <td>NaN</td>\n",
       "      <td>NaN</td>\n",
       "      <td>NaN</td>\n",
       "      <td>NaN</td>\n",
       "    </tr>\n",
       "  </tbody>\n",
       "</table>\n",
       "<p>639877 rows × 9 columns</p>\n",
       "</div>"
      ],
      "text/plain": [
       "          patientid                                               path  \\\n",
       "0       -0XIAZI2mBM  /home/buehlern/neocortex-nas/shared/Skelett/BW...   \n",
       "1       -0XIAZI2mBM  /home/buehlern/neocortex-nas/shared/Skelett/BW...   \n",
       "2       -1qIJOjCmUA  /home/buehlern/neocortex-nas/shared/Skelett/BW...   \n",
       "3       -1qIJOjCmUA  /home/buehlern/neocortex-nas/shared/Skelett/BW...   \n",
       "4       -1qIJOjCmUA  /home/buehlern/neocortex-nas/shared/Skelett/BW...   \n",
       "...             ...                                                ...   \n",
       "639872  zzYDEupARTA  /home/buehlern/neocortex-nas/shared/Skelett/SG...   \n",
       "639873  zztrIVB0lEM  /home/buehlern/neocortex-nas/shared/Skelett/SG...   \n",
       "639874  zztrIVB0lEM  /home/buehlern/neocortex-nas/shared/Skelett/SG...   \n",
       "639875  zzuYHa4Yo7I  /home/buehlern/neocortex-nas/shared/Skelett/SG...   \n",
       "639876  zzuYHa4Yo7I  /home/buehlern/neocortex-nas/shared/Skelett/SG...   \n",
       "\n",
       "       pixelarr_shape  inverted bodypart fracture foreignmaterial  \\\n",
       "0        (2947, 1140)     False   tspine      NaN             NaN   \n",
       "1        (3001, 2220)     False   tspine      NaN             NaN   \n",
       "2        (2903, 1267)     False   tspine      NaN             NaN   \n",
       "3        (2622, 1132)     False   tspine      NaN             NaN   \n",
       "4        (2834, 1261)     False   tspine      NaN             NaN   \n",
       "...               ...       ...      ...      ...             ...   \n",
       "639872   (3056, 1250)      True    ankle      NaN             NaN   \n",
       "639873    (1654, 960)     False    ankle      NaN             NaN   \n",
       "639874    (1485, 831)     False    ankle      NaN             NaN   \n",
       "639875    (1791, 880)     False    ankle      NaN             NaN   \n",
       "639876   (1685, 1081)     False    ankle      NaN             NaN   \n",
       "\n",
       "       fracture_bool foreignmaterial_bool  \n",
       "0                NaN                  NaN  \n",
       "1                NaN                  NaN  \n",
       "2                NaN                  NaN  \n",
       "3                NaN                  NaN  \n",
       "4                NaN                  NaN  \n",
       "...              ...                  ...  \n",
       "639872           NaN                  NaN  \n",
       "639873           NaN                  NaN  \n",
       "639874           NaN                  NaN  \n",
       "639875           NaN                  NaN  \n",
       "639876           NaN                  NaN  \n",
       "\n",
       "[639877 rows x 9 columns]"
      ]
     },
     "execution_count": 80,
     "metadata": {},
     "output_type": "execute_result"
    }
   ],
   "source": [
    "df"
   ]
  },
  {
   "cell_type": "code",
   "execution_count": 84,
   "id": "42c7f0f1-041e-4afa-bf1a-51be5ab36af0",
   "metadata": {},
   "outputs": [],
   "source": [
    "df_add = df.drop(df_core.index)\n",
    "df_fill = df_add.sample(n=total_length-len(df_core), random_state=42)\n",
    "df_ft_pretrain = pd.concat([df_core, df_fill], ignore_index=True)"
   ]
  },
  {
   "cell_type": "code",
   "execution_count": 93,
   "id": "1426c0a2-33a3-4a7b-aea1-8fd2d5194da0",
   "metadata": {},
   "outputs": [
    {
     "data": {
      "text/html": [
       "<div>\n",
       "<style scoped>\n",
       "    .dataframe tbody tr th:only-of-type {\n",
       "        vertical-align: middle;\n",
       "    }\n",
       "\n",
       "    .dataframe tbody tr th {\n",
       "        vertical-align: top;\n",
       "    }\n",
       "\n",
       "    .dataframe thead th {\n",
       "        text-align: right;\n",
       "    }\n",
       "</style>\n",
       "<table border=\"1\" class=\"dataframe\">\n",
       "  <thead>\n",
       "    <tr style=\"text-align: right;\">\n",
       "      <th></th>\n",
       "      <th>patientid</th>\n",
       "      <th>path</th>\n",
       "      <th>pixelarr_shape</th>\n",
       "      <th>inverted</th>\n",
       "      <th>bodypart</th>\n",
       "      <th>fracture</th>\n",
       "      <th>foreignmaterial</th>\n",
       "      <th>fracture_bool</th>\n",
       "      <th>foreignmaterial_bool</th>\n",
       "    </tr>\n",
       "  </thead>\n",
       "  <tbody>\n",
       "    <tr>\n",
       "      <th>0</th>\n",
       "      <td>1-KmeUGaJnE</td>\n",
       "      <td>/home/buehlern/neocortex-nas/shared/Skelett/BW...</td>\n",
       "      <td>(2776, 1086)</td>\n",
       "      <td>False</td>\n",
       "      <td>tspine</td>\n",
       "      <td>NO</td>\n",
       "      <td>NO</td>\n",
       "      <td>False</td>\n",
       "      <td>False</td>\n",
       "    </tr>\n",
       "    <tr>\n",
       "      <th>1</th>\n",
       "      <td>1-KmeUGaJnE</td>\n",
       "      <td>/home/buehlern/neocortex-nas/shared/Skelett/BW...</td>\n",
       "      <td>(3001, 1888)</td>\n",
       "      <td>False</td>\n",
       "      <td>tspine</td>\n",
       "      <td>NO</td>\n",
       "      <td>NO</td>\n",
       "      <td>False</td>\n",
       "      <td>False</td>\n",
       "    </tr>\n",
       "    <tr>\n",
       "      <th>2</th>\n",
       "      <td>1vE2HAZ_BPw</td>\n",
       "      <td>/home/buehlern/neocortex-nas/shared/Skelett/BW...</td>\n",
       "      <td>(3000, 3000)</td>\n",
       "      <td>False</td>\n",
       "      <td>tspine</td>\n",
       "      <td>YES</td>\n",
       "      <td>YES</td>\n",
       "      <td>True</td>\n",
       "      <td>True</td>\n",
       "    </tr>\n",
       "    <tr>\n",
       "      <th>3</th>\n",
       "      <td>1vE2HAZ_BPw</td>\n",
       "      <td>/home/buehlern/neocortex-nas/shared/Skelett/BW...</td>\n",
       "      <td>(2988, 2112)</td>\n",
       "      <td>False</td>\n",
       "      <td>tspine</td>\n",
       "      <td>YES</td>\n",
       "      <td>YES</td>\n",
       "      <td>True</td>\n",
       "      <td>True</td>\n",
       "    </tr>\n",
       "    <tr>\n",
       "      <th>4</th>\n",
       "      <td>3TR8wGsLZkY</td>\n",
       "      <td>/home/buehlern/neocortex-nas/shared/Skelett/BW...</td>\n",
       "      <td>(2848, 1537)</td>\n",
       "      <td>False</td>\n",
       "      <td>tspine</td>\n",
       "      <td>YES</td>\n",
       "      <td>YES</td>\n",
       "      <td>True</td>\n",
       "      <td>True</td>\n",
       "    </tr>\n",
       "    <tr>\n",
       "      <th>...</th>\n",
       "      <td>...</td>\n",
       "      <td>...</td>\n",
       "      <td>...</td>\n",
       "      <td>...</td>\n",
       "      <td>...</td>\n",
       "      <td>...</td>\n",
       "      <td>...</td>\n",
       "      <td>...</td>\n",
       "      <td>...</td>\n",
       "    </tr>\n",
       "    <tr>\n",
       "      <th>9995</th>\n",
       "      <td>ImR8T2lqxI4</td>\n",
       "      <td>/home/buehlern/neocortex-nas/shared/Skelett/KN...</td>\n",
       "      <td>(2216, 1403)</td>\n",
       "      <td>False</td>\n",
       "      <td>knee</td>\n",
       "      <td>NaN</td>\n",
       "      <td>NaN</td>\n",
       "      <td>NaN</td>\n",
       "      <td>NaN</td>\n",
       "    </tr>\n",
       "    <tr>\n",
       "      <th>9996</th>\n",
       "      <td>XTRDJp7iW3s</td>\n",
       "      <td>/home/buehlern/neocortex-nas/shared/Skelett/SG...</td>\n",
       "      <td>(1863, 999)</td>\n",
       "      <td>False</td>\n",
       "      <td>ankle</td>\n",
       "      <td>NaN</td>\n",
       "      <td>NaN</td>\n",
       "      <td>NaN</td>\n",
       "      <td>NaN</td>\n",
       "    </tr>\n",
       "    <tr>\n",
       "      <th>9997</th>\n",
       "      <td>k8FE48eDiUE</td>\n",
       "      <td>/home/buehlern/neocortex-nas/shared/Skelett/KN...</td>\n",
       "      <td>(2263, 1220)</td>\n",
       "      <td>False</td>\n",
       "      <td>knee</td>\n",
       "      <td>NaN</td>\n",
       "      <td>NaN</td>\n",
       "      <td>NaN</td>\n",
       "      <td>NaN</td>\n",
       "    </tr>\n",
       "    <tr>\n",
       "      <th>9998</th>\n",
       "      <td>BAaVwgV8c8A</td>\n",
       "      <td>/home/buehlern/neocortex-nas/shared/Skelett/SG...</td>\n",
       "      <td>(1239, 750)</td>\n",
       "      <td>False</td>\n",
       "      <td>ankle</td>\n",
       "      <td>NaN</td>\n",
       "      <td>NaN</td>\n",
       "      <td>NaN</td>\n",
       "      <td>NaN</td>\n",
       "    </tr>\n",
       "    <tr>\n",
       "      <th>9999</th>\n",
       "      <td>o6bcYdLdEN4</td>\n",
       "      <td>/home/buehlern/neocortex-nas/shared/Skelett/HG...</td>\n",
       "      <td>(1045, 732)</td>\n",
       "      <td>False</td>\n",
       "      <td>wrist</td>\n",
       "      <td>NaN</td>\n",
       "      <td>NaN</td>\n",
       "      <td>NaN</td>\n",
       "      <td>NaN</td>\n",
       "    </tr>\n",
       "  </tbody>\n",
       "</table>\n",
       "<p>10000 rows × 9 columns</p>\n",
       "</div>"
      ],
      "text/plain": [
       "        patientid                                               path  \\\n",
       "0     1-KmeUGaJnE  /home/buehlern/neocortex-nas/shared/Skelett/BW...   \n",
       "1     1-KmeUGaJnE  /home/buehlern/neocortex-nas/shared/Skelett/BW...   \n",
       "2     1vE2HAZ_BPw  /home/buehlern/neocortex-nas/shared/Skelett/BW...   \n",
       "3     1vE2HAZ_BPw  /home/buehlern/neocortex-nas/shared/Skelett/BW...   \n",
       "4     3TR8wGsLZkY  /home/buehlern/neocortex-nas/shared/Skelett/BW...   \n",
       "...           ...                                                ...   \n",
       "9995  ImR8T2lqxI4  /home/buehlern/neocortex-nas/shared/Skelett/KN...   \n",
       "9996  XTRDJp7iW3s  /home/buehlern/neocortex-nas/shared/Skelett/SG...   \n",
       "9997  k8FE48eDiUE  /home/buehlern/neocortex-nas/shared/Skelett/KN...   \n",
       "9998  BAaVwgV8c8A  /home/buehlern/neocortex-nas/shared/Skelett/SG...   \n",
       "9999  o6bcYdLdEN4  /home/buehlern/neocortex-nas/shared/Skelett/HG...   \n",
       "\n",
       "     pixelarr_shape  inverted bodypart fracture foreignmaterial fracture_bool  \\\n",
       "0      (2776, 1086)     False   tspine       NO              NO         False   \n",
       "1      (3001, 1888)     False   tspine       NO              NO         False   \n",
       "2      (3000, 3000)     False   tspine      YES             YES          True   \n",
       "3      (2988, 2112)     False   tspine      YES             YES          True   \n",
       "4      (2848, 1537)     False   tspine      YES             YES          True   \n",
       "...             ...       ...      ...      ...             ...           ...   \n",
       "9995   (2216, 1403)     False     knee      NaN             NaN           NaN   \n",
       "9996    (1863, 999)     False    ankle      NaN             NaN           NaN   \n",
       "9997   (2263, 1220)     False     knee      NaN             NaN           NaN   \n",
       "9998    (1239, 750)     False    ankle      NaN             NaN           NaN   \n",
       "9999    (1045, 732)     False    wrist      NaN             NaN           NaN   \n",
       "\n",
       "     foreignmaterial_bool  \n",
       "0                   False  \n",
       "1                   False  \n",
       "2                    True  \n",
       "3                    True  \n",
       "4                    True  \n",
       "...                   ...  \n",
       "9995                  NaN  \n",
       "9996                  NaN  \n",
       "9997                  NaN  \n",
       "9998                  NaN  \n",
       "9999                  NaN  \n",
       "\n",
       "[10000 rows x 9 columns]"
      ]
     },
     "execution_count": 93,
     "metadata": {},
     "output_type": "execute_result"
    }
   ],
   "source": [
    "df_ft_pretrain"
   ]
  },
  {
   "cell_type": "code",
   "execution_count": 98,
   "id": "55549ed4-6a61-427a-8943-4ce6dad87f33",
   "metadata": {},
   "outputs": [],
   "source": [
    "df_ft_pretrain_loc = Path('../data/df_min_ft_pt_10k.pkl')\n",
    "pd.to_pickle(df_ft_pretrain, df_ft_pretrain_loc)"
   ]
  }
 ],
 "metadata": {
  "kernelspec": {
   "display_name": "Python 3 (ipykernel)",
   "language": "python",
   "name": "python3"
  },
  "language_info": {
   "codemirror_mode": {
    "name": "ipython",
    "version": 3
   },
   "file_extension": ".py",
   "mimetype": "text/x-python",
   "name": "python",
   "nbconvert_exporter": "python",
   "pygments_lexer": "ipython3",
   "version": "3.10.12"
  }
 },
 "nbformat": 4,
 "nbformat_minor": 5
}
