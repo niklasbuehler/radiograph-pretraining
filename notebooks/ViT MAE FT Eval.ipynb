{
 "cells": [
  {
   "cell_type": "code",
   "execution_count": null,
   "id": "914d0104-0117-46ba-ab82-5bd4df442dd0",
   "metadata": {},
   "outputs": [],
   "source": [
    "%load_ext autoreload\n",
    "%autoreload 2"
   ]
  },
  {
   "cell_type": "code",
   "execution_count": null,
   "id": "c8e71a03-1175-4dda-a061-bc691ae74a27",
   "metadata": {},
   "outputs": [],
   "source": [
    "import torch\n",
    "import collections\n",
    "import matplotlib.pyplot as plt\n",
    "import numpy as np\n",
    "import random\n",
    "import torch.nn.functional as F\n",
    "import pandas as pd\n",
    "from pathlib import Path\n",
    "import torch.optim as optim\n",
    "from lightning import Trainer\n",
    "from omegaconf import OmegaConf"
   ]
  },
  {
   "cell_type": "code",
   "execution_count": null,
   "id": "054b71d3-d45f-4774-9c0c-19d1f3eb52a7",
   "metadata": {},
   "outputs": [],
   "source": [
    "import sys\n",
    "sys.path.insert(1, '/home/buehlern/Documents/Masterarbeit/models')\n",
    "from src.data.mri_datamodule import MRIDataModule\n",
    "from src.models.vit_mae_module import VisionTransformerMAE\n",
    "from src.models.vit_mae_probe_module import ViTMAELinearProbingClassifier"
   ]
  },
  {
   "cell_type": "markdown",
   "id": "9fe65309-ec01-4cb5-a65e-637f3cc62c07",
   "metadata": {},
   "source": [
    "# Reconstruction Visualization"
   ]
  },
  {
   "cell_type": "code",
   "execution_count": null,
   "id": "ed73786f-4423-440e-bb41-c37880ee8672",
   "metadata": {},
   "outputs": [],
   "source": [
    "# Load model checkpoint\n",
    "mae_name = \"ViT-L MAE\" # Old pretrained model\n",
    "mae_name = \"ViT-L MAE FT-1\" # FT PT Model normal, 50 epochs\n",
    "mae_name = \"ViT-L MAE FT-2\" # FT PT Model normal, 90 epochs\n",
    "mae_name = \"ViT-L MAE FT-3\" # FT PT Model normal, 300 epochs\n",
    "mae_name = \"ViT-L MAE FT-4\" # FT PT Model normal, 1000 epochs\n",
    "mae_name = \"ViT-L MAE FT-5\" # FT PT Model normal, 10k samples, 3 epochs\n",
    "mae_name = \"ViT-L_MAE_FT-10k_1\" # FT PT Model normal, 10k samples, 10 epochs\n",
    "mae_name = \"ViT-L_MAE_FT-10k_2\" # FT PT Model normal, 10k samples, 10 epochs, 50% mask ratio\n",
    "mae_name = \"ViT-L_MAE_FT-10k_3\" # FT PT Model normal, 10k samples, 10 epochs, patch_size 32\n",
    "# 10k samples, 30 epochs\n",
    "mae_name = \"ViT-L_MAE_FT-10k/default\" # Default FT PT Model, 10k samples, 30 epochs\n",
    "mae_name = \"ViT-L_MAE_FT-10k/downsampling\"\n",
    "mae_name = \"ViT-L_MAE_FT-10k/maskratio\"\n",
    "mae_name = \"ViT-L_MAE_FT-10k/patchsize\"\n",
    "# Full pretraining\n",
    "mae_name = \"ViT-L-MAE/Default/epoch_000\"\n",
    "mae_name = \"ViT-L-MAE/Default/epoch_001\"\n",
    "mae_name = \"ViT-L-MAE/Default/epoch_002\"\n",
    "mae_name = \"ViT-L-MAE/Overfit/epoch_000\"\n",
    "# Final pretraining\n",
    "mae_name = \"ViT-B-MAE/Default/epoch_009\"\n",
    "mae_checkpoint = f\"/home/buehlern/Documents/Masterarbeit/models/checkpoints/{mae_name}.ckpt\""
   ]
  },
  {
   "cell_type": "code",
   "execution_count": null,
   "id": "476485e8-bbd1-4b70-a108-66045a375b2c",
   "metadata": {},
   "outputs": [],
   "source": [
    "torch.cuda.device_count()"
   ]
  },
  {
   "cell_type": "code",
   "execution_count": null,
   "id": "0c1093ed-7315-47f3-bde8-4d9375ffc740",
   "metadata": {},
   "outputs": [],
   "source": [
    "device = 'cuda:0' # 'cpu'\n",
    "checkpoint = torch.load(mae_checkpoint, map_location=device)\n",
    "state_dict = checkpoint['state_dict']"
   ]
  },
  {
   "cell_type": "code",
   "execution_count": null,
   "id": "28a3eebc-1994-4bf2-9ac5-69c35cf2020a",
   "metadata": {},
   "outputs": [],
   "source": [
    "state_dict.keys()"
   ]
  },
  {
   "cell_type": "code",
   "execution_count": null,
   "id": "b7f43334-7b17-4923-9e0e-579ff102f473",
   "metadata": {},
   "outputs": [],
   "source": [
    "def remap_keys(state_dict, unwanted_prefix, new_prefix):\n",
    "    new_state_dict = {}\n",
    "    for key, value in state_dict.items():\n",
    "        if key.startswith(unwanted_prefix):\n",
    "            new_key = key.replace(unwanted_prefix, new_prefix)\n",
    "        else:\n",
    "            new_key = key\n",
    "        new_state_dict[new_key] = value\n",
    "    return collections.OrderedDict(new_state_dict)"
   ]
  },
  {
   "cell_type": "code",
   "execution_count": null,
   "id": "0f72f022-1013-4ca2-a2fd-70a13c3b888d",
   "metadata": {},
   "outputs": [],
   "source": [
    "new_state_dict = remap_keys(state_dict, 'net._orig_mod.', 'net.')"
   ]
  },
  {
   "cell_type": "code",
   "execution_count": null,
   "id": "d6f6955b-1e78-4f20-bad5-5407299affc9",
   "metadata": {
    "scrolled": true
   },
   "outputs": [],
   "source": [
    "new_state_dict.keys()"
   ]
  },
  {
   "cell_type": "code",
   "execution_count": null,
   "id": "bc887bf6-fe26-448f-b742-782f5d8aaaff",
   "metadata": {},
   "outputs": [],
   "source": [
    "mae = VisionTransformerMAE(image_size = 3072, patch_size = 48, image_channels=1, output_attentions=True)\n",
    "mae.load_state_dict(new_state_dict)"
   ]
  },
  {
   "cell_type": "code",
   "execution_count": null,
   "id": "65a2b4bd-ba0e-4d96-890b-8d7e695159ec",
   "metadata": {},
   "outputs": [],
   "source": [
    "mae.eval()"
   ]
  },
  {
   "cell_type": "code",
   "execution_count": null,
   "id": "3757896c-6ad3-4c1d-9f2c-f724bba1f389",
   "metadata": {},
   "outputs": [],
   "source": [
    "# Disable masking\n",
    "#mae.net.config.mask_ratio = 0"
   ]
  },
  {
   "cell_type": "code",
   "execution_count": null,
   "id": "1352bd16-65db-44fd-b7bd-0b66fc4c7342",
   "metadata": {},
   "outputs": [],
   "source": [
    "# For outputting attentions\n",
    "print('output_attentions:', mae.net.config.output_attentions)\n",
    "print('_attn_implementation:', mae.net.config._attn_implementation)"
   ]
  },
  {
   "cell_type": "code",
   "execution_count": null,
   "id": "733f1ff2-9a6a-40ff-a48d-29239a4de188",
   "metadata": {},
   "outputs": [],
   "source": [
    "# Load the DataModule\n",
    "mri_datamodule = MRIDataModule(\n",
    "    df_name=\"df_min_ft_test_114\",\n",
    "    label=\"bodypart\",\n",
    "    pad_to_multiple_of=48,\n",
    "    #batch_binning=\"smart\",\n",
    "    #batch_bins=[1152, 1536, 1920, 2304, 2688, 3072],\n",
    "    batch_size=1,\n",
    "    num_workers=4,\n",
    "    persistent_workers=True,\n",
    "    pin_memory=True,\n",
    "    val_size=0.05,\n",
    "    test_size=0.15,\n",
    "    output_channels=1,\n",
    "    fix_inverted=True\n",
    ")"
   ]
  },
  {
   "cell_type": "code",
   "execution_count": null,
   "id": "617949f2-82d8-4ea2-8dd9-20c5f180f03d",
   "metadata": {},
   "outputs": [],
   "source": [
    "def show_image(image, title=''):\n",
    "    # image is [H, W, 1]\n",
    "    assert image.shape[2] == 1\n",
    "    plt.imshow(image, cmap=plt.cm.bone, interpolation='none')\n",
    "    plt.title(title, fontsize=16)\n",
    "    plt.axis('off')\n",
    "    return"
   ]
  },
  {
   "cell_type": "code",
   "execution_count": null,
   "id": "56503f00-3c36-45f3-9d5b-ffda7674b8c1",
   "metadata": {},
   "outputs": [],
   "source": [
    "def visualize(pixel_values, model, imgname=None):\n",
    "    patch_size = model.config.patch_size\n",
    "    print(pixel_values.size())\n",
    "    image_width, image_height = pixel_values.size()[-2:]\n",
    "    num_patches_x = image_width // patch_size\n",
    "    num_patches_y = image_height // patch_size\n",
    "    print(f\"Size: {image_width}x{image_height}\")\n",
    "    print(f\"Patches: {num_patches_x}x{num_patches_y}\")\n",
    "    \n",
    "    # forward pass\n",
    "    outputs = model(pixel_values, interpolate_pos_encoding=True, output_attentions=True)\n",
    "    y = model.unpatchify(outputs.logits, original_image_size=pixel_values.size()[-2:])\n",
    "    y = torch.einsum('nchw->nhwc', y).detach().cpu()\n",
    "    \n",
    "    # visualize the mask\n",
    "    mask = outputs.mask.detach()\n",
    "    mask = mask.unsqueeze(-1).repeat(1, 1, model.config.patch_size**2 *1)  # (N, H*W, p*p*1)\n",
    "    mask = model.unpatchify(mask, original_image_size=pixel_values.size()[-2:])\n",
    "    mask = torch.einsum('nchw->nhwc', mask).detach().cpu()\n",
    "    \n",
    "    x = torch.einsum('nchw->nhwc', pixel_values)\n",
    "\n",
    "    # masked image\n",
    "    im_masked = x * (1 - mask)\n",
    "\n",
    "    # MAE reconstruction pasted with visible patches\n",
    "    im_paste = x * (1 - mask) + y * mask\n",
    "\n",
    "    # Attention map calculations\n",
    "    # seq_len = 1025\n",
    "    # Without [CLS] token: seq_len = 1024\n",
    "    # num_patches_x_out = num_patches_y = sqrt(seq_len) = sqrt(1024) = 32\n",
    "    # num_patches_x_in = image_size // patch_size = 3072 // 48 = 64\n",
    "    # Reason for difference is masking! 4096 * (1-0.75) = 1024\n",
    "\n",
    "    #image_size = model.config.image_size\n",
    "    #patch_size = model.config.patch_size\n",
    "    #num_patches = image_size // patch_size\n",
    "    #attn_map = attn.squeeze().numpy()\n",
    "    ## Scale attention map to original image size\n",
    "    #attn_map_scaled = np.zeros((image_size, image_size))\n",
    "    #for i in range(num_patches):\n",
    "    #    for j in range(num_patches):\n",
    "    #        x_start = i * patch_size\n",
    "    #        x_end = x_start + patch_size\n",
    "    #        y_start = j * patch_size\n",
    "    #        y_end = y_start + patch_size\n",
    "    #        \n",
    "    #        attn_map_scaled[x_start:x_end, y_start:y_end] = attn_map[i * num_patches + j]\n",
    "    \n",
    "    #num_patches = attn.size(-1)\n",
    "    #print(f\"num_patches (after masking {model.config.mask_ratio}):\", num_patches) # 1024\n",
    "    #attn = attn[0].reshape(model.config.patch_size, model.config.patch_size, -1)\n",
    "    # Rescale attention to image size\n",
    "    #attn = F.interpolate(attn.unsqueeze(0).unsqueeze(0), scale_factor=model.config.patch_size, mode=\"nearest\")[0][0]\n",
    "    \n",
    "    attentions = outputs.attentions\n",
    "    print(\"len(attentions):\", len(attentions)) # 24 layers\n",
    "    print(\"attentions[0].shape:\", attentions[0].shape) # [1, 16, 1025, 1025]\n",
    "    # Initialize full attention map\n",
    "    full_attn_map = torch.zeros((1, image_width, image_height)) # (1, 3072, 3072)\n",
    "    masklist = outputs.mask.detach().type(torch.int64) > 0\n",
    "    print(\"masklist.shape:\", masklist.shape) # (1, 4096)\n",
    "    # Determine patch contributions\n",
    "    #patch_contrib = attentions[-1][:, :, 1:, 1:].mean(dim=1) # Take mean attention of last layer (without [CLS] token)\n",
    "    patch_contrib = torch.zeros(attentions[0].shape[-1]-1) # -1 for [CLS] token\n",
    "    check_cls_token = False\n",
    "    if check_cls_token:\n",
    "        for layer_attn in attentions[:-1]:\n",
    "            # Only check [CLS] token\n",
    "            attn = layer_attn[:, :, 1, 1:].detach().cpu() # [1, 16, 1024]\n",
    "            # Average over heads\n",
    "            attn = attn.mean(dim=1) # [1, 1024]\n",
    "            # Average over batch (if batch_size > 1)\n",
    "            attn = attn.mean(dim=0) # [1, 1024]\n",
    "            patch_contrib += attn\n",
    "    else:\n",
    "        for layer_attn in attentions[:-1]:\n",
    "            # Remove [CLS] token\n",
    "            attn = layer_attn[:, :, 1:, 1:].detach().cpu() # [1, 16, 1024, 1024]\n",
    "            # Average over heads\n",
    "            attn = attn.mean(dim=1) # [1, 1024, 1024]\n",
    "            # Average over batch (if batch_size > 1)\n",
    "            attn = attn.mean(dim=0) # [1024, 1024]\n",
    "            # Average contribution across all other tokens\n",
    "            attn = attn.mean(dim=1) # [1024,]\n",
    "            patch_contrib += attn\n",
    "    # Normalize\n",
    "    patch_contrib -= patch_contrib.min()\n",
    "    patch_contrib /= patch_contrib.max()\n",
    "    print(\"patch_contrib.shape:\", patch_contrib.shape)\n",
    "    print(pd.DataFrame(patch_contrib).describe())\n",
    "    # Map attention scores onto full attention map\n",
    "    attn_iter = iter(patch_contrib)\n",
    "    print(\"len(masklist[0]):\", len(masklist[0]))\n",
    "    #print(\"patches:\", (len(masklist[0])-1) % num_patches_x + 1, len(masklist[0]) // num_patches_x)\n",
    "    for i, masked in enumerate(masklist[0]):\n",
    "        row = i % num_patches_y\n",
    "        col = i // num_patches_y\n",
    "        attn_val = next(attn_iter) if ~masked else torch.tensor([0])\n",
    "        #attn_val = torch.tensor([col / (image_height // num_patches_y)])\n",
    "        #attn_val = torch.tensor([1])\n",
    "        #print(\"i, row, col, x, y, masked, attn_val:\", i, row, col, col*patch_size, row*patch_size, masked.item(), attn_val)\n",
    "        full_attn_map[0, col*patch_size:(col+1)*patch_size, row*patch_size:(row+1)*patch_size] = attn_val.expand((patch_size, patch_size))\n",
    "    \n",
    "    # make the plt figure larger\n",
    "    plt.rcParams['figure.figsize'] = [24, 10]\n",
    "\n",
    "    plt.subplot(1, 5, 1)\n",
    "    show_image(x[0], \"original\")\n",
    "\n",
    "    plt.subplot(1, 5, 2)\n",
    "    show_image(im_masked[0], \"masked\")\n",
    "\n",
    "    plt.subplot(1, 5, 3)\n",
    "    show_image(y[0], f\"reconstruction (loss: {outputs.loss.item():.4f})\")\n",
    "\n",
    "    plt.subplot(1, 5, 4)\n",
    "    show_image(im_paste[0], \"reconstruction + visible\")\n",
    "    \n",
    "    plt.subplot(1, 5, 5)\n",
    "    plt.imshow(full_attn_map[0], cmap='grey', interpolation='nearest')\n",
    "    plt.title(\"Attention Map\")\n",
    "    plt.axis('off')\n",
    "\n",
    "    if imgname is not None:\n",
    "        base_path = f\"/home/buehlern/Documents/Masterarbeit/notebooks/Data Exploration Graphics/Model Eval/ViT MAE FT/{mae_name}/\"\n",
    "        Path(base_path).mkdir(exist_ok=True)\n",
    "        plt.savefig(base_path + '/' + str(imgname) + '.png')\n",
    "    plt.show()"
   ]
  },
  {
   "cell_type": "code",
   "execution_count": null,
   "id": "d002e0b4-3ea3-4e81-8260-0d16e80c7d3a",
   "metadata": {},
   "outputs": [],
   "source": [
    "train_iter = iter(mri_datamodule.train_dataloader())\n",
    "val_iter = iter(mri_datamodule.val_dataloader())"
   ]
  },
  {
   "cell_type": "code",
   "execution_count": null,
   "id": "390a4e25-0ada-4aea-b418-c334694b04d5",
   "metadata": {},
   "outputs": [],
   "source": [
    "item = next(val_iter)\n",
    "print(item[0].shape)\n",
    "visualize(item[0], mae.net, imgname=\"val_example\")"
   ]
  },
  {
   "cell_type": "markdown",
   "id": "21eae25e-20da-43db-91b4-f33fc285f6d9",
   "metadata": {},
   "source": [
    "# Finetuning"
   ]
  },
  {
   "cell_type": "code",
   "execution_count": null,
   "id": "eaaf7ebe-7f48-452b-ab2d-db8a1341c9e2",
   "metadata": {},
   "outputs": [],
   "source": [
    "def scheduler_fn(optimizer):\n",
    "    return torch.optim.lr_scheduler.ConstantLR(optimizer, factor=1)\n",
    "def optim_fn(params):\n",
    "    global lr\n",
    "    return torch.optim.AdamW(params, lr=lr)\n",
    "def run_finetuning(mae_checkpoint, datamodule, num_classes, set_lr, eff_batch_size, num_epochs=1, device=0):\n",
    "    global lr\n",
    "    lr = set_lr\n",
    "    grad_acc = eff_batch_size // datamodule.batch_size\n",
    "    print(f\"Testing {mae_checkpoint} on task {datamodule.label} with lr={lr} and effective batch_size={datamodule.batch_size}*{grad_acc}={datamodule.batch_size*grad_acc}\")\n",
    "    ft_probe_model = ViTMAELinearProbingClassifier(\n",
    "        optimizer=optim_fn,\n",
    "        scheduler=scheduler_fn,\n",
    "        mae_checkpoint=mae_checkpoint,\n",
    "        num_classes=num_classes,\n",
    "        freeze_encoder=False,\n",
    "        mean_pooling=True\n",
    "    )\n",
    "    trainer = Trainer(max_epochs=num_epochs, accumulate_grad_batches=grad_acc, accelerator='gpu', devices=[device])\n",
    "    trainer.fit(ft_probe_model, datamodule.train_dataloader(), datamodule.val_dataloader())\n",
    "    return ft_probe_model"
   ]
  },
  {
   "cell_type": "code",
   "execution_count": null,
   "id": "c3fe3071-1d12-48a2-a419-8597b17b1d2d",
   "metadata": {},
   "outputs": [],
   "source": [
    "effective_batch_size = 64"
   ]
  },
  {
   "cell_type": "markdown",
   "id": "c4d5943d-ac88-42cd-b213-417c611d64d7",
   "metadata": {},
   "source": [
    "## Default Model"
   ]
  },
  {
   "cell_type": "code",
   "execution_count": null,
   "id": "813b43fd-d18e-4f05-8ffd-f1a740a53274",
   "metadata": {},
   "outputs": [],
   "source": [
    "mae_name = \"ViT-B-MAE/Default/epoch_009\"\n",
    "mae_checkpoint = f\"/home/buehlern/Documents/Masterarbeit/models/checkpoints/{mae_name}.ckpt\""
   ]
  },
  {
   "cell_type": "markdown",
   "id": "97352212-6cc4-4a99-b402-1277af251b36",
   "metadata": {},
   "source": [
    "### Bodypart classification"
   ]
  },
  {
   "cell_type": "code",
   "execution_count": null,
   "id": "2f3dc1db-8aa5-40d9-b082-9afd6b13ffc6",
   "metadata": {},
   "outputs": [],
   "source": [
    "label = \"bodypart\"\n",
    "# Bodypart Finetuning DataModule\n",
    "ft_bp_datamodule = MRIDataModule(\n",
    "    df_name=\"df_min_ft_pt_1k\",\n",
    "    label=label,\n",
    "    #pad_to_multiple_of=48,\n",
    "    batch_binning=\"smart\",\n",
    "    batch_bins=[1152, 1536, 1920, 2304, 2688, 3072],\n",
    "    batch_size=1,\n",
    "    num_workers=4,\n",
    "    persistent_workers=True,\n",
    "    pin_memory=True,\n",
    "    val_size=0.10,\n",
    "    test_size=0.15,\n",
    "    output_channels=1,\n",
    "    fix_inverted=True\n",
    ")\n",
    "num_classes = ft_bp_datamodule.dsbase.df[label].describe()[\"unique\"]\n",
    "print(f\"Label {label} has {num_classes} classes\")"
   ]
  },
  {
   "cell_type": "code",
   "execution_count": null,
   "id": "1272409f-24f6-4461-9084-b1f30475a3fc",
   "metadata": {
    "scrolled": true
   },
   "outputs": [],
   "source": [
    "train_lbl = ft_bp_datamodule.dsbase.df.iloc[ft_bp_datamodule.data_train.indices][\"fracture_bool\"]\n",
    "val_lbl = ft_bp_datamodule.dsbase.df.iloc[ft_bp_datamodule.data_val.indices][\"fracture_bool\"]\n",
    "test_lbl = ft_bp_datamodule.dsbase.df.iloc[ft_bp_datamodule.data_test.indices][\"fracture_bool\"]\n",
    "print(f\"Ratio of fracture in train data:\", train_lbl.sum() / len(train_lbl))\n",
    "print(f\"Ratio of fracture in val data:\", val_lbl.sum() / len(val_lbl))\n",
    "print(f\"Ratio of fracture in test data:\", test_lbl.sum() / len(test_lbl))"
   ]
  },
  {
   "cell_type": "markdown",
   "id": "cd8e7672-b20a-4239-859b-0ec988a89f91",
   "metadata": {},
   "source": [
    "#### HParam Search: Learning rate"
   ]
  },
  {
   "cell_type": "markdown",
   "id": "4789e925-261e-41b7-a40b-d22bc9b49103",
   "metadata": {},
   "source": [
    "Test learning rates 0.0001, 0.0003, 0.001, 0.003:"
   ]
  },
  {
   "cell_type": "code",
   "execution_count": null,
   "id": "fb2e6bdb-8832-4b2d-9b30-9b56197c40c0",
   "metadata": {},
   "outputs": [],
   "source": [
    "_ = ft_probe_model = run_finetuning(mae_checkpoint, ft_bp_datamodule, num_classes, 0.00001, effective_batch_size, num_epochs=10)"
   ]
  },
  {
   "cell_type": "code",
   "execution_count": null,
   "id": "bda08c90-d859-410c-9736-06262a784a93",
   "metadata": {},
   "outputs": [],
   "source": [
    "_ = ft_probe_model = run_finetuning(mae_checkpoint, ft_bp_datamodule, num_classes, 0.00003, effective_batch_size)"
   ]
  },
  {
   "cell_type": "code",
   "execution_count": null,
   "id": "1436cd4d-3514-4414-8779-8212f95725d4",
   "metadata": {},
   "outputs": [],
   "source": [
    "_ = ft_probe_model = run_finetuning(mae_checkpoint, ft_bp_datamodule, num_classes, 0.0001, effective_batch_size)"
   ]
  },
  {
   "cell_type": "code",
   "execution_count": null,
   "id": "7fdbf755-e5d2-40f4-92f2-701d051e40f2",
   "metadata": {},
   "outputs": [],
   "source": [
    "_ = run_finetuning(mae_checkpoint, ft_bp_datamodule, num_classes, 0.0003, effective_batch_size)"
   ]
  },
  {
   "cell_type": "code",
   "execution_count": null,
   "id": "b6519c5a-58c4-4d4f-99d8-4e831f2f5539",
   "metadata": {},
   "outputs": [],
   "source": [
    "_ = run_finetuning(mae_checkpoint, ft_bp_datamodule, num_classes, 0.001, effective_batch_size)"
   ]
  },
  {
   "cell_type": "code",
   "execution_count": null,
   "id": "155b269f-5655-4da9-850a-cb113752342f",
   "metadata": {},
   "outputs": [],
   "source": [
    "_ = run_finetuning(mae_checkpoint, ft_bp_datamodule, num_classes, 0.003, effective_batch_size)"
   ]
  },
  {
   "cell_type": "markdown",
   "id": "2e2de5dd-2aa1-425b-b414-67ff51906e77",
   "metadata": {},
   "source": [
    "#### Finetuning"
   ]
  },
  {
   "cell_type": "code",
   "execution_count": null,
   "id": "9a4dfce2-659b-4171-a3af-3a3e1df138d8",
   "metadata": {},
   "outputs": [],
   "source": [
    "best_lr = 0.00003"
   ]
  },
  {
   "cell_type": "code",
   "execution_count": null,
   "id": "c3e3c23c-bb2f-4af5-b0bc-e84999461dc9",
   "metadata": {},
   "outputs": [],
   "source": [
    "ft_probe_model = run_finetuning(mae_checkpoint, ft_bp_datamodule, num_classes, best_lr, effective_batch_size, num_epochs=30, device=0)"
   ]
  },
  {
   "cell_type": "code",
   "execution_count": null,
   "id": "d9ce2128-61eb-495f-abd2-191ca9c48e2d",
   "metadata": {},
   "outputs": [],
   "source": [
    "#val_iter = iter(ft_bp_datamodule.val_dataloader())\n",
    "#item = next(val_iter)\n",
    "#pred = ft_probe_model(item[0])\n",
    "#torch.nn.Softmax(pred)\n",
    "#torch.argmax(pred)"
   ]
  },
  {
   "cell_type": "markdown",
   "id": "2e970697-8511-4d6e-ac4a-dc7e02d4a941",
   "metadata": {},
   "source": [
    "### Fracture Detection"
   ]
  },
  {
   "cell_type": "code",
   "execution_count": null,
   "id": "418d0330-ea05-4246-ace5-0a32b43b2110",
   "metadata": {},
   "outputs": [],
   "source": [
    "label = \"fracture\"\n",
    "# Fracture Finetuning DataModule\n",
    "ft_frac_datamodule = MRIDataModule(\n",
    "    df_name=\"df_min_ft_pt_1k\",\n",
    "    label=label,\n",
    "    pad_to_multiple_of=48,\n",
    "    batch_size=1,\n",
    "    num_workers=1,\n",
    "    persistent_workers=True,\n",
    "    pin_memory=True,\n",
    "    val_size=0.10,\n",
    "    test_size=0.15,\n",
    "    output_channels=1,\n",
    "    fix_inverted=True\n",
    ")\n",
    "num_classes = ft_frac_datamodule.dsbase.df[label].describe()[\"unique\"]\n",
    "print(f\"Label {label} has {num_classes} classes\")"
   ]
  },
  {
   "cell_type": "code",
   "execution_count": null,
   "id": "8b4c7a21-0e50-433a-9825-071d824b48c7",
   "metadata": {},
   "outputs": [],
   "source": [
    "train_lbl = ft_frac_datamodule.dsbase.df.iloc[ft_frac_datamodule.data_train.indices][\"fracture_bool\"]\n",
    "val_lbl = ft_frac_datamodule.dsbase.df.iloc[ft_frac_datamodule.data_val.indices][\"fracture_bool\"]\n",
    "test_lbl = ft_frac_datamodule.dsbase.df.iloc[ft_frac_datamodule.data_test.indices][\"fracture_bool\"]\n",
    "print(f\"Ratio of fracture in train data:\", train_lbl.sum() / len(train_lbl))\n",
    "print(f\"Ratio of fracture in val data:\", val_lbl.sum() / len(val_lbl))\n",
    "print(f\"Ratio of fracture in test data:\", test_lbl.sum() / len(test_lbl))"
   ]
  },
  {
   "cell_type": "code",
   "execution_count": null,
   "id": "da1528ca-dc44-4ebb-86a0-0903348e3fa5",
   "metadata": {
    "scrolled": true
   },
   "outputs": [],
   "source": [
    "ft_frac_model = run_finetuning(mae_checkpoint, ft_frac_datamodule, num_classes, best_lr, effective_batch_size, num_epochs=30, device=0)"
   ]
  },
  {
   "cell_type": "markdown",
   "id": "fee76069-2d7c-4274-87ac-83843050ffb7",
   "metadata": {
    "jp-MarkdownHeadingCollapsed": true
   },
   "source": [
    "### Foreign Material Detection"
   ]
  },
  {
   "cell_type": "code",
   "execution_count": null,
   "id": "9bd70aeb-91c2-449b-9b1d-807494ca0946",
   "metadata": {},
   "outputs": [],
   "source": [
    "label = \"foreignmaterial\"\n",
    "# Fracture Finetuning DataModule\n",
    "ft_fm_datamodule = MRIDataModule(\n",
    "    df_name=\"df_min\",\n",
    "    label=label,\n",
    "    pad_to_multiple_of=48,\n",
    "    batch_size=1,\n",
    "    num_workers=1,\n",
    "    persistent_workers=True,\n",
    "    pin_memory=True,\n",
    "    val_size=0.10,\n",
    "    test_size=0.15,\n",
    "    output_channels=1,\n",
    "    fix_inverted=True\n",
    ")\n",
    "num_classes = ft_fm_datamodule.dsbase.df[label].describe()[\"unique\"]\n",
    "print(f\"Label {label} has {num_classes} classes\")"
   ]
  },
  {
   "cell_type": "code",
   "execution_count": null,
   "id": "d172e6d8-79be-4e49-9c70-89630b4812fb",
   "metadata": {},
   "outputs": [],
   "source": [
    "train_lbl = ft_fm_datamodule.dsbase.df.iloc[ft_fm_datamodule.data_train.indices][\"fracture_bool\"]\n",
    "val_lbl = ft_fm_datamodule.dsbase.df.iloc[ft_fm_datamodule.data_val.indices][\"fracture_bool\"]\n",
    "test_lbl = ft_fm_datamodule.dsbase.df.iloc[ft_fm_datamodule.data_test.indices][\"fracture_bool\"]\n",
    "print(f\"Ratio of fracture in train data:\", train_lbl.sum() / len(train_lbl))\n",
    "print(f\"Ratio of fracture in val data:\", val_lbl.sum() / len(val_lbl))\n",
    "print(f\"Ratio of fracture in test data:\", test_lbl.sum() / len(test_lbl))"
   ]
  },
  {
   "cell_type": "code",
   "execution_count": null,
   "id": "9fb1bb27-c649-4c3f-9bba-8e70ec340d8a",
   "metadata": {},
   "outputs": [],
   "source": [
    "ft_fm_model = run_finetuning(mae_checkpoint, ft_fm_datamodule, num_classes, best_lr, effective_batch_size, num_epochs=10)"
   ]
  },
  {
   "cell_type": "markdown",
   "id": "0275f68f-14c6-409d-9131-42587c54d631",
   "metadata": {
    "jp-MarkdownHeadingCollapsed": true
   },
   "source": [
    "## Downsampling Model"
   ]
  },
  {
   "cell_type": "code",
   "execution_count": null,
   "id": "f70df55d-1c21-463a-a6a9-56a4914640c8",
   "metadata": {},
   "outputs": [],
   "source": [
    "mae_name = \"ViT-L_MAE_FT-10k/downsampling\"\n",
    "mae_checkpoint = f\"/home/buehlern/Documents/Masterarbeit/models/checkpoints/{mae_name}.ckpt\""
   ]
  },
  {
   "cell_type": "markdown",
   "id": "e5e74dba-c7e1-4c02-a00c-6a14d6613066",
   "metadata": {},
   "source": [
    "### Bodypart classification"
   ]
  },
  {
   "cell_type": "code",
   "execution_count": null,
   "id": "13242d59-c4c9-44f0-8e58-2636adbf24ee",
   "metadata": {},
   "outputs": [],
   "source": [
    "ft_bp_model_downsampling = run_finetuning(mae_checkpoint, ft_bp_datamodule, num_classes, best_lr, effective_batch_size, num_epochs=10)"
   ]
  },
  {
   "cell_type": "markdown",
   "id": "0e91b090-3302-4b31-9bed-3f5f7a2f8ca6",
   "metadata": {},
   "source": [
    "### Fracture Detection"
   ]
  },
  {
   "cell_type": "code",
   "execution_count": null,
   "id": "1b2180ed-479d-4b0a-a3f6-dd63444d960d",
   "metadata": {},
   "outputs": [],
   "source": [
    "ft_frac_model_downsampling = run_finetuning(mae_checkpoint, ft_frac_datamodule, num_classes, best_lr, effective_batch_size, num_epochs=10)"
   ]
  },
  {
   "cell_type": "markdown",
   "id": "5ed24fb7-de53-48ee-a21f-5af14a2bdc7b",
   "metadata": {
    "jp-MarkdownHeadingCollapsed": true
   },
   "source": [
    "### Foreign Material Detection"
   ]
  },
  {
   "cell_type": "code",
   "execution_count": null,
   "id": "35072e6f-bc41-4003-9a80-ce57da0af00d",
   "metadata": {},
   "outputs": [],
   "source": [
    "label = \"foreignmaterial\"\n",
    "# Fracture Finetuning DataModule\n",
    "ft_fm_datamodule = MRIDataModule(\n",
    "    df_name=\"df_min_ft_pt_1k\",\n",
    "    label=label,\n",
    "    pad_to_multiple_of=48,\n",
    "    batch_size=1,\n",
    "    num_workers=1,\n",
    "    persistent_workers=True,\n",
    "    pin_memory=True,\n",
    "    val_size=0.10,\n",
    "    test_size=0.15,\n",
    "    output_channels=1,\n",
    "    fix_inverted=True\n",
    ")\n",
    "num_classes = ft_fm_datamodule.dsbase.df[label].describe()[\"unique\"]\n",
    "print(f\"Label {label} has {num_classes} classes\")"
   ]
  },
  {
   "cell_type": "code",
   "execution_count": null,
   "id": "3b7ab4e0-cd5c-4225-a7c2-2787fc339ce2",
   "metadata": {},
   "outputs": [],
   "source": [
    "train_lbl = ft_fm_datamodule.dsbase.df.iloc[ft_fm_datamodule.data_train.indices][\"fracture_bool\"]\n",
    "val_lbl = ft_fm_datamodule.dsbase.df.iloc[ft_fm_datamodule.data_val.indices][\"fracture_bool\"]\n",
    "test_lbl = ft_fm_datamodule.dsbase.df.iloc[ft_fm_datamodule.data_test.indices][\"fracture_bool\"]\n",
    "print(f\"Ratio of fracture in train data:\", train_lbl.sum() / len(train_lbl))\n",
    "print(f\"Ratio of fracture in val data:\", val_lbl.sum() / len(val_lbl))\n",
    "print(f\"Ratio of fracture in test data:\", test_lbl.sum() / len(test_lbl))"
   ]
  },
  {
   "cell_type": "code",
   "execution_count": null,
   "id": "32bdfdec-5db9-4748-bd0e-a3b413249e39",
   "metadata": {},
   "outputs": [],
   "source": [
    "ft_frac_model = run_finetuning(mae_checkpoint, ft_fm_datamodule, num_classes, best_lr, effective_batch_size, num_epochs=10)"
   ]
  },
  {
   "cell_type": "markdown",
   "id": "bdc178d8-bc8a-4eaf-83c4-8cf5f8659e1a",
   "metadata": {
    "jp-MarkdownHeadingCollapsed": true
   },
   "source": [
    "## Maskratio Model"
   ]
  },
  {
   "cell_type": "code",
   "execution_count": null,
   "id": "9f0fcd63-4505-41e4-b5a1-2ea8d0b959e8",
   "metadata": {},
   "outputs": [],
   "source": [
    "mae_name = \"ViT-L_MAE_FT-10k/maskratio\"\n",
    "mae_checkpoint = f\"/home/buehlern/Documents/Masterarbeit/models/checkpoints/{mae_name}.ckpt\""
   ]
  },
  {
   "cell_type": "markdown",
   "id": "cd3a504e-c482-491d-abfb-22e148defeec",
   "metadata": {},
   "source": [
    "### Bodypart classification"
   ]
  },
  {
   "cell_type": "code",
   "execution_count": null,
   "id": "aef01233-48b0-4379-9ca9-4977772f6d87",
   "metadata": {},
   "outputs": [],
   "source": [
    "ft_bp_model_maskratio = run_finetuning(mae_checkpoint, ft_bp_datamodule, num_classes, best_lr, effective_batch_size, num_epochs=10)"
   ]
  },
  {
   "cell_type": "markdown",
   "id": "1f9f375b-f0af-4b68-8270-ce6cdecc8bda",
   "metadata": {},
   "source": [
    "### Fracture Detection"
   ]
  },
  {
   "cell_type": "code",
   "execution_count": null,
   "id": "afa72687-c898-44f7-8808-6c9cabef8550",
   "metadata": {
    "scrolled": true
   },
   "outputs": [],
   "source": [
    "ft_frac_model_maskratio = run_finetuning(mae_checkpoint, ft_frac_datamodule, num_classes, best_lr, effective_batch_size, num_epochs=10)"
   ]
  },
  {
   "cell_type": "markdown",
   "id": "547a1449-d97c-451e-b824-1413d2178f8d",
   "metadata": {
    "jp-MarkdownHeadingCollapsed": true
   },
   "source": [
    "### Foreign Material Detection"
   ]
  },
  {
   "cell_type": "code",
   "execution_count": null,
   "id": "db37a168-2bd9-40a4-91a4-c5ac1cbf16ee",
   "metadata": {},
   "outputs": [],
   "source": [
    "label = \"foreignmaterial\"\n",
    "# Fracture Finetuning DataModule\n",
    "ft_fm_datamodule = MRIDataModule(\n",
    "    df_name=\"df_min_ft_pt_1k\",\n",
    "    label=label,\n",
    "    pad_to_multiple_of=48,\n",
    "    batch_size=1,\n",
    "    num_workers=1,\n",
    "    persistent_workers=True,\n",
    "    pin_memory=True,\n",
    "    val_size=0.10,\n",
    "    test_size=0.15,\n",
    "    output_channels=1,\n",
    "    fix_inverted=True\n",
    ")\n",
    "num_classes = ft_fm_datamodule.dsbase.df[label].describe()[\"unique\"]\n",
    "print(f\"Label {label} has {num_classes} classes\")"
   ]
  },
  {
   "cell_type": "code",
   "execution_count": null,
   "id": "2abe47dd-8bad-40fe-a5e2-a54080a17961",
   "metadata": {},
   "outputs": [],
   "source": [
    "train_lbl = ft_fm_datamodule.dsbase.df.iloc[ft_fm_datamodule.data_train.indices][\"fracture_bool\"]\n",
    "val_lbl = ft_fm_datamodule.dsbase.df.iloc[ft_fm_datamodule.data_val.indices][\"fracture_bool\"]\n",
    "test_lbl = ft_fm_datamodule.dsbase.df.iloc[ft_fm_datamodule.data_test.indices][\"fracture_bool\"]\n",
    "print(f\"Ratio of fracture in train data:\", train_lbl.sum() / len(train_lbl))\n",
    "print(f\"Ratio of fracture in val data:\", val_lbl.sum() / len(val_lbl))\n",
    "print(f\"Ratio of fracture in test data:\", test_lbl.sum() / len(test_lbl))"
   ]
  },
  {
   "cell_type": "code",
   "execution_count": null,
   "id": "daf39e43-f1ef-444e-90e2-eee43de4a500",
   "metadata": {},
   "outputs": [],
   "source": [
    "ft_frac_model = run_finetuning(mae_checkpoint, ft_fm_datamodule, num_classes, best_lr, effective_batch_size, num_epochs=10)"
   ]
  },
  {
   "cell_type": "markdown",
   "id": "1f6adc1e-cfce-465f-9357-d3b7247815d5",
   "metadata": {},
   "source": [
    "## Patch Size Model"
   ]
  },
  {
   "cell_type": "code",
   "execution_count": null,
   "id": "710d89e6-fc78-4f2f-8eed-48188f54b6ea",
   "metadata": {},
   "outputs": [],
   "source": [
    "mae_name = \"ViT-L_MAE_FT-10k/patchsize\"\n",
    "mae_checkpoint = f\"/home/buehlern/Documents/Masterarbeit/models/checkpoints/{mae_name}.ckpt\""
   ]
  },
  {
   "cell_type": "markdown",
   "id": "429c82f0-1023-4324-bc3d-9bf37f4d87d4",
   "metadata": {},
   "source": [
    "### Bodypart classification"
   ]
  },
  {
   "cell_type": "code",
   "execution_count": null,
   "id": "29e4521b-c5a2-40a0-843a-3a48413dfe07",
   "metadata": {},
   "outputs": [],
   "source": [
    "label = \"bodypart\"\n",
    "# Bodypart Finetuning DataModule, pad to multiple of new patch_size (32)\n",
    "ft_bp_datamodule = MRIDataModule(\n",
    "    df_name=\"df_min_ft_pt_1k\",\n",
    "    label=label,\n",
    "    pad_to_multiple_of=32,\n",
    "    batch_size=1,\n",
    "    num_workers=1,\n",
    "    persistent_workers=True,\n",
    "    pin_memory=True,\n",
    "    val_size=0.10,\n",
    "    test_size=0.15,\n",
    "    output_channels=1,\n",
    "    fix_inverted=True\n",
    ")\n",
    "num_classes = ft_bp_datamodule.dsbase.df[label].describe()[\"unique\"]\n",
    "print(f\"Label {label} has {num_classes} classes\")"
   ]
  },
  {
   "cell_type": "code",
   "execution_count": null,
   "id": "aa3e1d7e-7208-4b1e-b09a-f03e7bf2591e",
   "metadata": {},
   "outputs": [],
   "source": [
    "ft_bp_model_patchsize = run_finetuning(mae_checkpoint, ft_bp_datamodule, num_classes, best_lr, effective_batch_size, num_epochs=10)"
   ]
  },
  {
   "cell_type": "markdown",
   "id": "efe0f2b4-da18-4d91-b1a5-6bbee03fe2cc",
   "metadata": {},
   "source": [
    "### Fracture Detection"
   ]
  },
  {
   "cell_type": "code",
   "execution_count": null,
   "id": "201f8486-db63-4c1a-b591-a37734e672cd",
   "metadata": {},
   "outputs": [],
   "source": [
    "label = \"fracture\"\n",
    "# Fracture Finetuning DataModule, pad to multiple of new patch_size (32)\n",
    "ft_frac_datamodule = MRIDataModule(\n",
    "    df_name=\"df_min_ft_pt_1k\",\n",
    "    label=label,\n",
    "    pad_to_multiple_of=32,\n",
    "    batch_size=1,\n",
    "    num_workers=1,\n",
    "    persistent_workers=True,\n",
    "    pin_memory=True,\n",
    "    val_size=0.10,\n",
    "    test_size=0.15,\n",
    "    output_channels=1,\n",
    "    fix_inverted=True\n",
    ")\n",
    "num_classes = ft_frac_datamodule.dsbase.df[label].describe()[\"unique\"]\n",
    "print(f\"Label {label} has {num_classes} classes\")"
   ]
  },
  {
   "cell_type": "code",
   "execution_count": null,
   "id": "437301a1-07be-4ef4-95f2-dd1e416a7570",
   "metadata": {
    "scrolled": true
   },
   "outputs": [],
   "source": [
    "ft_frac_model_patchsize = run_finetuning(mae_checkpoint, ft_frac_datamodule, num_classes, best_lr, effective_batch_size, num_epochs=10)"
   ]
  },
  {
   "cell_type": "markdown",
   "id": "5ce5eef8-42b6-45ad-9b87-9e896591fec1",
   "metadata": {},
   "source": [
    "### Foreign Material Detection"
   ]
  },
  {
   "cell_type": "code",
   "execution_count": null,
   "id": "2d575027-f8b1-4677-8420-1af9e9f4ffeb",
   "metadata": {},
   "outputs": [],
   "source": [
    "label = \"foreignmaterial\"\n",
    "# Fracture Finetuning DataModule, pad to multiple of new patch_size (32)\n",
    "ft_fm_datamodule = MRIDataModule(\n",
    "    df_name=\"df_min_ft_pt_1k\",\n",
    "    label=label,\n",
    "    pad_to_multiple_of=32,\n",
    "    batch_size=1,\n",
    "    num_workers=1,\n",
    "    persistent_workers=True,\n",
    "    pin_memory=True,\n",
    "    val_size=0.10,\n",
    "    test_size=0.15,\n",
    "    output_channels=1,\n",
    "    fix_inverted=True\n",
    ")\n",
    "num_classes = ft_fm_datamodule.dsbase.df[label].describe()[\"unique\"]\n",
    "print(f\"Label {label} has {num_classes} classes\")"
   ]
  },
  {
   "cell_type": "code",
   "execution_count": null,
   "id": "64850b05-80ad-4e20-88aa-c02c9c4780cd",
   "metadata": {},
   "outputs": [],
   "source": [
    "train_lbl = ft_fm_datamodule.dsbase.df.iloc[ft_fm_datamodule.data_train.indices][\"fracture_bool\"]\n",
    "val_lbl = ft_fm_datamodule.dsbase.df.iloc[ft_fm_datamodule.data_val.indices][\"fracture_bool\"]\n",
    "test_lbl = ft_fm_datamodule.dsbase.df.iloc[ft_fm_datamodule.data_test.indices][\"fracture_bool\"]\n",
    "print(f\"Ratio of fracture in train data:\", train_lbl.sum() / len(train_lbl))\n",
    "print(f\"Ratio of fracture in val data:\", val_lbl.sum() / len(val_lbl))\n",
    "print(f\"Ratio of fracture in test data:\", test_lbl.sum() / len(test_lbl))"
   ]
  },
  {
   "cell_type": "code",
   "execution_count": null,
   "id": "1fd6da25-6471-49bf-84b9-e31c73568886",
   "metadata": {},
   "outputs": [],
   "source": [
    "ft_frac_model = run_finetuning(mae_checkpoint, ft_fm_datamodule, num_classes, best_lr, effective_batch_size, num_epochs=10)"
   ]
  }
 ],
 "metadata": {
  "kernelspec": {
   "display_name": "Python 3 (ipykernel)",
   "language": "python",
   "name": "python3"
  },
  "language_info": {
   "codemirror_mode": {
    "name": "ipython",
    "version": 3
   },
   "file_extension": ".py",
   "mimetype": "text/x-python",
   "name": "python",
   "nbconvert_exporter": "python",
   "pygments_lexer": "ipython3",
   "version": "3.10.12"
  }
 },
 "nbformat": 4,
 "nbformat_minor": 5
}
